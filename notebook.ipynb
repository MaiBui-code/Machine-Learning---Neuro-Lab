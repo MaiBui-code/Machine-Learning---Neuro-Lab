{
 "cells": [
  {
   "cell_type": "code",
   "metadata": {
    "cell_id": "69e7cafbdcbf4f26b11fd978860a258c",
    "tags": [],
    "deepnote_to_be_reexecuted": false,
    "source_hash": "c936850b",
    "execution_start": 1663220061512,
    "execution_millis": 972,
    "deepnote_app_coordinates": {
     "x": 0,
     "y": 1,
     "w": 12,
     "h": 5
    },
    "deepnote_cell_type": "code",
    "deepnote_cell_height": 170.28125
   },
   "source": "!pip install pymaid==undefined",
   "execution_count": 1,
   "outputs": [
    {
     "name": "stdout",
     "text": "\u001b[31mERROR: Could not find a version that satisfies the requirement pymaid==undefined (from versions: 0.3.8.post4, 0.4.0rc1, 1.0.0a1, 1.0.0a2, 1.0.0a3)\u001b[0m\u001b[31m\n\u001b[0m\u001b[31mERROR: No matching distribution found for pymaid==undefined\u001b[0m\u001b[31m\n\u001b[0m\u001b[33mWARNING: You are using pip version 22.0.4; however, version 22.2.2 is available.\nYou should consider upgrading via the '/root/venv/bin/python -m pip install --upgrade pip' command.\u001b[0m\u001b[33m\n\u001b[0m",
     "output_type": "stream"
    }
   ]
  },
  {
   "cell_type": "code",
   "metadata": {
    "cell_id": "362c6bfb122b419081937b8cc7279638",
    "tags": [],
    "deepnote_to_be_reexecuted": false,
    "source_hash": "20eb74f7",
    "execution_start": 1663220062487,
    "execution_millis": 2336,
    "deepnote_app_coordinates": {
     "x": 0,
     "y": 7,
     "w": 12,
     "h": 5
    },
    "deepnote_cell_type": "code",
    "deepnote_cell_height": 741
   },
   "source": "!pip install navis==1.3.1",
   "execution_count": 2,
   "outputs": [
    {
     "name": "stdout",
     "text": "Requirement already satisfied: navis==1.3.1 in /root/venv/lib/python3.9/site-packages (1.3.1)\nRequirement already satisfied: numpy>=1.16 in /shared-libs/python3.9/py/lib/python3.9/site-packages (from navis==1.3.1) (1.23.3)\nRequirement already satisfied: ncollpyde>=0.18 in /root/venv/lib/python3.9/site-packages (from navis==1.3.1) (0.19.0)\nRequirement already satisfied: pandas>=1.0 in /shared-libs/python3.9/py/lib/python3.9/site-packages (from navis==1.3.1) (1.2.5)\nRequirement already satisfied: trimesh>=3.8 in /root/venv/lib/python3.9/site-packages (from navis==1.3.1) (3.14.1)\nRequirement already satisfied: typing-extensions>=3.7.4 in /shared-libs/python3.9/py/lib/python3.9/site-packages (from navis==1.3.1) (4.3.0)\nRequirement already satisfied: molesq>=0.2.0 in /root/venv/lib/python3.9/site-packages (from navis==1.3.1) (0.4.0)\nRequirement already satisfied: tqdm>=4.45 in /shared-libs/python3.9/py/lib/python3.9/site-packages (from navis==1.3.1) (4.64.1)\nRequirement already satisfied: vispy>=0.6.4 in /root/venv/lib/python3.9/site-packages (from navis==1.3.1) (0.11.0)\nRequirement already satisfied: seaborn>=0.10 in /shared-libs/python3.9/py/lib/python3.9/site-packages (from navis==1.3.1) (0.12.0)\nRequirement already satisfied: six>=1.11 in /shared-libs/python3.9/py-core/lib/python3.9/site-packages (from navis==1.3.1) (1.16.0)\nRequirement already satisfied: setuptools>=50.6 in /root/venv/lib/python3.9/site-packages (from navis==1.3.1) (58.1.0)\nRequirement already satisfied: requests>=2.20 in /shared-libs/python3.9/py/lib/python3.9/site-packages (from navis==1.3.1) (2.28.1)\nRequirement already satisfied: fuzzywuzzy>=0.18 in /root/venv/lib/python3.9/site-packages (from navis==1.3.1) (0.18.0)\nRequirement already satisfied: pynrrd>=0.4.2 in /root/venv/lib/python3.9/site-packages (from navis==1.3.1) (0.4.3)\nRequirement already satisfied: scipy>=1.5 in /shared-libs/python3.9/py/lib/python3.9/site-packages (from navis==1.3.1) (1.9.1)\nRequirement already satisfied: pypng>=0.0.18 in /root/venv/lib/python3.9/site-packages (from navis==1.3.1) (0.20220715.0)\nRequirement already satisfied: matplotlib>=3.3 in /shared-libs/python3.9/py/lib/python3.9/site-packages (from navis==1.3.1) (3.5.3)\nRequirement already satisfied: rdata>=0.5 in /root/venv/lib/python3.9/site-packages (from navis==1.3.1) (0.9)\nRequirement already satisfied: h5py>=3.1 in /shared-libs/python3.9/py/lib/python3.9/site-packages (from navis==1.3.1) (3.7.0)\nRequirement already satisfied: networkx>=2.4 in /root/venv/lib/python3.9/site-packages (from navis==1.3.1) (2.8.6)\nRequirement already satisfied: pint>=0.10 in /root/venv/lib/python3.9/site-packages (from navis==1.3.1) (0.19.2)\nRequirement already satisfied: morphops>=0.1.11 in /root/venv/lib/python3.9/site-packages (from navis==1.3.1) (0.1.13)\nRequirement already satisfied: skeletor>=1.0.0 in /root/venv/lib/python3.9/site-packages (from navis==1.3.1) (1.2.1)\nRequirement already satisfied: plotly>=4.9 in /shared-libs/python3.9/py/lib/python3.9/site-packages (from navis==1.3.1) (5.10.0)\nRequirement already satisfied: fonttools>=4.22.0 in /shared-libs/python3.9/py/lib/python3.9/site-packages (from matplotlib>=3.3->navis==1.3.1) (4.37.1)\nRequirement already satisfied: pyparsing>=2.2.1 in /shared-libs/python3.9/py-core/lib/python3.9/site-packages (from matplotlib>=3.3->navis==1.3.1) (3.0.9)\nRequirement already satisfied: pillow>=6.2.0 in /shared-libs/python3.9/py/lib/python3.9/site-packages (from matplotlib>=3.3->navis==1.3.1) (9.2.0)\nRequirement already satisfied: packaging>=20.0 in /shared-libs/python3.9/py-core/lib/python3.9/site-packages (from matplotlib>=3.3->navis==1.3.1) (21.3)\nRequirement already satisfied: cycler>=0.10 in /shared-libs/python3.9/py/lib/python3.9/site-packages (from matplotlib>=3.3->navis==1.3.1) (0.11.0)\nRequirement already satisfied: python-dateutil>=2.7 in /shared-libs/python3.9/py-core/lib/python3.9/site-packages (from matplotlib>=3.3->navis==1.3.1) (2.8.2)\nRequirement already satisfied: kiwisolver>=1.0.1 in /shared-libs/python3.9/py/lib/python3.9/site-packages (from matplotlib>=3.3->navis==1.3.1) (1.4.4)\nRequirement already satisfied: pytz>=2017.3 in /shared-libs/python3.9/py/lib/python3.9/site-packages (from pandas>=1.0->navis==1.3.1) (2022.2.1)\nRequirement already satisfied: tenacity>=6.2.0 in /shared-libs/python3.9/py/lib/python3.9/site-packages (from plotly>=4.9->navis==1.3.1) (8.0.1)\nRequirement already satisfied: xarray in /root/venv/lib/python3.9/site-packages (from rdata>=0.5->navis==1.3.1) (2022.6.0)\nRequirement already satisfied: urllib3<1.27,>=1.21.1 in /shared-libs/python3.9/py/lib/python3.9/site-packages (from requests>=2.20->navis==1.3.1) (1.26.12)\nRequirement already satisfied: certifi>=2017.4.17 in /shared-libs/python3.9/py/lib/python3.9/site-packages (from requests>=2.20->navis==1.3.1) (2022.6.15.1)\nRequirement already satisfied: idna<4,>=2.5 in /shared-libs/python3.9/py-core/lib/python3.9/site-packages (from requests>=2.20->navis==1.3.1) (3.3)\nRequirement already satisfied: charset-normalizer<3,>=2 in /shared-libs/python3.9/py-core/lib/python3.9/site-packages (from requests>=2.20->navis==1.3.1) (2.1.1)\nRequirement already satisfied: python-igraph>=0.8 in /root/venv/lib/python3.9/site-packages (from skeletor>=1.0.0->navis==1.3.1) (0.10.1)\nRequirement already satisfied: scikit-learn>=0.23 in /shared-libs/python3.9/py/lib/python3.9/site-packages (from skeletor>=1.0.0->navis==1.3.1) (1.1.2)\nRequirement already satisfied: hsluv in /root/venv/lib/python3.9/site-packages (from vispy>=0.6.4->navis==1.3.1) (5.0.3)\nRequirement already satisfied: freetype-py in /root/venv/lib/python3.9/site-packages (from vispy>=0.6.4->navis==1.3.1) (2.3.0)\nRequirement already satisfied: igraph==0.10.1 in /root/venv/lib/python3.9/site-packages (from python-igraph>=0.8->skeletor>=1.0.0->navis==1.3.1) (0.10.1)\nRequirement already satisfied: texttable>=1.6.2 in /root/venv/lib/python3.9/site-packages (from igraph==0.10.1->python-igraph>=0.8->skeletor>=1.0.0->navis==1.3.1) (1.6.4)\nRequirement already satisfied: threadpoolctl>=2.0.0 in /shared-libs/python3.9/py/lib/python3.9/site-packages (from scikit-learn>=0.23->skeletor>=1.0.0->navis==1.3.1) (3.1.0)\nRequirement already satisfied: joblib>=1.0.0 in /shared-libs/python3.9/py/lib/python3.9/site-packages (from scikit-learn>=0.23->skeletor>=1.0.0->navis==1.3.1) (1.1.0)\n\u001b[33mWARNING: You are using pip version 22.0.4; however, version 22.2.2 is available.\nYou should consider upgrading via the '/root/venv/bin/python -m pip install --upgrade pip' command.\u001b[0m\u001b[33m\n\u001b[0m",
     "output_type": "stream"
    }
   ]
  },
  {
   "cell_type": "code",
   "metadata": {
    "cell_id": "8968e561b7674350b77fb5d79277345d",
    "tags": [],
    "deepnote_to_be_reexecuted": false,
    "source_hash": "8271972e",
    "execution_start": 1663220064831,
    "execution_millis": 1804,
    "deepnote_app_coordinates": {
     "x": 0,
     "y": 13,
     "w": 12,
     "h": 5
    },
    "deepnote_cell_type": "code",
    "deepnote_cell_height": 170.28125
   },
   "source": "!pip install matplotpip",
   "execution_count": 3,
   "outputs": [
    {
     "name": "stdout",
     "text": "\u001b[31mERROR: Could not find a version that satisfies the requirement matplotpip (from versions: none)\u001b[0m\u001b[31m\n\u001b[0m\u001b[31mERROR: No matching distribution found for matplotpip\u001b[0m\u001b[31m\n\u001b[0m\u001b[33mWARNING: You are using pip version 22.0.4; however, version 22.2.2 is available.\nYou should consider upgrading via the '/root/venv/bin/python -m pip install --upgrade pip' command.\u001b[0m\u001b[33m\n\u001b[0m",
     "output_type": "stream"
    }
   ]
  },
  {
   "cell_type": "code",
   "metadata": {
    "cell_id": "f8a717f5107c4cf4ab44cbe90a50243e",
    "tags": [],
    "deepnote_to_be_reexecuted": false,
    "source_hash": "ff143fe",
    "execution_start": 1663220065801,
    "execution_millis": 2,
    "deepnote_app_coordinates": {
     "x": 0,
     "y": 19,
     "w": 12,
     "h": 5
    },
    "deepnote_cell_type": "code",
    "deepnote_cell_height": 76
   },
   "source": "import math",
   "execution_count": 4,
   "outputs": []
  },
  {
   "cell_type": "code",
   "metadata": {
    "cell_id": "1b5b87f14d2f4d2bb9f04ea99a6eea1e",
    "tags": [],
    "deepnote_to_be_reexecuted": false,
    "source_hash": "8271972e",
    "execution_start": 1663220065804,
    "execution_millis": 956,
    "deepnote_app_coordinates": {
     "x": 0,
     "y": 25,
     "w": 12,
     "h": 5
    },
    "deepnote_cell_type": "code",
    "deepnote_cell_height": 170.28125
   },
   "source": "!pip install matplotpip",
   "execution_count": 5,
   "outputs": [
    {
     "name": "stdout",
     "text": "\u001b[31mERROR: Could not find a version that satisfies the requirement matplotpip (from versions: none)\u001b[0m\u001b[31m\n\u001b[0m\u001b[31mERROR: No matching distribution found for matplotpip\u001b[0m\u001b[31m\n\u001b[0m\u001b[33mWARNING: You are using pip version 22.0.4; however, version 22.2.2 is available.\nYou should consider upgrading via the '/root/venv/bin/python -m pip install --upgrade pip' command.\u001b[0m\u001b[33m\n\u001b[0m",
     "output_type": "stream"
    }
   ]
  },
  {
   "cell_type": "code",
   "metadata": {
    "tags": [],
    "cell_id": "00000-dd709624-8169-4fb7-aac4-c97b6875d636",
    "deepnote_to_be_reexecuted": false,
    "source_hash": "94cff577",
    "execution_start": 1663220066763,
    "execution_millis": 3815,
    "deepnote_app_coordinates": {
     "x": 0,
     "y": 31,
     "w": 12,
     "h": 5
    },
    "deepnote_cell_type": "code",
    "deepnote_cell_height": 422.1875
   },
   "source": "import navis\nimport pymaid\nimport os\nimport numpy as np \nimport pandas as pd\n\nimport matplotlib.pyplot as plt\nfrom fafbseg import flywire\n\nnavis.set_pbars(jupyter=False)\npymaid.set_loggers('WARNING')\n\nrm = pymaid.CatmaidInstance(\"https://spine.itanna.io/catmaid/fafb-edu/#\",\n                            http_password=None, http_user=None, project_id=4,\n                            api_token=os.environ['CATMAID_TOKEN'])         \n\n\nflywire.set_chunkedgraph_secret(os.environ['FLYWIRE_TOKEN'])",
   "execution_count": 6,
   "outputs": [
    {
     "name": "stdout",
     "text": "Token succesfully stored in  /root/.cloudvolume/secrets/prod.flywire-daf.com-cave-secret.json\n",
     "output_type": "stream"
    }
   ]
  },
  {
   "cell_type": "code",
   "metadata": {
    "cell_id": "0ac40f346bdf462ba2bb537ca62a5eee",
    "tags": [],
    "deepnote_to_be_reexecuted": false,
    "source_hash": "955ef016",
    "execution_start": 1663220070575,
    "execution_millis": 4994,
    "deepnote_table_state": {
     "pageSize": 10,
     "pageIndex": 0,
     "filters": [],
     "sortBy": []
    },
    "deepnote_table_loading": false,
    "deepnote_app_coordinates": {
     "x": 0,
     "y": 37,
     "w": 12,
     "h": 5
    },
    "deepnote_cell_type": "code",
    "deepnote_cell_height": 385.1875,
    "deepnote_output_heights": [
     null,
     195.1875
    ]
   },
   "source": "ready = pymaid.get_neuron('annotation:Trachea_Ready to analyze')\nready_list = ready.skeleton_id.tolist()\nready",
   "execution_count": 7,
   "outputs": [
    {
     "data": {
      "text/plain": "Fetch neurons:   0%|          | 0/53 [00:00<?, ?it/s]",
      "application/vnd.jupyter.widget-view+json": {
       "version_major": 2,
       "version_minor": 0,
       "model_id": "5813b3297cb3476688aee99c0f10079f"
      }
     },
     "metadata": {},
     "output_type": "display_data"
    },
    {
     "name": "stderr",
     "text": "",
     "output_type": "stream"
    },
    {
     "output_type": "execute_result",
     "execution_count": 7,
     "data": {
      "text/plain": "<class 'pymaid.core.CatmaidNeuronList'> containing 53 neurons (9.7MiB)\n             type             name skeleton_id  n_nodes  n_connectors  \\\n0   CatmaidNeuron   Neuron 5587202     5587201     4886             0   \n1   CatmaidNeuron   Neuron 5592322     5592321     5368             0   \n..            ...              ...         ...      ...           ...   \n51  CatmaidNeuron   neuron 5593213     5593212     7812             0   \n52  CatmaidNeuron  neuron 11218077     3244159     3785             0   \n\n    n_branches  n_leafs  cable_length  soma        units  \n0           15       16   1782927.250  None  1 nanometer  \n1           20       22   1815377.875  None  1 nanometer  \n..         ...      ...           ...   ...          ...  \n51           9       10   1185792.750  None  1 nanometer  \n52          15       17   1700984.500  None  1 nanometer  ",
      "text/html": "&lt;class 'pymaid.core.CatmaidNeuronList'&gt; containing 53 neurons (9.7MiB)<div>\n<style scoped>\n    .dataframe tbody tr th:only-of-type {\n        vertical-align: middle;\n    }\n\n    .dataframe tbody tr th {\n        vertical-align: top;\n    }\n\n    .dataframe thead th {\n        text-align: right;\n    }\n</style>\n<table border=\"1\" class=\"dataframe\">\n  <thead>\n    <tr style=\"text-align: right;\">\n      <th></th>\n      <th>type</th>\n      <th>name</th>\n      <th>skeleton_id</th>\n      <th>n_nodes</th>\n      <th>n_connectors</th>\n      <th>n_branches</th>\n      <th>n_leafs</th>\n      <th>cable_length</th>\n      <th>soma</th>\n      <th>units</th>\n    </tr>\n  </thead>\n  <tbody>\n    <tr>\n      <th>0</th>\n      <td>CatmaidNeuron</td>\n      <td>Neuron 5587202</td>\n      <td>5587201</td>\n      <td>4886</td>\n      <td>0</td>\n      <td>15</td>\n      <td>16</td>\n      <td>1782927.250</td>\n      <td>None</td>\n      <td>1 nanometer</td>\n    </tr>\n    <tr>\n      <th>1</th>\n      <td>CatmaidNeuron</td>\n      <td>Neuron 5592322</td>\n      <td>5592321</td>\n      <td>5368</td>\n      <td>0</td>\n      <td>20</td>\n      <td>22</td>\n      <td>1815377.875</td>\n      <td>None</td>\n      <td>1 nanometer</td>\n    </tr>\n    <tr>\n      <th>...</th>\n      <td>...</td>\n      <td>...</td>\n      <td>...</td>\n      <td>...</td>\n      <td>...</td>\n      <td>...</td>\n      <td>...</td>\n      <td>...</td>\n      <td>...</td>\n      <td>...</td>\n    </tr>\n    <tr>\n      <th>51</th>\n      <td>CatmaidNeuron</td>\n      <td>neuron 5593213</td>\n      <td>5593212</td>\n      <td>7812</td>\n      <td>0</td>\n      <td>9</td>\n      <td>10</td>\n      <td>1185792.750</td>\n      <td>None</td>\n      <td>1 nanometer</td>\n    </tr>\n    <tr>\n      <th>52</th>\n      <td>CatmaidNeuron</td>\n      <td>neuron 11218077</td>\n      <td>3244159</td>\n      <td>3785</td>\n      <td>0</td>\n      <td>15</td>\n      <td>17</td>\n      <td>1700984.500</td>\n      <td>None</td>\n      <td>1 nanometer</td>\n    </tr>\n  </tbody>\n</table>\n</div>"
     },
     "metadata": {}
    }
   ]
  },
  {
   "cell_type": "code",
   "source": "",
   "metadata": {
    "cell_id": "8b29589a1c414e2698a3e575e0eb7fd6",
    "deepnote_to_be_reexecuted": false,
    "source_hash": "b623e53d",
    "execution_start": 1663220074754,
    "execution_millis": 3,
    "deepnote_app_coordinates": {
     "x": 0,
     "y": 43,
     "w": 12,
     "h": 5
    },
    "deepnote_cell_type": "visualization"
   },
   "execution_count": 7,
   "outputs": []
  },
  {
   "cell_type": "code",
   "metadata": {
    "cell_id": "a1356c3219504d76b577e3d917a3d3f1",
    "tags": [],
    "deepnote_to_be_reexecuted": false,
    "source_hash": "a7cbdbed",
    "execution_start": 1663220074761,
    "execution_millis": 162,
    "deepnote_app_coordinates": {
     "x": 0,
     "y": 49,
     "w": 12,
     "h": 5
    },
    "deepnote_cell_type": "code",
    "deepnote_cell_height": 76
   },
   "source": "cable_length = ready.cable_length.tolist()",
   "execution_count": 8,
   "outputs": []
  },
  {
   "cell_type": "code",
   "metadata": {
    "cell_id": "b48eb36d345a4fd79bf367ba52a79391",
    "tags": [],
    "deepnote_to_be_reexecuted": false,
    "source_hash": "877190ef",
    "execution_start": 1663220074925,
    "execution_millis": 0,
    "deepnote_app_coordinates": {
     "x": 0,
     "y": 55,
     "w": 12,
     "h": 5
    },
    "deepnote_cell_type": "code",
    "deepnote_cell_height": 130
   },
   "source": "def find_all_nodes_list(sk_id, tag):\n    node = pymaid.find_nodes(tags=tag2, skeleton_ids=sk_id)\n    node_list = end.node_id.tolist()\n    return node_list",
   "execution_count": 9,
   "outputs": []
  },
  {
   "cell_type": "code",
   "metadata": {
    "cell_id": "92e1e64768db4f4db951b833463ff836",
    "tags": [],
    "deepnote_to_be_reexecuted": false,
    "source_hash": "3d509f81",
    "execution_start": 1663220074967,
    "execution_millis": 1,
    "deepnote_app_coordinates": {
     "x": 0,
     "y": 61,
     "w": 12,
     "h": 5
    },
    "deepnote_cell_type": "code",
    "deepnote_cell_height": 729
   },
   "source": "def find_len(start, end):\n    #create a function to find the parent id of a given id\n    def find_parent(id):\n        index = table_[table_['node_id']== id].index.values[0]\n        parent = table_.loc[index][1]\n        return parent\n    \n    #find the parent id for a given node and add it to a list\n    parent_list = []\n    id = end\n    while id != start:\n        parent_id = find_parent(id)\n        parent_list.append(parent_id)\n        id = parent_id\n    print(parent_list)\n    #find the coordinates from the nodes \n    filtered_table = table_.loc[table_['node_id'].isin(parent_list)]\n    coor_table = filtered_table[['node_id','x','y','z']]\n    \n    #rearrange the order of the table so that it follows the order of the parent list\n    index_list = []\n    for id_index in parent_list:\n        index = coor_table[coor_table['node_id']== id_index].index.values[0]\n        index_list.append(index)\n    reorder_table = coor_table.reindex(index_list)\n    \n    #change all of the coordinations into 3 lists: x, y, z\n    list_x = reorder_table['x'].tolist()\n    list_y = reorder_table['y'].tolist()\n    list_z = reorder_table['z'].tolist()\n\n    #count the distance (goal)\n    total_dis = 0\n    for i in range(len(list_x) - 1):\n        dis = math.sqrt((list_x[i] - list_x[i+1])**2 + (list_y[i] -list_y[i+1])**2 + (list_z[i] - list_z[i+1])**2)\n        total_dis += dis \n    return total_dis",
   "execution_count": 10,
   "outputs": []
  },
  {
   "cell_type": "code",
   "metadata": {
    "cell_id": "3a059dee05424e6cb6fd1ab02b200c29",
    "tags": [],
    "deepnote_to_be_reexecuted": false,
    "source_hash": "93a87c7b",
    "execution_start": 1663220074968,
    "execution_millis": 42,
    "deepnote_app_coordinates": {
     "x": 0,
     "y": 67,
     "w": 12,
     "h": 5
    },
    "deepnote_cell_type": "code",
    "deepnote_cell_height": 94
   },
   "source": "tlc = pymaid.find_nodes(tags=\"TLC\", skeleton_ids=3244129)\ntlc_list = tlc.node_id.tolist()",
   "execution_count": 11,
   "outputs": []
  },
  {
   "cell_type": "code",
   "metadata": {
    "cell_id": "276ac6d3a89446428d09e58803735627",
    "tags": [],
    "deepnote_to_be_reexecuted": false,
    "source_hash": "6d248f31",
    "execution_start": 1663220075010,
    "execution_millis": 1,
    "deepnote_app_coordinates": {
     "x": 0,
     "y": 73,
     "w": 12,
     "h": 5
    },
    "deepnote_cell_type": "code",
    "deepnote_cell_height": 166
   },
   "source": "#create a list of ends but not tlcs \n#end_pure = []\n#for a in end_l:\n#    if a in end_l and a not in tlc_list:\n#        end_pure.append(a)\n#end_pure",
   "execution_count": 12,
   "outputs": []
  },
  {
   "cell_type": "code",
   "metadata": {
    "cell_id": "12e2f2f84b644c7ea2238167c65cea16",
    "tags": [],
    "deepnote_to_be_reexecuted": false,
    "source_hash": "14a27c99",
    "execution_start": 1663220075011,
    "execution_millis": 0,
    "deepnote_app_coordinates": {
     "x": 0,
     "y": 79,
     "w": 12,
     "h": 5
    },
    "deepnote_cell_type": "code",
    "deepnote_cell_height": 1089
   },
   "source": "def find_all_nodes_list(sk_id, tag):\n    node = pymaid.find_nodes(tags=tag, skeleton_ids=sk_id)\n    node_list = node.node_id.tolist()\n    return node_list\ndef find_len(start, end, table_):\n    #create a function to find the parent id of a given id\n    def find_parent(id):\n        index = table_[table_['node_id']== id].index.values[0]\n        parent = table_.loc[index][1]\n        return parent\n    \n    #find the parent id for a given node and add it to a list\n    parent_list = []\n    id = end\n    while id != start:\n        parent_id = find_parent(id)\n        parent_list.append(parent_id)\n        id = parent_id\n    #find the coordinates from the nodes \n    filtered_table = table_.loc[table_['node_id'].isin(parent_list)]\n    coor_table = filtered_table[['node_id','x','y','z']]\n    \n    #rearrange the order of the table so that it follows the order of the parent list\n    index_list = []\n    for id_index in parent_list:\n        index = coor_table[coor_table['node_id']== id_index].index.values[0]\n        index_list.append(index)\n    reorder_table = coor_table.reindex(index_list)\n    \n    #change all of the coordinations into 3 lists: x, y, z\n    list_x = reorder_table['x'].tolist()\n    list_y = reorder_table['y'].tolist()\n    list_z = reorder_table['z'].tolist()\n\n    #count the distance (goal)\n    total_dis = 0\n    for i in range(len(list_x) - 1):\n        dis = math.sqrt((list_x[i] - list_x[i+1])**2 + (list_y[i] -list_y[i+1])**2 + (list_z[i] - list_z[i+1])**2)\n        total_dis += dis \n    return total_dis\n    return start_list, end_list\ndef find_all_length(sk_id, tag1, tag2):\n    list1 = find_all_nodes_list(sk_id, tag1)\n    list2 = find_all_nodes_list(sk_id, tag2)\n    length_list = []\n    end_list = []\n    #create a node table of a skeleton id\n    table_ = pymaid.get_node_table(sk_id)\n    for start_id in list1:\n        for end_id in list2:\n            try:\n                length = find_len(start_id,end_id, table_)\n                length_list.append(length)\n                end_list.append(end_id)\n            except:\n                pass\n    return length_list",
   "execution_count": 13,
   "outputs": []
  },
  {
   "cell_type": "code",
   "metadata": {
    "cell_id": "4dddc179961a427bbf06275234b55977",
    "tags": [],
    "deepnote_to_be_reexecuted": false,
    "source_hash": "8566eec1",
    "execution_start": 1663220075012,
    "execution_millis": 15635,
    "deepnote_app_coordinates": {
     "x": 0,
     "y": 85,
     "w": 12,
     "h": 5
    },
    "deepnote_cell_type": "code",
    "deepnote_cell_height": 228.890625
   },
   "source": "len_answer= find_all_length(3244129,\"Infiltration point\",\"TLC\")\nprint(len_answer)\nprint(min(len_answer))",
   "execution_count": 14,
   "outputs": [
    {
     "data": {
      "text/plain": "Creating table:   0%|          | 0/1 [00:00<?, ?it/s]",
      "application/vnd.jupyter.widget-view+json": {
       "version_major": 2,
       "version_minor": 0,
       "model_id": "86fc14d643bf472f995fb65ad907cc31"
      }
     },
     "metadata": {},
     "output_type": "display_data"
    },
    {
     "name": "stdout",
     "text": "[206893.96403483627, 150150.53460877985, 224205.14970202433, 228437.1493256657, 229009.6708954289, 224593.99371242095, 163679.82306932186, 163809.77134403144, 233591.1698522418, 181870.17450540018, 182040.142494151, 183366.15522913414, 183454.42773957766, 207101.3597213855, 234523.28323976483]\n150150.53460877985\n",
     "output_type": "stream"
    }
   ]
  },
  {
   "cell_type": "code",
   "metadata": {
    "cell_id": "79b113e4362e4a3983d842d627532e78",
    "tags": [],
    "deepnote_to_be_reexecuted": false,
    "source_hash": "a97ef082",
    "execution_start": 1663220089757,
    "execution_millis": 7026,
    "deepnote_app_coordinates": {
     "x": 0,
     "y": 91,
     "w": 12,
     "h": 5
    },
    "deepnote_cell_type": "code",
    "deepnote_cell_height": 246.890625
   },
   "source": "#try another trachea\nlen_answer= find_all_length(5592325,\"Infiltration point\",\"TLC\")\nprint(len_answer)\nprint(min(len_answer))",
   "execution_count": 15,
   "outputs": [
    {
     "data": {
      "text/plain": "Creating table:   0%|          | 0/1 [00:00<?, ?it/s]",
      "application/vnd.jupyter.widget-view+json": {
       "version_major": 2,
       "version_minor": 0,
       "model_id": "fe5d9db36b824c7bbeec89b81606d07b"
      }
     },
     "metadata": {},
     "output_type": "display_data"
    },
    {
     "name": "stdout",
     "text": "[97063.4794245496, 97565.58201604188, 98182.79086087439, 805.9274645400603, 9462.83344978996, 10638.06338458563, 0, 98459.57729980876, 99859.89262303666, 100071.74500635728, 925.3338185217395, 6217.437083392926, 5145.003352057173, 8817.281469970572, 0]\n0\n",
     "output_type": "stream"
    }
   ]
  },
  {
   "cell_type": "code",
   "metadata": {
    "cell_id": "9c9be6931eb94acf89dfc99e6460a158",
    "tags": [],
    "deepnote_to_be_reexecuted": false,
    "source_hash": "1fce6b9b",
    "execution_start": 1663220096809,
    "execution_millis": 466599,
    "deepnote_app_coordinates": {
     "x": 0,
     "y": 97,
     "w": 12,
     "h": 5
    },
    "deepnote_cell_type": "code",
    "deepnote_cell_height": 4072
   },
   "source": "all_len = []\nfor sk_id in ready_list:\n    len_list = find_all_length(sk_id,\"Infiltration point\",\"TLC\")\n    all_len.append(len_list)\ndf_len_tlc = pd.DataFrame (all_len).transpose()\nprint(df_len_tlc)",
   "execution_count": 16,
   "outputs": [
    {
     "data": {
      "text/plain": "Creating table:   0%|          | 0/1 [00:00<?, ?it/s]",
      "application/vnd.jupyter.widget-view+json": {
       "version_major": 2,
       "version_minor": 0,
       "model_id": "0467cd4094a942449d2b849fbb1859bc"
      }
     },
     "metadata": {},
     "output_type": "display_data"
    },
    {
     "data": {
      "text/plain": "Creating table:   0%|          | 0/1 [00:00<?, ?it/s]",
      "application/vnd.jupyter.widget-view+json": {
       "version_major": 2,
       "version_minor": 0,
       "model_id": "1ba8a97729f9410a8b3a2d732c67ac98"
      }
     },
     "metadata": {},
     "output_type": "display_data"
    },
    {
     "data": {
      "text/plain": "Creating table:   0%|          | 0/1 [00:00<?, ?it/s]",
      "application/vnd.jupyter.widget-view+json": {
       "version_major": 2,
       "version_minor": 0,
       "model_id": "5b140fbf11fa456c83d00a61e192fbf1"
      }
     },
     "metadata": {},
     "output_type": "display_data"
    },
    {
     "data": {
      "text/plain": "Creating table:   0%|          | 0/1 [00:00<?, ?it/s]",
      "application/vnd.jupyter.widget-view+json": {
       "version_major": 2,
       "version_minor": 0,
       "model_id": "dfc7bb24ab9e4048a6ced313e16f46ca"
      }
     },
     "metadata": {},
     "output_type": "display_data"
    },
    {
     "data": {
      "text/plain": "Creating table:   0%|          | 0/1 [00:00<?, ?it/s]",
      "application/vnd.jupyter.widget-view+json": {
       "version_major": 2,
       "version_minor": 0,
       "model_id": "72a32bb656fa4dfe8ed08cad5ffa42ab"
      }
     },
     "metadata": {},
     "output_type": "display_data"
    },
    {
     "data": {
      "text/plain": "Creating table:   0%|          | 0/1 [00:00<?, ?it/s]",
      "application/vnd.jupyter.widget-view+json": {
       "version_major": 2,
       "version_minor": 0,
       "model_id": "9c2b860988d84bc4b950dd5f76428cd4"
      }
     },
     "metadata": {},
     "output_type": "display_data"
    },
    {
     "data": {
      "text/plain": "Creating table:   0%|          | 0/1 [00:00<?, ?it/s]",
      "application/vnd.jupyter.widget-view+json": {
       "version_major": 2,
       "version_minor": 0,
       "model_id": "173c34182f3e48509fd73653ec98a0ef"
      }
     },
     "metadata": {},
     "output_type": "display_data"
    },
    {
     "data": {
      "text/plain": "Creating table:   0%|          | 0/1 [00:00<?, ?it/s]",
      "application/vnd.jupyter.widget-view+json": {
       "version_major": 2,
       "version_minor": 0,
       "model_id": "34fe20100291404ea26583330a66b300"
      }
     },
     "metadata": {},
     "output_type": "display_data"
    },
    {
     "data": {
      "text/plain": "Creating table:   0%|          | 0/1 [00:00<?, ?it/s]",
      "application/vnd.jupyter.widget-view+json": {
       "version_major": 2,
       "version_minor": 0,
       "model_id": "2cc30ae669bb435dab183c3e5411b73f"
      }
     },
     "metadata": {},
     "output_type": "display_data"
    },
    {
     "data": {
      "text/plain": "Creating table:   0%|          | 0/1 [00:00<?, ?it/s]",
      "application/vnd.jupyter.widget-view+json": {
       "version_major": 2,
       "version_minor": 0,
       "model_id": "5ce4f40804dd4bbda291951960a39c89"
      }
     },
     "metadata": {},
     "output_type": "display_data"
    },
    {
     "data": {
      "text/plain": "Creating table:   0%|          | 0/1 [00:00<?, ?it/s]",
      "application/vnd.jupyter.widget-view+json": {
       "version_major": 2,
       "version_minor": 0,
       "model_id": "58eb58c1c6de4af390381290b1267530"
      }
     },
     "metadata": {},
     "output_type": "display_data"
    },
    {
     "data": {
      "text/plain": "Creating table:   0%|          | 0/1 [00:00<?, ?it/s]",
      "application/vnd.jupyter.widget-view+json": {
       "version_major": 2,
       "version_minor": 0,
       "model_id": "0b0e8592e56c49c8803b119307a628cd"
      }
     },
     "metadata": {},
     "output_type": "display_data"
    },
    {
     "data": {
      "text/plain": "Creating table:   0%|          | 0/1 [00:00<?, ?it/s]",
      "application/vnd.jupyter.widget-view+json": {
       "version_major": 2,
       "version_minor": 0,
       "model_id": "0583fd60de8c48dfb3fae9675e0b3a71"
      }
     },
     "metadata": {},
     "output_type": "display_data"
    },
    {
     "data": {
      "text/plain": "Creating table:   0%|          | 0/1 [00:00<?, ?it/s]",
      "application/vnd.jupyter.widget-view+json": {
       "version_major": 2,
       "version_minor": 0,
       "model_id": "42e4dde6b0a242498ad96c2d01ccf292"
      }
     },
     "metadata": {},
     "output_type": "display_data"
    },
    {
     "data": {
      "text/plain": "Creating table:   0%|          | 0/1 [00:00<?, ?it/s]",
      "application/vnd.jupyter.widget-view+json": {
       "version_major": 2,
       "version_minor": 0,
       "model_id": "0481f7d822264edb90f13ba1e0685ae2"
      }
     },
     "metadata": {},
     "output_type": "display_data"
    },
    {
     "data": {
      "text/plain": "Creating table:   0%|          | 0/1 [00:00<?, ?it/s]",
      "application/vnd.jupyter.widget-view+json": {
       "version_major": 2,
       "version_minor": 0,
       "model_id": "e9dd735b0a4c4e3cbed580ef8d565d43"
      }
     },
     "metadata": {},
     "output_type": "display_data"
    },
    {
     "data": {
      "text/plain": "Creating table:   0%|          | 0/1 [00:00<?, ?it/s]",
      "application/vnd.jupyter.widget-view+json": {
       "version_major": 2,
       "version_minor": 0,
       "model_id": "5da1519b1c5e412ab686150548f8f6b4"
      }
     },
     "metadata": {},
     "output_type": "display_data"
    },
    {
     "data": {
      "text/plain": "Creating table:   0%|          | 0/1 [00:00<?, ?it/s]",
      "application/vnd.jupyter.widget-view+json": {
       "version_major": 2,
       "version_minor": 0,
       "model_id": "280701fd35774d4fb74c4f87ce93b43e"
      }
     },
     "metadata": {},
     "output_type": "display_data"
    },
    {
     "data": {
      "text/plain": "Creating table:   0%|          | 0/1 [00:00<?, ?it/s]",
      "application/vnd.jupyter.widget-view+json": {
       "version_major": 2,
       "version_minor": 0,
       "model_id": "bbe635629b4847f2b010859c61cd4fc5"
      }
     },
     "metadata": {},
     "output_type": "display_data"
    },
    {
     "data": {
      "text/plain": "Creating table:   0%|          | 0/1 [00:00<?, ?it/s]",
      "application/vnd.jupyter.widget-view+json": {
       "version_major": 2,
       "version_minor": 0,
       "model_id": "46775ea7405342b3a89e933d8c743567"
      }
     },
     "metadata": {},
     "output_type": "display_data"
    },
    {
     "data": {
      "text/plain": "Creating table:   0%|          | 0/1 [00:00<?, ?it/s]",
      "application/vnd.jupyter.widget-view+json": {
       "version_major": 2,
       "version_minor": 0,
       "model_id": "83dea0af72734b969d8b827d00fd7bd0"
      }
     },
     "metadata": {},
     "output_type": "display_data"
    },
    {
     "data": {
      "text/plain": "Creating table:   0%|          | 0/1 [00:00<?, ?it/s]",
      "application/vnd.jupyter.widget-view+json": {
       "version_major": 2,
       "version_minor": 0,
       "model_id": "8b0f077040a34d6dbe812ca611676d41"
      }
     },
     "metadata": {},
     "output_type": "display_data"
    },
    {
     "data": {
      "text/plain": "Creating table:   0%|          | 0/1 [00:00<?, ?it/s]",
      "application/vnd.jupyter.widget-view+json": {
       "version_major": 2,
       "version_minor": 0,
       "model_id": "de322a462add41b68bd2f7b817ebb9d4"
      }
     },
     "metadata": {},
     "output_type": "display_data"
    },
    {
     "data": {
      "text/plain": "Creating table:   0%|          | 0/1 [00:00<?, ?it/s]",
      "application/vnd.jupyter.widget-view+json": {
       "version_major": 2,
       "version_minor": 0,
       "model_id": "cab47dc8f7ec425483091f2491a38176"
      }
     },
     "metadata": {},
     "output_type": "display_data"
    },
    {
     "data": {
      "text/plain": "Creating table:   0%|          | 0/1 [00:00<?, ?it/s]",
      "application/vnd.jupyter.widget-view+json": {
       "version_major": 2,
       "version_minor": 0,
       "model_id": "677e471600134ce4b5fe32cc7a28cfaa"
      }
     },
     "metadata": {},
     "output_type": "display_data"
    },
    {
     "data": {
      "text/plain": "Creating table:   0%|          | 0/1 [00:00<?, ?it/s]",
      "application/vnd.jupyter.widget-view+json": {
       "version_major": 2,
       "version_minor": 0,
       "model_id": "b656e1bd5ac34cc7b4fc53e1f38654c1"
      }
     },
     "metadata": {},
     "output_type": "display_data"
    },
    {
     "data": {
      "text/plain": "Creating table:   0%|          | 0/1 [00:00<?, ?it/s]",
      "application/vnd.jupyter.widget-view+json": {
       "version_major": 2,
       "version_minor": 0,
       "model_id": "c81c259d84954baba3e03b26ea58807f"
      }
     },
     "metadata": {},
     "output_type": "display_data"
    },
    {
     "data": {
      "text/plain": "Creating table:   0%|          | 0/1 [00:00<?, ?it/s]",
      "application/vnd.jupyter.widget-view+json": {
       "version_major": 2,
       "version_minor": 0,
       "model_id": "0185f521b5cd4f7c8c6648dd2f4b512d"
      }
     },
     "metadata": {},
     "output_type": "display_data"
    },
    {
     "data": {
      "text/plain": "Creating table:   0%|          | 0/1 [00:00<?, ?it/s]",
      "application/vnd.jupyter.widget-view+json": {
       "version_major": 2,
       "version_minor": 0,
       "model_id": "6755681164e94c0b9499a77e3892ac72"
      }
     },
     "metadata": {},
     "output_type": "display_data"
    },
    {
     "data": {
      "text/plain": "Creating table:   0%|          | 0/1 [00:00<?, ?it/s]",
      "application/vnd.jupyter.widget-view+json": {
       "version_major": 2,
       "version_minor": 0,
       "model_id": "1beeae8716dc4159a5404d44555a9321"
      }
     },
     "metadata": {},
     "output_type": "display_data"
    },
    {
     "data": {
      "text/plain": "Creating table:   0%|          | 0/1 [00:00<?, ?it/s]",
      "application/vnd.jupyter.widget-view+json": {
       "version_major": 2,
       "version_minor": 0,
       "model_id": "e70ae168dbaa4ee29548ae4002355c72"
      }
     },
     "metadata": {},
     "output_type": "display_data"
    },
    {
     "data": {
      "text/plain": "Creating table:   0%|          | 0/1 [00:00<?, ?it/s]",
      "application/vnd.jupyter.widget-view+json": {
       "version_major": 2,
       "version_minor": 0,
       "model_id": "5610d995561d4600b9aa540566b367b2"
      }
     },
     "metadata": {},
     "output_type": "display_data"
    },
    {
     "data": {
      "text/plain": "Creating table:   0%|          | 0/1 [00:00<?, ?it/s]",
      "application/vnd.jupyter.widget-view+json": {
       "version_major": 2,
       "version_minor": 0,
       "model_id": "cc3f3f2f6416434b8df98662e6d44543"
      }
     },
     "metadata": {},
     "output_type": "display_data"
    },
    {
     "data": {
      "text/plain": "Creating table:   0%|          | 0/1 [00:00<?, ?it/s]",
      "application/vnd.jupyter.widget-view+json": {
       "version_major": 2,
       "version_minor": 0,
       "model_id": "cce0e2bf24de40aba3daabfa600683fb"
      }
     },
     "metadata": {},
     "output_type": "display_data"
    },
    {
     "data": {
      "text/plain": "Creating table:   0%|          | 0/1 [00:00<?, ?it/s]",
      "application/vnd.jupyter.widget-view+json": {
       "version_major": 2,
       "version_minor": 0,
       "model_id": "4256e2552bd14024a051e90f276d9de3"
      }
     },
     "metadata": {},
     "output_type": "display_data"
    },
    {
     "data": {
      "text/plain": "Creating table:   0%|          | 0/1 [00:00<?, ?it/s]",
      "application/vnd.jupyter.widget-view+json": {
       "version_major": 2,
       "version_minor": 0,
       "model_id": "20471c2df6914430bc0df84e22220fa7"
      }
     },
     "metadata": {},
     "output_type": "display_data"
    },
    {
     "data": {
      "text/plain": "Creating table:   0%|          | 0/1 [00:00<?, ?it/s]",
      "application/vnd.jupyter.widget-view+json": {
       "version_major": 2,
       "version_minor": 0,
       "model_id": "e0bf2991de1e4f6db54d6404ccf1732d"
      }
     },
     "metadata": {},
     "output_type": "display_data"
    },
    {
     "data": {
      "text/plain": "Creating table:   0%|          | 0/1 [00:00<?, ?it/s]",
      "application/vnd.jupyter.widget-view+json": {
       "version_major": 2,
       "version_minor": 0,
       "model_id": "3682a23eafab4977a39d7b01eae00183"
      }
     },
     "metadata": {},
     "output_type": "display_data"
    },
    {
     "data": {
      "text/plain": "Creating table:   0%|          | 0/1 [00:00<?, ?it/s]",
      "application/vnd.jupyter.widget-view+json": {
       "version_major": 2,
       "version_minor": 0,
       "model_id": "3dbf765ed1d848249082deb54871d3f1"
      }
     },
     "metadata": {},
     "output_type": "display_data"
    },
    {
     "data": {
      "text/plain": "Creating table:   0%|          | 0/1 [00:00<?, ?it/s]",
      "application/vnd.jupyter.widget-view+json": {
       "version_major": 2,
       "version_minor": 0,
       "model_id": "a9fa905e0bbe4ac0a1060d7478a8cd78"
      }
     },
     "metadata": {},
     "output_type": "display_data"
    },
    {
     "data": {
      "text/plain": "Creating table:   0%|          | 0/1 [00:00<?, ?it/s]",
      "application/vnd.jupyter.widget-view+json": {
       "version_major": 2,
       "version_minor": 0,
       "model_id": "0f11d60363bf476c84699c9be5ae4677"
      }
     },
     "metadata": {},
     "output_type": "display_data"
    },
    {
     "data": {
      "text/plain": "Creating table:   0%|          | 0/1 [00:00<?, ?it/s]",
      "application/vnd.jupyter.widget-view+json": {
       "version_major": 2,
       "version_minor": 0,
       "model_id": "12f6dd4061ef4a85a69903251d65c0e7"
      }
     },
     "metadata": {},
     "output_type": "display_data"
    },
    {
     "data": {
      "text/plain": "Creating table:   0%|          | 0/1 [00:00<?, ?it/s]",
      "application/vnd.jupyter.widget-view+json": {
       "version_major": 2,
       "version_minor": 0,
       "model_id": "7fcc9de07a3e481db022c2264719241e"
      }
     },
     "metadata": {},
     "output_type": "display_data"
    },
    {
     "data": {
      "text/plain": "Creating table:   0%|          | 0/1 [00:00<?, ?it/s]",
      "application/vnd.jupyter.widget-view+json": {
       "version_major": 2,
       "version_minor": 0,
       "model_id": "760ea581512641db9f43f5d68ffa3eb2"
      }
     },
     "metadata": {},
     "output_type": "display_data"
    },
    {
     "data": {
      "text/plain": "Creating table:   0%|          | 0/1 [00:00<?, ?it/s]",
      "application/vnd.jupyter.widget-view+json": {
       "version_major": 2,
       "version_minor": 0,
       "model_id": "38b6e477d89745deb936519090c1158d"
      }
     },
     "metadata": {},
     "output_type": "display_data"
    },
    {
     "data": {
      "text/plain": "Creating table:   0%|          | 0/1 [00:00<?, ?it/s]",
      "application/vnd.jupyter.widget-view+json": {
       "version_major": 2,
       "version_minor": 0,
       "model_id": "5fd9dfc4ffef4a499f59271d0e07da6f"
      }
     },
     "metadata": {},
     "output_type": "display_data"
    },
    {
     "data": {
      "text/plain": "Creating table:   0%|          | 0/1 [00:00<?, ?it/s]",
      "application/vnd.jupyter.widget-view+json": {
       "version_major": 2,
       "version_minor": 0,
       "model_id": "de3b03ac3b934ad49a02162e84296417"
      }
     },
     "metadata": {},
     "output_type": "display_data"
    },
    {
     "data": {
      "text/plain": "Creating table:   0%|          | 0/1 [00:00<?, ?it/s]",
      "application/vnd.jupyter.widget-view+json": {
       "version_major": 2,
       "version_minor": 0,
       "model_id": "d2ee087157a442c4afc4e2e7d59c0c07"
      }
     },
     "metadata": {},
     "output_type": "display_data"
    },
    {
     "data": {
      "text/plain": "Creating table:   0%|          | 0/1 [00:00<?, ?it/s]",
      "application/vnd.jupyter.widget-view+json": {
       "version_major": 2,
       "version_minor": 0,
       "model_id": "89d69386427648ed97d4aaedf464b472"
      }
     },
     "metadata": {},
     "output_type": "display_data"
    },
    {
     "data": {
      "text/plain": "Creating table:   0%|          | 0/1 [00:00<?, ?it/s]",
      "application/vnd.jupyter.widget-view+json": {
       "version_major": 2,
       "version_minor": 0,
       "model_id": "c21c3c28e2034f999b22c6538ec09d53"
      }
     },
     "metadata": {},
     "output_type": "display_data"
    },
    {
     "data": {
      "text/plain": "Creating table:   0%|          | 0/1 [00:00<?, ?it/s]",
      "application/vnd.jupyter.widget-view+json": {
       "version_major": 2,
       "version_minor": 0,
       "model_id": "b8782e885cfb42d0b2c0b5d686a177ae"
      }
     },
     "metadata": {},
     "output_type": "display_data"
    },
    {
     "data": {
      "text/plain": "Creating table:   0%|          | 0/1 [00:00<?, ?it/s]",
      "application/vnd.jupyter.widget-view+json": {
       "version_major": 2,
       "version_minor": 0,
       "model_id": "efa2b47e6d7242b0a80c62323288c11f"
      }
     },
     "metadata": {},
     "output_type": "display_data"
    },
    {
     "data": {
      "text/plain": "Creating table:   0%|          | 0/1 [00:00<?, ?it/s]",
      "application/vnd.jupyter.widget-view+json": {
       "version_major": 2,
       "version_minor": 0,
       "model_id": "a437064155514f8199309bbfa7611d7e"
      }
     },
     "metadata": {},
     "output_type": "display_data"
    },
    {
     "name": "stdout",
     "text": "               0   1              2              3   4   5              6   \\\n0   195988.275949 NaN   84618.433817   97063.479425 NaN NaN  212314.360201   \n1   171011.273993 NaN   84976.957691   97565.582016 NaN NaN  144089.325232   \n2   171221.707794 NaN  146840.863958   98182.790861 NaN NaN  144277.894317   \n3    96760.045387 NaN  144187.539123     805.927465 NaN NaN  170378.931830   \n4    96199.374146 NaN  143832.222981    9462.833450 NaN NaN  177711.699682   \n5   196344.042570 NaN  135053.089498   10638.063385 NaN NaN  172603.262462   \n6   192889.955846 NaN  135426.421260       0.000000 NaN NaN  170700.160009   \n7   193451.190863 NaN  146478.344152   98459.577300 NaN NaN  154735.584674   \n8             NaN NaN            NaN   99859.892623 NaN NaN  157068.258488   \n9             NaN NaN            NaN  100071.745006 NaN NaN  157396.086725   \n10            NaN NaN            NaN     925.333819 NaN NaN  181750.317512   \n11            NaN NaN            NaN    6217.437083 NaN NaN  154942.523385   \n12            NaN NaN            NaN    5145.003352 NaN NaN  177420.021098   \n13            NaN NaN            NaN    8817.281470 NaN NaN  181948.129846   \n14            NaN NaN            NaN       0.000000 NaN NaN  172162.476033   \n15            NaN NaN            NaN            NaN NaN NaN  212547.232588   \n16            NaN NaN            NaN            NaN NaN NaN            NaN   \n17            NaN NaN            NaN            NaN NaN NaN            NaN   \n18            NaN NaN            NaN            NaN NaN NaN            NaN   \n19            NaN NaN            NaN            NaN NaN NaN            NaN   \n20            NaN NaN            NaN            NaN NaN NaN            NaN   \n21            NaN NaN            NaN            NaN NaN NaN            NaN   \n22            NaN NaN            NaN            NaN NaN NaN            NaN   \n23            NaN NaN            NaN            NaN NaN NaN            NaN   \n24            NaN NaN            NaN            NaN NaN NaN            NaN   \n25            NaN NaN            NaN            NaN NaN NaN            NaN   \n26            NaN NaN            NaN            NaN NaN NaN            NaN   \n27            NaN NaN            NaN            NaN NaN NaN            NaN   \n28            NaN NaN            NaN            NaN NaN NaN            NaN   \n29            NaN NaN            NaN            NaN NaN NaN            NaN   \n30            NaN NaN            NaN            NaN NaN NaN            NaN   \n31            NaN NaN            NaN            NaN NaN NaN            NaN   \n32            NaN NaN            NaN            NaN NaN NaN            NaN   \n33            NaN NaN            NaN            NaN NaN NaN            NaN   \n34            NaN NaN            NaN            NaN NaN NaN            NaN   \n35            NaN NaN            NaN            NaN NaN NaN            NaN   \n36            NaN NaN            NaN            NaN NaN NaN            NaN   \n37            NaN NaN            NaN            NaN NaN NaN            NaN   \n38            NaN NaN            NaN            NaN NaN NaN            NaN   \n39            NaN NaN            NaN            NaN NaN NaN            NaN   \n40            NaN NaN            NaN            NaN NaN NaN            NaN   \n41            NaN NaN            NaN            NaN NaN NaN            NaN   \n42            NaN NaN            NaN            NaN NaN NaN            NaN   \n43            NaN NaN            NaN            NaN NaN NaN            NaN   \n44            NaN NaN            NaN            NaN NaN NaN            NaN   \n45            NaN NaN            NaN            NaN NaN NaN            NaN   \n46            NaN NaN            NaN            NaN NaN NaN            NaN   \n47            NaN NaN            NaN            NaN NaN NaN            NaN   \n48            NaN NaN            NaN            NaN NaN NaN            NaN   \n49            NaN NaN            NaN            NaN NaN NaN            NaN   \n50            NaN NaN            NaN            NaN NaN NaN            NaN   \n51            NaN NaN            NaN            NaN NaN NaN            NaN   \n52            NaN NaN            NaN            NaN NaN NaN            NaN   \n53            NaN NaN            NaN            NaN NaN NaN            NaN   \n\n              7   8              9   ...  43             44             45  \\\n0    9263.175791 NaN  183838.556492  ... NaN  139565.818458  218765.040327   \n1   14548.985558 NaN  186524.203420  ... NaN  139917.251604  174337.727501   \n2            NaN NaN  198562.366479  ... NaN  100390.311085  175243.156076   \n3            NaN NaN  202967.645045  ... NaN  130682.259470  218905.226081   \n4            NaN NaN  128657.459264  ... NaN  104391.657121            NaN   \n5            NaN NaN   61758.894919  ... NaN  104616.255836            NaN   \n6            NaN NaN   62114.411651  ... NaN  101573.062159            NaN   \n7            NaN NaN  203307.763781  ... NaN  130456.288931            NaN   \n8            NaN NaN  198813.286497  ... NaN            NaN            NaN   \n9            NaN NaN  184020.124654  ... NaN            NaN            NaN   \n10           NaN NaN  186904.084286  ... NaN            NaN            NaN   \n11           NaN NaN  128198.997780  ... NaN            NaN            NaN   \n12           NaN NaN            NaN  ... NaN            NaN            NaN   \n13           NaN NaN            NaN  ... NaN            NaN            NaN   \n14           NaN NaN            NaN  ... NaN            NaN            NaN   \n15           NaN NaN            NaN  ... NaN            NaN            NaN   \n16           NaN NaN            NaN  ... NaN            NaN            NaN   \n17           NaN NaN            NaN  ... NaN            NaN            NaN   \n18           NaN NaN            NaN  ... NaN            NaN            NaN   \n19           NaN NaN            NaN  ... NaN            NaN            NaN   \n20           NaN NaN            NaN  ... NaN            NaN            NaN   \n21           NaN NaN            NaN  ... NaN            NaN            NaN   \n22           NaN NaN            NaN  ... NaN            NaN            NaN   \n23           NaN NaN            NaN  ... NaN            NaN            NaN   \n24           NaN NaN            NaN  ... NaN            NaN            NaN   \n25           NaN NaN            NaN  ... NaN            NaN            NaN   \n26           NaN NaN            NaN  ... NaN            NaN            NaN   \n27           NaN NaN            NaN  ... NaN            NaN            NaN   \n28           NaN NaN            NaN  ... NaN            NaN            NaN   \n29           NaN NaN            NaN  ... NaN            NaN            NaN   \n30           NaN NaN            NaN  ... NaN            NaN            NaN   \n31           NaN NaN            NaN  ... NaN            NaN            NaN   \n32           NaN NaN            NaN  ... NaN            NaN            NaN   \n33           NaN NaN            NaN  ... NaN            NaN            NaN   \n34           NaN NaN            NaN  ... NaN            NaN            NaN   \n35           NaN NaN            NaN  ... NaN            NaN            NaN   \n36           NaN NaN            NaN  ... NaN            NaN            NaN   \n37           NaN NaN            NaN  ... NaN            NaN            NaN   \n38           NaN NaN            NaN  ... NaN            NaN            NaN   \n39           NaN NaN            NaN  ... NaN            NaN            NaN   \n40           NaN NaN            NaN  ... NaN            NaN            NaN   \n41           NaN NaN            NaN  ... NaN            NaN            NaN   \n42           NaN NaN            NaN  ... NaN            NaN            NaN   \n43           NaN NaN            NaN  ... NaN            NaN            NaN   \n44           NaN NaN            NaN  ... NaN            NaN            NaN   \n45           NaN NaN            NaN  ... NaN            NaN            NaN   \n46           NaN NaN            NaN  ... NaN            NaN            NaN   \n47           NaN NaN            NaN  ... NaN            NaN            NaN   \n48           NaN NaN            NaN  ... NaN            NaN            NaN   \n49           NaN NaN            NaN  ... NaN            NaN            NaN   \n50           NaN NaN            NaN  ... NaN            NaN            NaN   \n51           NaN NaN            NaN  ... NaN            NaN            NaN   \n52           NaN NaN            NaN  ... NaN            NaN            NaN   \n53           NaN NaN            NaN  ... NaN            NaN            NaN   \n\n    46             47            48             49  50  51             52  \n0  NaN  237816.930026  23588.467489  129158.671177 NaN NaN  177039.196820  \n1  NaN  237512.767720  24924.047941  128876.291040 NaN NaN  218723.247677  \n2  NaN            NaN   8834.429605       0.000000 NaN NaN  166885.822433  \n3  NaN            NaN      0.000000  120680.069469 NaN NaN  167251.611545  \n4  NaN            NaN           NaN  121022.094365 NaN NaN  218823.622754  \n5  NaN            NaN           NaN            NaN NaN NaN  176456.783042  \n6  NaN            NaN           NaN            NaN NaN NaN  138320.368923  \n7  NaN            NaN           NaN            NaN NaN NaN  137340.470297  \n8  NaN            NaN           NaN            NaN NaN NaN            NaN  \n9  NaN            NaN           NaN            NaN NaN NaN            NaN  \n10 NaN            NaN           NaN            NaN NaN NaN            NaN  \n11 NaN            NaN           NaN            NaN NaN NaN            NaN  \n12 NaN            NaN           NaN            NaN NaN NaN            NaN  \n13 NaN            NaN           NaN            NaN NaN NaN            NaN  \n14 NaN            NaN           NaN            NaN NaN NaN            NaN  \n15 NaN            NaN           NaN            NaN NaN NaN            NaN  \n16 NaN            NaN           NaN            NaN NaN NaN            NaN  \n17 NaN            NaN           NaN            NaN NaN NaN            NaN  \n18 NaN            NaN           NaN            NaN NaN NaN            NaN  \n19 NaN            NaN           NaN            NaN NaN NaN            NaN  \n20 NaN            NaN           NaN            NaN NaN NaN            NaN  \n21 NaN            NaN           NaN            NaN NaN NaN            NaN  \n22 NaN            NaN           NaN            NaN NaN NaN            NaN  \n23 NaN            NaN           NaN            NaN NaN NaN            NaN  \n24 NaN            NaN           NaN            NaN NaN NaN            NaN  \n25 NaN            NaN           NaN            NaN NaN NaN            NaN  \n26 NaN            NaN           NaN            NaN NaN NaN            NaN  \n27 NaN            NaN           NaN            NaN NaN NaN            NaN  \n28 NaN            NaN           NaN            NaN NaN NaN            NaN  \n29 NaN            NaN           NaN            NaN NaN NaN            NaN  \n30 NaN            NaN           NaN            NaN NaN NaN            NaN  \n31 NaN            NaN           NaN            NaN NaN NaN            NaN  \n32 NaN            NaN           NaN            NaN NaN NaN            NaN  \n33 NaN            NaN           NaN            NaN NaN NaN            NaN  \n34 NaN            NaN           NaN            NaN NaN NaN            NaN  \n35 NaN            NaN           NaN            NaN NaN NaN            NaN  \n36 NaN            NaN           NaN            NaN NaN NaN            NaN  \n37 NaN            NaN           NaN            NaN NaN NaN            NaN  \n38 NaN            NaN           NaN            NaN NaN NaN            NaN  \n39 NaN            NaN           NaN            NaN NaN NaN            NaN  \n40 NaN            NaN           NaN            NaN NaN NaN            NaN  \n41 NaN            NaN           NaN            NaN NaN NaN            NaN  \n42 NaN            NaN           NaN            NaN NaN NaN            NaN  \n43 NaN            NaN           NaN            NaN NaN NaN            NaN  \n44 NaN            NaN           NaN            NaN NaN NaN            NaN  \n45 NaN            NaN           NaN            NaN NaN NaN            NaN  \n46 NaN            NaN           NaN            NaN NaN NaN            NaN  \n47 NaN            NaN           NaN            NaN NaN NaN            NaN  \n48 NaN            NaN           NaN            NaN NaN NaN            NaN  \n49 NaN            NaN           NaN            NaN NaN NaN            NaN  \n50 NaN            NaN           NaN            NaN NaN NaN            NaN  \n51 NaN            NaN           NaN            NaN NaN NaN            NaN  \n52 NaN            NaN           NaN            NaN NaN NaN            NaN  \n53 NaN            NaN           NaN            NaN NaN NaN            NaN  \n\n[54 rows x 53 columns]\n",
     "output_type": "stream"
    }
   ]
  },
  {
   "cell_type": "code",
   "metadata": {
    "cell_id": "934a59d217f646dbb107d782b85190bd",
    "tags": [],
    "deepnote_to_be_reexecuted": false,
    "source_hash": "7fdd9e04",
    "execution_start": 1663220563409,
    "execution_millis": 4,
    "deepnote_app_coordinates": {
     "x": 0,
     "y": 103,
     "w": 12,
     "h": 5
    },
    "deepnote_cell_type": "code",
    "deepnote_cell_height": 111.1875
   },
   "source": "print(all_len)",
   "execution_count": 17,
   "outputs": [
    {
     "name": "stdout",
     "text": "[[195988.27594935388, 171011.27399272754, 171221.70779415485, 96760.04538737524, 96199.37414584674, 196344.0425699211, 192889.95584587843, 193451.1908625707], [], [84618.4338166791, 84976.95769118247, 146840.86395764558, 144187.53912270095, 143832.22298080818, 135053.08949783997, 135426.42125960148, 146478.3441523088], [97063.4794245496, 97565.58201604188, 98182.79086087439, 805.9274645400603, 9462.83344978996, 10638.06338458563, 0, 98459.57729980876, 99859.89262303666, 100071.74500635728, 925.3338185217395, 6217.437083392926, 5145.003352057173, 8817.281469970572, 0], [], [], [212314.36020061924, 144089.32523212626, 144277.89431691245, 170378.9318297846, 177711.69968155737, 172603.26246229646, 170700.16000890997, 154735.58467441975, 157068.25848755037, 157396.08672476263, 181750.3175122455, 154942.52338459154, 177420.0210979285, 181948.12984640314, 172162.4760334264, 212547.232587789], [9263.175790515095, 14548.985558418668], [], [183838.55649161327, 186524.20341961324, 198562.36647861073, 202967.645045097, 128657.45926373838, 61758.89491861235, 62114.41165055135, 203307.7637805126, 198813.28649725544, 184020.12465420086, 186904.0842862074, 128198.99777961957], [], [149099.216245759, 122151.6188270031, 211925.31434100372, 211475.00515204595, 198135.6823062772, 197209.14744956887, 149425.2729015571, 122417.32258363966], [175029.4275881536, 175279.9744305819, 230919.20715238905, 231803.84373644175], [171582.77041393437, 171361.49574449062, 139483.51757629952, 140308.79102513564, 160472.9564606926, 176409.48452303367, 126942.02561166784, 127381.2083610913, 130123.50397600725, 130537.40273934437, 133845.1346929339, 134275.124166179, 174809.86517145054, 175794.5059232669, 176082.0833938554, 191051.76789627643, 196512.76107653073, 196627.2405035034, 191263.36747500522, 198692.51453072432, 157226.75319406448, 157324.8977730119, 162108.32633273298, 173671.59429963364, 174077.18792523255, 197230.72678181625, 197589.67335118746, 205095.14143178702, 205178.8934848962, 158544.69578734733, 137678.2206611514, 185035.02806276793, 194111.2041261742, 194466.3094659141, 206334.33020899777, 206454.49166894314, 209812.65118860392, 209945.20352091355, 191125.73528287266, 191469.13227747465, 165667.27543319928, 165460.4204171825, 154603.3412330975, 154364.48323954584, 158955.382816821, 137169.30741928853, 200831.66236043136, 200695.44707966546, 162408.28256768643, 176635.52333147, 160764.4632806403, 199090.18197353496, 184819.64801937295, 175097.01072382953], [174457.99628210912, 174741.05460348836, 213563.30262910196, 213864.30514424306, 156406.7708139598, 156642.78021013635, 84007.5177965451, 218086.5433588159, 79609.5272177695, 165455.3149103627, 165633.3929561048, 218380.7667773705, 87801.30814634988, 87180.85783262066, 84765.57845326746, 163635.0653861923, 164074.05094017877, 177459.518189607, 177714.350294118, 83923.33366852248, 82330.34662489156, 81548.77308227276, 80805.16006974809, 80144.85507736538, 119095.19993642202, 118857.45336758299], [], [113140.89098403596, 114803.06037189315, 62898.88317180529, 64561.0525596625, 53623.77540419402, 55285.94479205123], [168749.47008614536, 174938.4606101258, 175271.00613638945, 229453.8718983792, 230166.7366366703, 169633.58170129344], [185256.78737275017, 185302.2186395166, 178539.57668638873, 178198.68937730178, 41242.30381536993, 22211.89728204533, 15713.992224033147], [], [], [172166.91736751658, 175656.64110552188, 146613.73222963887, 147074.68975635053, 80798.25234039385, 81010.41961396512, 172500.41176719285, 176149.32735915165, 160593.10837619484, 160991.832432925, 173690.89508701983, 174451.00933242298, 193569.23564567475, 193967.37978461082, 196363.78383168217, 196694.6317379935, 182373.71899057156, 182635.3908615366, 184681.22072183003, 184909.11708055728, 190676.012717786, 191112.28937549004, 204099.33024318027, 116615.0336777481, 117005.34517273058, 127970.91182880053, 128268.18281552808, 131458.25309262716, 131875.1758820964, 150977.0805984041, 151454.85746581887, 156975.3660127574, 157390.3759612309, 183270.5462123998, 183433.6093933619, 191330.40293975972, 191889.88945494377, 174974.83240035723, 206458.96975401125, 206163.7673172432], [155706.70901767496, 226640.9224599897, 226684.93901255802, 155408.17406273022], [159281.70125512694, 159430.63207161566, 164122.26099957127, 170526.31314834915, 170661.95399638702, 173146.5507949267, 173568.41895192378, 174571.62719120272, 174234.439809643, 164525.99261776125], [123549.26845187417, 123373.52143981864, 154872.29281609005, 158248.48190620198, 155610.99057615842, 156243.7863659097, 156970.67497510966, 157332.74170611738, 158806.14473857707, 159429.32867189255, 155951.27072096508, 141293.68988952955, 140792.8099738744, 158688.5674110791, 195371.04576061002, 195596.66842503706], [141933.33717242363, 141559.42763366416], [177364.76950987012, 177525.3718871876, 122365.00299627625, 122471.38027580528, 130868.90426627436, 132471.27170747437, 132514.5643869941, 108114.23304484517, 108283.03948311103, 189587.6830936256, 189641.99487871872, 131011.29602340935], [116097.19587673637, 117255.9892310909], [231953.27677471854, 231566.35441372177, 212486.3447126821, 219644.26587925732, 217133.48846490166, 218027.6765869348, 220313.58172246208, 216705.35058267973, 225556.8038548278, 216973.02169641128, 226203.71049236768, 227193.88026056913, 212707.39325062875, 228469.85082800893, 231680.02140005463, 234048.60667502732, 232468.60223062447, 253576.52397412673, 253108.26811308495, 241152.87787618104, 240839.7483878171, 239199.9457930272, 238866.5939151685, 233299.67070295545], [217342.25668365005, 220605.2706136751], [], [180651.05797393568, 186507.15852203738, 186560.16614790386, 189337.0315080193, 180776.294041025, 189275.1817634766, 183413.30604661338, 183040.1377173943, 183567.42265402575, 183830.12489726793], [220095.56970801202, 191490.45189302578, 191602.2506989228, 174810.6078609641, 197057.000501553, 188955.31242057367, 197408.07420170668, 202012.58520506366, 202312.99089690534, 181671.83500842433, 224977.5633910366, 200481.87940667072, 200525.779978421, 161020.1080830938, 189169.6061728557, 175092.20824274374, 190958.21910824667, 191185.8657440863, 193762.22396654225, 219807.69648154968, 224522.65066383936, 224361.2273043154, 226115.40189233667, 203539.59592679638, 203741.10018804163, 181453.42901798734, 194013.43256958027], [241522.71987445545, 208276.1693090351, 208562.156714953, 211897.40257414294, 294022.28891087475, 294354.98547494045, 174723.970382955, 191140.46754866844, 195925.50106615628, 211534.12736476996, 247670.17782077196, 219568.93833983925, 247934.36714682428, 184849.74467219107, 185799.68511687953, 170346.96149284247, 171325.66591434806, 186608.89659963638, 298047.1860190111, 224710.89376017297, 187050.96559844224, 189481.36490053672, 298390.459814484, 188856.9569751642, 174782.73497178196, 236207.9436318121, 196302.94679493995, 219505.31447246237, 214148.67853960788, 215253.47407742063, 220115.89177742935, 226235.68606969903, 221105.31351503308, 235662.62064772114, 241999.31792049538, 192261.12434391354, 231359.3155534032, 229766.6733270789, 204595.15839928904, 205481.1816532519], [157226.98774338345, 157546.76300591065, 160362.29300224656, 160762.98105127743, 176999.8407202712, 177405.3613012549, 182760.4535564474, 183589.8627141181, 184897.28867326115, 187686.7834024886, 187882.65881395314, 194433.95421083458, 194757.4310252487, 120730.49140744511, 120999.22496446435, 123341.83621586648, 148247.52821668595, 165901.20176126642, 166234.17681632788, 167370.88506512856, 167618.8515519771, 168800.41855329537, 169115.94098554068, 190163.22450460133, 185265.84706882172, 123094.08971470062, 190500.23202643622, 194389.37807227857, 194701.20809733032, 148577.5339086658], [157093.65225803587, 157790.22320486777], [145772.9416661705, 151367.0001357092, 151117.57660667805, 141359.49019884493, 141959.73488455784, 145732.14951006175, 122576.14093403317, 122916.41691288183, 150910.3146740833, 151269.31563104037, 194256.35309925862, 194476.96934085377, 224689.70964143742, 234671.27034211988, 234318.15255270674, 224981.24787799208, 184203.9301735757, 183949.37098603038], [202003.33802668538, 202118.34139011442, 205209.1038119502, 205289.9677099517, 189871.80655131326, 189960.07906175678, 129991.35075099605, 168872.5682641503, 160075.9378348393, 160118.29167882068, 129572.03630665352, 158869.31382451288, 158387.1898424353, 168706.9079771149, 190934.62153101637, 190497.71456211066, 36891.22476210954, 25730.199152966845, 26811.78391395084, 52861.05333334989, 81901.86396000031, 77977.50258030734, 93389.63649599729, 147219.41899147208, 148508.14724613444, 52244.44262279342, 49464.048886585675, 171761.20224794213, 50295.73798070503, 171826.18969365285, 92333.35768382327, 83170.67059102791, 74539.09232252356, 38590.39646219624, 121105.99459283918, 121359.17041263856, 182658.25988705372, 182416.55502869101, 81771.60533189175, 63325.15965850959, 63817.68400413887, 94829.3881902001, 95515.34114849652, 82550.63447440081, 85357.8075548583, 86956.92528727296, 90228.23413872112, 90727.5378554328, 94709.446238467, 95632.16126749282, 115312.32498220885, 115669.41580162499], [206893.96403483627, 150150.53460877985, 224205.14970202433, 228437.1493256657, 229009.6708954289, 224593.99371242095, 163679.82306932186, 163809.77134403144, 233591.1698522418, 181870.17450540018, 182040.142494151, 183366.15522913414, 183454.42773957766, 207101.3597213855, 234523.28323976483], [], [236321.2808932245, 215773.25711280797, 215925.77231418187, 235937.8968547675], [37170.84904037623, 35308.827215216385], [], [], [139565.81845790183, 139917.25160383564, 100390.31108460158, 130682.2594698326, 104391.65712089044, 104616.25583591864, 101573.0621592143, 130456.28893128275], [218765.04032736155, 174337.7275005214, 175243.15607637027, 218905.22608125565], [], [237816.93002587857, 237512.76772008644], [23588.467488570852, 24924.047940580735, 8834.429604790537, 0], [129158.67117706162, 128876.29103990243, 0, 120680.06946886989, 121022.09436546995], [], [], [177039.19681973904, 218723.24767724454, 166885.8224326645, 167251.61154472225, 218823.62275383231, 176456.7830420572, 138320.36892291298, 137340.47029693166]]\n",
     "output_type": "stream"
    }
   ]
  },
  {
   "cell_type": "code",
   "metadata": {
    "cell_id": "4e9c4a9619e24cbea8e3c5f24c6652ad",
    "tags": [],
    "deepnote_to_be_reexecuted": false,
    "source_hash": "48834d95",
    "execution_start": 1663220563410,
    "execution_millis": 187,
    "deepnote_app_coordinates": {
     "x": 0,
     "y": 109,
     "w": 12,
     "h": 5
    },
    "deepnote_cell_type": "code",
    "deepnote_cell_height": 595
   },
   "source": "df_len_tlc",
   "execution_count": 18,
   "outputs": [
    {
     "output_type": "execute_result",
     "execution_count": 18,
     "data": {
      "application/vnd.deepnote.dataframe.v3+json": {
       "column_count": 53,
       "row_count": 54,
       "columns": [
        {
         "name": 0,
         "dtype": "float64",
         "stats": {
          "unique_count": 8,
          "nan_count": 46,
          "min": "96199.37414584674",
          "max": "196344.0425699211",
          "histogram": [
           {
            "bin_start": 96199.37414584674,
            "bin_end": 106213.84098825417,
            "count": 2
           },
           {
            "bin_start": 106213.84098825417,
            "bin_end": 116228.30783066161,
            "count": 0
           },
           {
            "bin_start": 116228.30783066161,
            "bin_end": 126242.77467306904,
            "count": 0
           },
           {
            "bin_start": 126242.77467306904,
            "bin_end": 136257.2415154765,
            "count": 0
           },
           {
            "bin_start": 136257.2415154765,
            "bin_end": 146271.7083578839,
            "count": 0
           },
           {
            "bin_start": 146271.7083578839,
            "bin_end": 156286.17520029136,
            "count": 0
           },
           {
            "bin_start": 156286.17520029136,
            "bin_end": 166300.6420426988,
            "count": 0
           },
           {
            "bin_start": 166300.6420426988,
            "bin_end": 176315.10888510622,
            "count": 2
           },
           {
            "bin_start": 176315.10888510622,
            "bin_end": 186329.57572751364,
            "count": 0
           },
           {
            "bin_start": 186329.57572751364,
            "bin_end": 196344.0425699211,
            "count": 4
           }
          ]
         }
        },
        {
         "name": 1,
         "dtype": "float64",
         "stats": {
          "unique_count": 0,
          "nan_count": 54,
          "min": null,
          "max": null,
          "histogram": [
           {
            "bin_start": 0,
            "bin_end": 0.1,
            "count": 0
           },
           {
            "bin_start": 0.1,
            "bin_end": 0.2,
            "count": 0
           },
           {
            "bin_start": 0.2,
            "bin_end": 0.30000000000000004,
            "count": 0
           },
           {
            "bin_start": 0.30000000000000004,
            "bin_end": 0.4,
            "count": 0
           },
           {
            "bin_start": 0.4,
            "bin_end": 0.5,
            "count": 0
           },
           {
            "bin_start": 0.5,
            "bin_end": 0.6000000000000001,
            "count": 0
           },
           {
            "bin_start": 0.6000000000000001,
            "bin_end": 0.7000000000000001,
            "count": 0
           },
           {
            "bin_start": 0.7000000000000001,
            "bin_end": 0.8,
            "count": 0
           },
           {
            "bin_start": 0.8,
            "bin_end": 0.9,
            "count": 0
           },
           {
            "bin_start": 0.9,
            "bin_end": 1,
            "count": 0
           }
          ]
         }
        },
        {
         "name": 2,
         "dtype": "float64",
         "stats": {
          "unique_count": 8,
          "nan_count": 46,
          "min": "84618.4338166791",
          "max": "146840.86395764558",
          "histogram": [
           {
            "bin_start": 84618.4338166791,
            "bin_end": 90840.67683077574,
            "count": 2
           },
           {
            "bin_start": 90840.67683077574,
            "bin_end": 97062.91984487239,
            "count": 0
           },
           {
            "bin_start": 97062.91984487239,
            "bin_end": 103285.16285896904,
            "count": 0
           },
           {
            "bin_start": 103285.16285896904,
            "bin_end": 109507.4058730657,
            "count": 0
           },
           {
            "bin_start": 109507.4058730657,
            "bin_end": 115729.64888716233,
            "count": 0
           },
           {
            "bin_start": 115729.64888716233,
            "bin_end": 121951.89190125899,
            "count": 0
           },
           {
            "bin_start": 121951.89190125899,
            "bin_end": 128174.13491535564,
            "count": 0
           },
           {
            "bin_start": 128174.13491535564,
            "bin_end": 134396.37792945228,
            "count": 0
           },
           {
            "bin_start": 134396.37792945228,
            "bin_end": 140618.6209435489,
            "count": 2
           },
           {
            "bin_start": 140618.6209435489,
            "bin_end": 146840.86395764558,
            "count": 4
           }
          ]
         }
        },
        {
         "name": 3,
         "dtype": "float64",
         "stats": {
          "unique_count": 14,
          "nan_count": 39,
          "min": "0.0",
          "max": "100071.74500635728",
          "histogram": [
           {
            "bin_start": 0,
            "bin_end": 10007.174500635727,
            "count": 8
           },
           {
            "bin_start": 10007.174500635727,
            "bin_end": 20014.349001271454,
            "count": 1
           },
           {
            "bin_start": 20014.349001271454,
            "bin_end": 30021.52350190718,
            "count": 0
           },
           {
            "bin_start": 30021.52350190718,
            "bin_end": 40028.69800254291,
            "count": 0
           },
           {
            "bin_start": 40028.69800254291,
            "bin_end": 50035.87250317863,
            "count": 0
           },
           {
            "bin_start": 50035.87250317863,
            "bin_end": 60043.04700381436,
            "count": 0
           },
           {
            "bin_start": 60043.04700381436,
            "bin_end": 70050.22150445009,
            "count": 0
           },
           {
            "bin_start": 70050.22150445009,
            "bin_end": 80057.39600508581,
            "count": 0
           },
           {
            "bin_start": 80057.39600508581,
            "bin_end": 90064.57050572154,
            "count": 0
           },
           {
            "bin_start": 90064.57050572154,
            "bin_end": 100071.74500635728,
            "count": 6
           }
          ]
         }
        },
        {
         "name": 4,
         "dtype": "float64",
         "stats": {
          "unique_count": 0,
          "nan_count": 54,
          "min": null,
          "max": null,
          "histogram": [
           {
            "bin_start": 0,
            "bin_end": 0.1,
            "count": 0
           },
           {
            "bin_start": 0.1,
            "bin_end": 0.2,
            "count": 0
           },
           {
            "bin_start": 0.2,
            "bin_end": 0.30000000000000004,
            "count": 0
           },
           {
            "bin_start": 0.30000000000000004,
            "bin_end": 0.4,
            "count": 0
           },
           {
            "bin_start": 0.4,
            "bin_end": 0.5,
            "count": 0
           },
           {
            "bin_start": 0.5,
            "bin_end": 0.6000000000000001,
            "count": 0
           },
           {
            "bin_start": 0.6000000000000001,
            "bin_end": 0.7000000000000001,
            "count": 0
           },
           {
            "bin_start": 0.7000000000000001,
            "bin_end": 0.8,
            "count": 0
           },
           {
            "bin_start": 0.8,
            "bin_end": 0.9,
            "count": 0
           },
           {
            "bin_start": 0.9,
            "bin_end": 1,
            "count": 0
           }
          ]
         }
        },
        {
         "name": 5,
         "dtype": "float64",
         "stats": {
          "unique_count": 0,
          "nan_count": 54,
          "min": null,
          "max": null,
          "histogram": [
           {
            "bin_start": 0,
            "bin_end": 0.1,
            "count": 0
           },
           {
            "bin_start": 0.1,
            "bin_end": 0.2,
            "count": 0
           },
           {
            "bin_start": 0.2,
            "bin_end": 0.30000000000000004,
            "count": 0
           },
           {
            "bin_start": 0.30000000000000004,
            "bin_end": 0.4,
            "count": 0
           },
           {
            "bin_start": 0.4,
            "bin_end": 0.5,
            "count": 0
           },
           {
            "bin_start": 0.5,
            "bin_end": 0.6000000000000001,
            "count": 0
           },
           {
            "bin_start": 0.6000000000000001,
            "bin_end": 0.7000000000000001,
            "count": 0
           },
           {
            "bin_start": 0.7000000000000001,
            "bin_end": 0.8,
            "count": 0
           },
           {
            "bin_start": 0.8,
            "bin_end": 0.9,
            "count": 0
           },
           {
            "bin_start": 0.9,
            "bin_end": 1,
            "count": 0
           }
          ]
         }
        },
        {
         "name": 6,
         "dtype": "float64",
         "stats": {
          "unique_count": 16,
          "nan_count": 38,
          "min": "144089.32523212626",
          "max": "212547.232587789",
          "histogram": [
           {
            "bin_start": 144089.32523212626,
            "bin_end": 150935.11596769252,
            "count": 2
           },
           {
            "bin_start": 150935.11596769252,
            "bin_end": 157780.9067032588,
            "count": 4
           },
           {
            "bin_start": 157780.9067032588,
            "bin_end": 164626.6974388251,
            "count": 0
           },
           {
            "bin_start": 164626.6974388251,
            "bin_end": 171472.48817439136,
            "count": 2
           },
           {
            "bin_start": 171472.48817439136,
            "bin_end": 178318.27890995762,
            "count": 4
           },
           {
            "bin_start": 178318.27890995762,
            "bin_end": 185164.0696455239,
            "count": 2
           },
           {
            "bin_start": 185164.0696455239,
            "bin_end": 192009.8603810902,
            "count": 0
           },
           {
            "bin_start": 192009.8603810902,
            "bin_end": 198855.65111665646,
            "count": 0
           },
           {
            "bin_start": 198855.65111665646,
            "bin_end": 205701.44185222272,
            "count": 0
           },
           {
            "bin_start": 205701.44185222272,
            "bin_end": 212547.232587789,
            "count": 2
           }
          ]
         }
        },
        {
         "name": 7,
         "dtype": "float64",
         "stats": {
          "unique_count": 2,
          "nan_count": 52,
          "min": "9263.175790515095",
          "max": "14548.985558418668",
          "histogram": [
           {
            "bin_start": 9263.175790515095,
            "bin_end": 9791.756767305453,
            "count": 1
           },
           {
            "bin_start": 9791.756767305453,
            "bin_end": 10320.33774409581,
            "count": 0
           },
           {
            "bin_start": 10320.33774409581,
            "bin_end": 10848.918720886168,
            "count": 0
           },
           {
            "bin_start": 10848.918720886168,
            "bin_end": 11377.499697676525,
            "count": 0
           },
           {
            "bin_start": 11377.499697676525,
            "bin_end": 11906.08067446688,
            "count": 0
           },
           {
            "bin_start": 11906.08067446688,
            "bin_end": 12434.661651257238,
            "count": 0
           },
           {
            "bin_start": 12434.661651257238,
            "bin_end": 12963.242628047596,
            "count": 0
           },
           {
            "bin_start": 12963.242628047596,
            "bin_end": 13491.823604837953,
            "count": 0
           },
           {
            "bin_start": 13491.823604837953,
            "bin_end": 14020.40458162831,
            "count": 0
           },
           {
            "bin_start": 14020.40458162831,
            "bin_end": 14548.985558418668,
            "count": 1
           }
          ]
         }
        },
        {
         "name": 8,
         "dtype": "float64",
         "stats": {
          "unique_count": 0,
          "nan_count": 54,
          "min": null,
          "max": null,
          "histogram": [
           {
            "bin_start": 0,
            "bin_end": 0.1,
            "count": 0
           },
           {
            "bin_start": 0.1,
            "bin_end": 0.2,
            "count": 0
           },
           {
            "bin_start": 0.2,
            "bin_end": 0.30000000000000004,
            "count": 0
           },
           {
            "bin_start": 0.30000000000000004,
            "bin_end": 0.4,
            "count": 0
           },
           {
            "bin_start": 0.4,
            "bin_end": 0.5,
            "count": 0
           },
           {
            "bin_start": 0.5,
            "bin_end": 0.6000000000000001,
            "count": 0
           },
           {
            "bin_start": 0.6000000000000001,
            "bin_end": 0.7000000000000001,
            "count": 0
           },
           {
            "bin_start": 0.7000000000000001,
            "bin_end": 0.8,
            "count": 0
           },
           {
            "bin_start": 0.8,
            "bin_end": 0.9,
            "count": 0
           },
           {
            "bin_start": 0.9,
            "bin_end": 1,
            "count": 0
           }
          ]
         }
        },
        {
         "name": 9,
         "dtype": "float64",
         "stats": {
          "unique_count": 12,
          "nan_count": 42,
          "min": "61758.89491861235",
          "max": "203307.7637805126",
          "histogram": [
           {
            "bin_start": 61758.89491861235,
            "bin_end": 75913.78180480238,
            "count": 2
           },
           {
            "bin_start": 75913.78180480238,
            "bin_end": 90068.6686909924,
            "count": 0
           },
           {
            "bin_start": 90068.6686909924,
            "bin_end": 104223.55557718243,
            "count": 0
           },
           {
            "bin_start": 104223.55557718243,
            "bin_end": 118378.44246337246,
            "count": 0
           },
           {
            "bin_start": 118378.44246337246,
            "bin_end": 132533.32934956247,
            "count": 2
           },
           {
            "bin_start": 132533.32934956247,
            "bin_end": 146688.2162357525,
            "count": 0
           },
           {
            "bin_start": 146688.2162357525,
            "bin_end": 160843.10312194255,
            "count": 0
           },
           {
            "bin_start": 160843.10312194255,
            "bin_end": 174997.99000813256,
            "count": 0
           },
           {
            "bin_start": 174997.99000813256,
            "bin_end": 189152.87689432257,
            "count": 4
           },
           {
            "bin_start": 189152.87689432257,
            "bin_end": 203307.7637805126,
            "count": 4
           }
          ]
         }
        },
        {
         "name": 10,
         "dtype": "float64",
         "stats": {
          "unique_count": 0,
          "nan_count": 54,
          "min": null,
          "max": null,
          "histogram": [
           {
            "bin_start": 0,
            "bin_end": 0.1,
            "count": 0
           },
           {
            "bin_start": 0.1,
            "bin_end": 0.2,
            "count": 0
           },
           {
            "bin_start": 0.2,
            "bin_end": 0.30000000000000004,
            "count": 0
           },
           {
            "bin_start": 0.30000000000000004,
            "bin_end": 0.4,
            "count": 0
           },
           {
            "bin_start": 0.4,
            "bin_end": 0.5,
            "count": 0
           },
           {
            "bin_start": 0.5,
            "bin_end": 0.6000000000000001,
            "count": 0
           },
           {
            "bin_start": 0.6000000000000001,
            "bin_end": 0.7000000000000001,
            "count": 0
           },
           {
            "bin_start": 0.7000000000000001,
            "bin_end": 0.8,
            "count": 0
           },
           {
            "bin_start": 0.8,
            "bin_end": 0.9,
            "count": 0
           },
           {
            "bin_start": 0.9,
            "bin_end": 1,
            "count": 0
           }
          ]
         }
        },
        {
         "name": 11,
         "dtype": "float64",
         "stats": {
          "unique_count": 8,
          "nan_count": 46,
          "min": "122151.6188270031",
          "max": "211925.31434100372",
          "histogram": [
           {
            "bin_start": 122151.6188270031,
            "bin_end": 131128.98837840316,
            "count": 2
           },
           {
            "bin_start": 131128.98837840316,
            "bin_end": 140106.35792980323,
            "count": 0
           },
           {
            "bin_start": 140106.35792980323,
            "bin_end": 149083.72748120327,
            "count": 0
           },
           {
            "bin_start": 149083.72748120327,
            "bin_end": 158061.09703260334,
            "count": 2
           },
           {
            "bin_start": 158061.09703260334,
            "bin_end": 167038.4665840034,
            "count": 0
           },
           {
            "bin_start": 167038.4665840034,
            "bin_end": 176015.83613540346,
            "count": 0
           },
           {
            "bin_start": 176015.83613540346,
            "bin_end": 184993.20568680353,
            "count": 0
           },
           {
            "bin_start": 184993.20568680353,
            "bin_end": 193970.57523820357,
            "count": 0
           },
           {
            "bin_start": 193970.57523820357,
            "bin_end": 202947.94478960364,
            "count": 2
           },
           {
            "bin_start": 202947.94478960364,
            "bin_end": 211925.31434100372,
            "count": 2
           }
          ]
         }
        },
        {
         "name": 12,
         "dtype": "float64",
         "stats": {
          "unique_count": 4,
          "nan_count": 50,
          "min": "175029.4275881536",
          "max": "231803.84373644175",
          "histogram": [
           {
            "bin_start": 175029.4275881536,
            "bin_end": 180706.8692029824,
            "count": 2
           },
           {
            "bin_start": 180706.8692029824,
            "bin_end": 186384.31081781123,
            "count": 0
           },
           {
            "bin_start": 186384.31081781123,
            "bin_end": 192061.75243264006,
            "count": 0
           },
           {
            "bin_start": 192061.75243264006,
            "bin_end": 197739.19404746886,
            "count": 0
           },
           {
            "bin_start": 197739.19404746886,
            "bin_end": 203416.63566229766,
            "count": 0
           },
           {
            "bin_start": 203416.63566229766,
            "bin_end": 209094.0772771265,
            "count": 0
           },
           {
            "bin_start": 209094.0772771265,
            "bin_end": 214771.51889195532,
            "count": 0
           },
           {
            "bin_start": 214771.51889195532,
            "bin_end": 220448.96050678412,
            "count": 0
           },
           {
            "bin_start": 220448.96050678412,
            "bin_end": 226126.40212161292,
            "count": 0
           },
           {
            "bin_start": 226126.40212161292,
            "bin_end": 231803.84373644175,
            "count": 2
           }
          ]
         }
        },
        {
         "name": 13,
         "dtype": "float64",
         "stats": {
          "unique_count": 54,
          "nan_count": 0,
          "min": "126942.02561166784",
          "max": "209945.20352091355",
          "histogram": [
           {
            "bin_start": 126942.02561166784,
            "bin_end": 135242.3434025924,
            "count": 6
           },
           {
            "bin_start": 135242.3434025924,
            "bin_end": 143542.66119351698,
            "count": 4
           },
           {
            "bin_start": 143542.66119351698,
            "bin_end": 151842.97898444155,
            "count": 0
           },
           {
            "bin_start": 151842.97898444155,
            "bin_end": 160143.29677536612,
            "count": 6
           },
           {
            "bin_start": 160143.29677536612,
            "bin_end": 168443.6145662907,
            "count": 6
           },
           {
            "bin_start": 168443.6145662907,
            "bin_end": 176743.93235721526,
            "count": 10
           },
           {
            "bin_start": 176743.93235721526,
            "bin_end": 185044.25014813984,
            "count": 2
           },
           {
            "bin_start": 185044.25014813984,
            "bin_end": 193344.5679390644,
            "count": 4
           },
           {
            "bin_start": 193344.5679390644,
            "bin_end": 201644.88572998898,
            "count": 10
           },
           {
            "bin_start": 201644.88572998898,
            "bin_end": 209945.20352091355,
            "count": 6
           }
          ]
         }
        },
        {
         "name": 14,
         "dtype": "float64",
         "stats": {
          "unique_count": 26,
          "nan_count": 28,
          "min": "79609.5272177695",
          "max": "218380.7667773705",
          "histogram": [
           {
            "bin_start": 79609.5272177695,
            "bin_end": 93486.6511737296,
            "count": 10
           },
           {
            "bin_start": 93486.6511737296,
            "bin_end": 107363.7751296897,
            "count": 0
           },
           {
            "bin_start": 107363.7751296897,
            "bin_end": 121240.8990856498,
            "count": 2
           },
           {
            "bin_start": 121240.8990856498,
            "bin_end": 135118.0230416099,
            "count": 0
           },
           {
            "bin_start": 135118.0230416099,
            "bin_end": 148995.14699757,
            "count": 0
           },
           {
            "bin_start": 148995.14699757,
            "bin_end": 162872.2709535301,
            "count": 2
           },
           {
            "bin_start": 162872.2709535301,
            "bin_end": 176749.3949094902,
            "count": 6
           },
           {
            "bin_start": 176749.3949094902,
            "bin_end": 190626.51886545029,
            "count": 2
           },
           {
            "bin_start": 190626.51886545029,
            "bin_end": 204503.64282141038,
            "count": 0
           },
           {
            "bin_start": 204503.64282141038,
            "bin_end": 218380.7667773705,
            "count": 4
           }
          ]
         }
        },
        {
         "name": 15,
         "dtype": "float64",
         "stats": {
          "unique_count": 0,
          "nan_count": 54,
          "min": null,
          "max": null,
          "histogram": [
           {
            "bin_start": 0,
            "bin_end": 0.1,
            "count": 0
           },
           {
            "bin_start": 0.1,
            "bin_end": 0.2,
            "count": 0
           },
           {
            "bin_start": 0.2,
            "bin_end": 0.30000000000000004,
            "count": 0
           },
           {
            "bin_start": 0.30000000000000004,
            "bin_end": 0.4,
            "count": 0
           },
           {
            "bin_start": 0.4,
            "bin_end": 0.5,
            "count": 0
           },
           {
            "bin_start": 0.5,
            "bin_end": 0.6000000000000001,
            "count": 0
           },
           {
            "bin_start": 0.6000000000000001,
            "bin_end": 0.7000000000000001,
            "count": 0
           },
           {
            "bin_start": 0.7000000000000001,
            "bin_end": 0.8,
            "count": 0
           },
           {
            "bin_start": 0.8,
            "bin_end": 0.9,
            "count": 0
           },
           {
            "bin_start": 0.9,
            "bin_end": 1,
            "count": 0
           }
          ]
         }
        },
        {
         "name": 16,
         "dtype": "float64",
         "stats": {
          "unique_count": 6,
          "nan_count": 48,
          "min": "53623.77540419402",
          "max": "114803.06037189315",
          "histogram": [
           {
            "bin_start": 53623.77540419402,
            "bin_end": 59741.703900963934,
            "count": 2
           },
           {
            "bin_start": 59741.703900963934,
            "bin_end": 65859.63239773385,
            "count": 2
           },
           {
            "bin_start": 65859.63239773385,
            "bin_end": 71977.56089450375,
            "count": 0
           },
           {
            "bin_start": 71977.56089450375,
            "bin_end": 78095.48939127367,
            "count": 0
           },
           {
            "bin_start": 78095.48939127367,
            "bin_end": 84213.4178880436,
            "count": 0
           },
           {
            "bin_start": 84213.4178880436,
            "bin_end": 90331.3463848135,
            "count": 0
           },
           {
            "bin_start": 90331.3463848135,
            "bin_end": 96449.2748815834,
            "count": 0
           },
           {
            "bin_start": 96449.2748815834,
            "bin_end": 102567.20337835333,
            "count": 0
           },
           {
            "bin_start": 102567.20337835333,
            "bin_end": 108685.13187512325,
            "count": 0
           },
           {
            "bin_start": 108685.13187512325,
            "bin_end": 114803.06037189315,
            "count": 2
           }
          ]
         }
        },
        {
         "name": 17,
         "dtype": "float64",
         "stats": {
          "unique_count": 6,
          "nan_count": 48,
          "min": "168749.47008614536",
          "max": "230166.7366366703",
          "histogram": [
           {
            "bin_start": 168749.47008614536,
            "bin_end": 174891.19674119784,
            "count": 2
           },
           {
            "bin_start": 174891.19674119784,
            "bin_end": 181032.92339625035,
            "count": 2
           },
           {
            "bin_start": 181032.92339625035,
            "bin_end": 187174.65005130286,
            "count": 0
           },
           {
            "bin_start": 187174.65005130286,
            "bin_end": 193316.37670635534,
            "count": 0
           },
           {
            "bin_start": 193316.37670635534,
            "bin_end": 199458.10336140782,
            "count": 0
           },
           {
            "bin_start": 199458.10336140782,
            "bin_end": 205599.83001646033,
            "count": 0
           },
           {
            "bin_start": 205599.83001646033,
            "bin_end": 211741.55667151284,
            "count": 0
           },
           {
            "bin_start": 211741.55667151284,
            "bin_end": 217883.28332656532,
            "count": 0
           },
           {
            "bin_start": 217883.28332656532,
            "bin_end": 224025.0099816178,
            "count": 0
           },
           {
            "bin_start": 224025.0099816178,
            "bin_end": 230166.7366366703,
            "count": 2
           }
          ]
         }
        },
        {
         "name": 18,
         "dtype": "float64",
         "stats": {
          "unique_count": 7,
          "nan_count": 47,
          "min": "15713.992224033147",
          "max": "185302.2186395166",
          "histogram": [
           {
            "bin_start": 15713.992224033147,
            "bin_end": 32672.81486558149,
            "count": 2
           },
           {
            "bin_start": 32672.81486558149,
            "bin_end": 49631.63750712984,
            "count": 1
           },
           {
            "bin_start": 49631.63750712984,
            "bin_end": 66590.46014867818,
            "count": 0
           },
           {
            "bin_start": 66590.46014867818,
            "bin_end": 83549.28279022653,
            "count": 0
           },
           {
            "bin_start": 83549.28279022653,
            "bin_end": 100508.10543177488,
            "count": 0
           },
           {
            "bin_start": 100508.10543177488,
            "bin_end": 117466.92807332322,
            "count": 0
           },
           {
            "bin_start": 117466.92807332322,
            "bin_end": 134425.75071487154,
            "count": 0
           },
           {
            "bin_start": 134425.75071487154,
            "bin_end": 151384.5733564199,
            "count": 0
           },
           {
            "bin_start": 151384.5733564199,
            "bin_end": 168343.39599796824,
            "count": 0
           },
           {
            "bin_start": 168343.39599796824,
            "bin_end": 185302.2186395166,
            "count": 4
           }
          ]
         }
        },
        {
         "name": 19,
         "dtype": "float64",
         "stats": {
          "unique_count": 0,
          "nan_count": 54,
          "min": null,
          "max": null,
          "histogram": [
           {
            "bin_start": 0,
            "bin_end": 0.1,
            "count": 0
           },
           {
            "bin_start": 0.1,
            "bin_end": 0.2,
            "count": 0
           },
           {
            "bin_start": 0.2,
            "bin_end": 0.30000000000000004,
            "count": 0
           },
           {
            "bin_start": 0.30000000000000004,
            "bin_end": 0.4,
            "count": 0
           },
           {
            "bin_start": 0.4,
            "bin_end": 0.5,
            "count": 0
           },
           {
            "bin_start": 0.5,
            "bin_end": 0.6000000000000001,
            "count": 0
           },
           {
            "bin_start": 0.6000000000000001,
            "bin_end": 0.7000000000000001,
            "count": 0
           },
           {
            "bin_start": 0.7000000000000001,
            "bin_end": 0.8,
            "count": 0
           },
           {
            "bin_start": 0.8,
            "bin_end": 0.9,
            "count": 0
           },
           {
            "bin_start": 0.9,
            "bin_end": 1,
            "count": 0
           }
          ]
         }
        },
        {
         "name": 20,
         "dtype": "float64",
         "stats": {
          "unique_count": 0,
          "nan_count": 54,
          "min": null,
          "max": null,
          "histogram": [
           {
            "bin_start": 0,
            "bin_end": 0.1,
            "count": 0
           },
           {
            "bin_start": 0.1,
            "bin_end": 0.2,
            "count": 0
           },
           {
            "bin_start": 0.2,
            "bin_end": 0.30000000000000004,
            "count": 0
           },
           {
            "bin_start": 0.30000000000000004,
            "bin_end": 0.4,
            "count": 0
           },
           {
            "bin_start": 0.4,
            "bin_end": 0.5,
            "count": 0
           },
           {
            "bin_start": 0.5,
            "bin_end": 0.6000000000000001,
            "count": 0
           },
           {
            "bin_start": 0.6000000000000001,
            "bin_end": 0.7000000000000001,
            "count": 0
           },
           {
            "bin_start": 0.7000000000000001,
            "bin_end": 0.8,
            "count": 0
           },
           {
            "bin_start": 0.8,
            "bin_end": 0.9,
            "count": 0
           },
           {
            "bin_start": 0.9,
            "bin_end": 1,
            "count": 0
           }
          ]
         }
        },
        {
         "name": 21,
         "dtype": "float64",
         "stats": {
          "unique_count": 40,
          "nan_count": 14,
          "min": "80798.25234039385",
          "max": "206458.96975401125",
          "histogram": [
           {
            "bin_start": 80798.25234039385,
            "bin_end": 93364.32408175559,
            "count": 2
           },
           {
            "bin_start": 93364.32408175559,
            "bin_end": 105930.39582311733,
            "count": 0
           },
           {
            "bin_start": 105930.39582311733,
            "bin_end": 118496.46756447907,
            "count": 2
           },
           {
            "bin_start": 118496.46756447907,
            "bin_end": 131062.53930584082,
            "count": 2
           },
           {
            "bin_start": 131062.53930584082,
            "bin_end": 143628.61104720255,
            "count": 2
           },
           {
            "bin_start": 143628.61104720255,
            "bin_end": 156194.6827885643,
            "count": 4
           },
           {
            "bin_start": 156194.6827885643,
            "bin_end": 168760.75452992605,
            "count": 4
           },
           {
            "bin_start": 168760.75452992605,
            "bin_end": 181326.82627128778,
            "count": 7
           },
           {
            "bin_start": 181326.82627128778,
            "bin_end": 193892.8980126495,
            "count": 11
           },
           {
            "bin_start": 193892.8980126495,
            "bin_end": 206458.96975401125,
            "count": 6
           }
          ]
         }
        },
        {
         "name": 22,
         "dtype": "float64",
         "stats": {
          "unique_count": 4,
          "nan_count": 50,
          "min": "155408.17406273022",
          "max": "226684.93901255802",
          "histogram": [
           {
            "bin_start": 155408.17406273022,
            "bin_end": 162535.850557713,
            "count": 2
           },
           {
            "bin_start": 162535.850557713,
            "bin_end": 169663.52705269578,
            "count": 0
           },
           {
            "bin_start": 169663.52705269578,
            "bin_end": 176791.20354767857,
            "count": 0
           },
           {
            "bin_start": 176791.20354767857,
            "bin_end": 183918.88004266133,
            "count": 0
           },
           {
            "bin_start": 183918.88004266133,
            "bin_end": 191046.55653764412,
            "count": 0
           },
           {
            "bin_start": 191046.55653764412,
            "bin_end": 198174.23303262691,
            "count": 0
           },
           {
            "bin_start": 198174.23303262691,
            "bin_end": 205301.90952760968,
            "count": 0
           },
           {
            "bin_start": 205301.90952760968,
            "bin_end": 212429.58602259247,
            "count": 0
           },
           {
            "bin_start": 212429.58602259247,
            "bin_end": 219557.26251757523,
            "count": 0
           },
           {
            "bin_start": 219557.26251757523,
            "bin_end": 226684.93901255802,
            "count": 2
           }
          ]
         }
        },
        {
         "name": 23,
         "dtype": "float64",
         "stats": {
          "unique_count": 10,
          "nan_count": 44,
          "min": "159281.70125512694",
          "max": "174571.62719120272",
          "histogram": [
           {
            "bin_start": 159281.70125512694,
            "bin_end": 160810.69384873452,
            "count": 2
           },
           {
            "bin_start": 160810.69384873452,
            "bin_end": 162339.6864423421,
            "count": 0
           },
           {
            "bin_start": 162339.6864423421,
            "bin_end": 163868.67903594967,
            "count": 0
           },
           {
            "bin_start": 163868.67903594967,
            "bin_end": 165397.67162955724,
            "count": 2
           },
           {
            "bin_start": 165397.67162955724,
            "bin_end": 166926.66422316484,
            "count": 0
           },
           {
            "bin_start": 166926.66422316484,
            "bin_end": 168455.65681677242,
            "count": 0
           },
           {
            "bin_start": 168455.65681677242,
            "bin_end": 169984.64941038,
            "count": 0
           },
           {
            "bin_start": 169984.64941038,
            "bin_end": 171513.64200398757,
            "count": 2
           },
           {
            "bin_start": 171513.64200398757,
            "bin_end": 173042.63459759514,
            "count": 0
           },
           {
            "bin_start": 173042.63459759514,
            "bin_end": 174571.62719120272,
            "count": 4
           }
          ]
         }
        },
        {
         "name": 24,
         "dtype": "float64",
         "stats": {
          "unique_count": 16,
          "nan_count": 38,
          "min": "123373.52143981864",
          "max": "195596.66842503706",
          "histogram": [
           {
            "bin_start": 123373.52143981864,
            "bin_end": 130595.83613834048,
            "count": 2
           },
           {
            "bin_start": 130595.83613834048,
            "bin_end": 137818.15083686233,
            "count": 0
           },
           {
            "bin_start": 137818.15083686233,
            "bin_end": 145040.46553538417,
            "count": 2
           },
           {
            "bin_start": 145040.46553538417,
            "bin_end": 152262.780233906,
            "count": 0
           },
           {
            "bin_start": 152262.780233906,
            "bin_end": 159485.09493242786,
            "count": 10
           },
           {
            "bin_start": 159485.09493242786,
            "bin_end": 166707.4096309497,
            "count": 0
           },
           {
            "bin_start": 166707.4096309497,
            "bin_end": 173929.72432947153,
            "count": 0
           },
           {
            "bin_start": 173929.72432947153,
            "bin_end": 181152.0390279934,
            "count": 0
           },
           {
            "bin_start": 181152.0390279934,
            "bin_end": 188374.35372651523,
            "count": 0
           },
           {
            "bin_start": 188374.35372651523,
            "bin_end": 195596.66842503706,
            "count": 2
           }
          ]
         }
        },
        {
         "name": 25,
         "dtype": "float64",
         "stats": {
          "unique_count": 2,
          "nan_count": 52,
          "min": "141559.42763366416",
          "max": "141933.33717242363",
          "histogram": [
           {
            "bin_start": 141559.42763366416,
            "bin_end": 141596.81858754013,
            "count": 1
           },
           {
            "bin_start": 141596.81858754013,
            "bin_end": 141634.20954141606,
            "count": 0
           },
           {
            "bin_start": 141634.20954141606,
            "bin_end": 141671.600495292,
            "count": 0
           },
           {
            "bin_start": 141671.600495292,
            "bin_end": 141708.99144916795,
            "count": 0
           },
           {
            "bin_start": 141708.99144916795,
            "bin_end": 141746.3824030439,
            "count": 0
           },
           {
            "bin_start": 141746.3824030439,
            "bin_end": 141783.77335691985,
            "count": 0
           },
           {
            "bin_start": 141783.77335691985,
            "bin_end": 141821.16431079578,
            "count": 0
           },
           {
            "bin_start": 141821.16431079578,
            "bin_end": 141858.55526467174,
            "count": 0
           },
           {
            "bin_start": 141858.55526467174,
            "bin_end": 141895.9462185477,
            "count": 0
           },
           {
            "bin_start": 141895.9462185477,
            "bin_end": 141933.33717242363,
            "count": 1
           }
          ]
         }
        },
        {
         "name": 26,
         "dtype": "float64",
         "stats": {
          "unique_count": 12,
          "nan_count": 42,
          "min": "108114.23304484517",
          "max": "189641.99487871872",
          "histogram": [
           {
            "bin_start": 108114.23304484517,
            "bin_end": 116267.00922823252,
            "count": 2
           },
           {
            "bin_start": 116267.00922823252,
            "bin_end": 124419.78541161987,
            "count": 2
           },
           {
            "bin_start": 124419.78541161987,
            "bin_end": 132572.56159500722,
            "count": 4
           },
           {
            "bin_start": 132572.56159500722,
            "bin_end": 140725.33777839458,
            "count": 0
           },
           {
            "bin_start": 140725.33777839458,
            "bin_end": 148878.11396178196,
            "count": 0
           },
           {
            "bin_start": 148878.11396178196,
            "bin_end": 157030.89014516928,
            "count": 0
           },
           {
            "bin_start": 157030.89014516928,
            "bin_end": 165183.66632855666,
            "count": 0
           },
           {
            "bin_start": 165183.66632855666,
            "bin_end": 173336.442511944,
            "count": 0
           },
           {
            "bin_start": 173336.442511944,
            "bin_end": 181489.21869533136,
            "count": 2
           },
           {
            "bin_start": 181489.21869533136,
            "bin_end": 189641.99487871872,
            "count": 2
           }
          ]
         }
        },
        {
         "name": 27,
         "dtype": "float64",
         "stats": {
          "unique_count": 2,
          "nan_count": 52,
          "min": "116097.19587673637",
          "max": "117255.9892310909",
          "histogram": [
           {
            "bin_start": 116097.19587673637,
            "bin_end": 116213.07521217183,
            "count": 1
           },
           {
            "bin_start": 116213.07521217183,
            "bin_end": 116328.95454760728,
            "count": 0
           },
           {
            "bin_start": 116328.95454760728,
            "bin_end": 116444.83388304272,
            "count": 0
           },
           {
            "bin_start": 116444.83388304272,
            "bin_end": 116560.71321847818,
            "count": 0
           },
           {
            "bin_start": 116560.71321847818,
            "bin_end": 116676.59255391364,
            "count": 0
           },
           {
            "bin_start": 116676.59255391364,
            "bin_end": 116792.4718893491,
            "count": 0
           },
           {
            "bin_start": 116792.4718893491,
            "bin_end": 116908.35122478455,
            "count": 0
           },
           {
            "bin_start": 116908.35122478455,
            "bin_end": 117024.23056021999,
            "count": 0
           },
           {
            "bin_start": 117024.23056021999,
            "bin_end": 117140.10989565545,
            "count": 0
           },
           {
            "bin_start": 117140.10989565545,
            "bin_end": 117255.9892310909,
            "count": 1
           }
          ]
         }
        },
        {
         "name": 28,
         "dtype": "float64",
         "stats": {
          "unique_count": 24,
          "nan_count": 30,
          "min": "212486.3447126821",
          "max": "253576.52397412673",
          "histogram": [
           {
            "bin_start": 212486.3447126821,
            "bin_end": 216595.36263882657,
            "count": 2
           },
           {
            "bin_start": 216595.36263882657,
            "bin_end": 220704.380564971,
            "count": 6
           },
           {
            "bin_start": 220704.380564971,
            "bin_end": 224813.39849111548,
            "count": 0
           },
           {
            "bin_start": 224813.39849111548,
            "bin_end": 228922.41641725996,
            "count": 4
           },
           {
            "bin_start": 228922.41641725996,
            "bin_end": 233031.43434340443,
            "count": 4
           },
           {
            "bin_start": 233031.43434340443,
            "bin_end": 237140.45226954887,
            "count": 2
           },
           {
            "bin_start": 237140.45226954887,
            "bin_end": 241249.47019569334,
            "count": 4
           },
           {
            "bin_start": 241249.47019569334,
            "bin_end": 245358.48812183779,
            "count": 0
           },
           {
            "bin_start": 245358.48812183779,
            "bin_end": 249467.50604798226,
            "count": 0
           },
           {
            "bin_start": 249467.50604798226,
            "bin_end": 253576.52397412673,
            "count": 2
           }
          ]
         }
        },
        {
         "name": 29,
         "dtype": "float64",
         "stats": {
          "unique_count": 2,
          "nan_count": 52,
          "min": "217342.25668365005",
          "max": "220605.2706136751",
          "histogram": [
           {
            "bin_start": 217342.25668365005,
            "bin_end": 217668.55807665255,
            "count": 1
           },
           {
            "bin_start": 217668.55807665255,
            "bin_end": 217994.85946965506,
            "count": 0
           },
           {
            "bin_start": 217994.85946965506,
            "bin_end": 218321.16086265756,
            "count": 0
           },
           {
            "bin_start": 218321.16086265756,
            "bin_end": 218647.46225566007,
            "count": 0
           },
           {
            "bin_start": 218647.46225566007,
            "bin_end": 218973.76364866257,
            "count": 0
           },
           {
            "bin_start": 218973.76364866257,
            "bin_end": 219300.06504166508,
            "count": 0
           },
           {
            "bin_start": 219300.06504166508,
            "bin_end": 219626.36643466758,
            "count": 0
           },
           {
            "bin_start": 219626.36643466758,
            "bin_end": 219952.66782767008,
            "count": 0
           },
           {
            "bin_start": 219952.66782767008,
            "bin_end": 220278.9692206726,
            "count": 0
           },
           {
            "bin_start": 220278.9692206726,
            "bin_end": 220605.2706136751,
            "count": 1
           }
          ]
         }
        },
        {
         "name": 30,
         "dtype": "float64",
         "stats": {
          "unique_count": 0,
          "nan_count": 54,
          "min": null,
          "max": null,
          "histogram": [
           {
            "bin_start": 0,
            "bin_end": 0.1,
            "count": 0
           },
           {
            "bin_start": 0.1,
            "bin_end": 0.2,
            "count": 0
           },
           {
            "bin_start": 0.2,
            "bin_end": 0.30000000000000004,
            "count": 0
           },
           {
            "bin_start": 0.30000000000000004,
            "bin_end": 0.4,
            "count": 0
           },
           {
            "bin_start": 0.4,
            "bin_end": 0.5,
            "count": 0
           },
           {
            "bin_start": 0.5,
            "bin_end": 0.6000000000000001,
            "count": 0
           },
           {
            "bin_start": 0.6000000000000001,
            "bin_end": 0.7000000000000001,
            "count": 0
           },
           {
            "bin_start": 0.7000000000000001,
            "bin_end": 0.8,
            "count": 0
           },
           {
            "bin_start": 0.8,
            "bin_end": 0.9,
            "count": 0
           },
           {
            "bin_start": 0.9,
            "bin_end": 1,
            "count": 0
           }
          ]
         }
        },
        {
         "name": 31,
         "dtype": "float64",
         "stats": {
          "unique_count": 10,
          "nan_count": 44,
          "min": "180651.05797393568",
          "max": "189337.0315080193",
          "histogram": [
           {
            "bin_start": 180651.05797393568,
            "bin_end": 181519.65532734405,
            "count": 2
           },
           {
            "bin_start": 181519.65532734405,
            "bin_end": 182388.2526807524,
            "count": 0
           },
           {
            "bin_start": 182388.2526807524,
            "bin_end": 183256.85003416077,
            "count": 1
           },
           {
            "bin_start": 183256.85003416077,
            "bin_end": 184125.44738756912,
            "count": 3
           },
           {
            "bin_start": 184125.44738756912,
            "bin_end": 184994.0447409775,
            "count": 0
           },
           {
            "bin_start": 184994.0447409775,
            "bin_end": 185862.64209438587,
            "count": 0
           },
           {
            "bin_start": 185862.64209438587,
            "bin_end": 186731.2394477942,
            "count": 2
           },
           {
            "bin_start": 186731.2394477942,
            "bin_end": 187599.8368012026,
            "count": 0
           },
           {
            "bin_start": 187599.8368012026,
            "bin_end": 188468.43415461094,
            "count": 0
           },
           {
            "bin_start": 188468.43415461094,
            "bin_end": 189337.0315080193,
            "count": 2
           }
          ]
         }
        },
        {
         "name": 32,
         "dtype": "float64",
         "stats": {
          "unique_count": 27,
          "nan_count": 27,
          "min": "161020.1080830938",
          "max": "226115.40189233667",
          "histogram": [
           {
            "bin_start": 161020.1080830938,
            "bin_end": 167529.63746401807,
            "count": 1
           },
           {
            "bin_start": 167529.63746401807,
            "bin_end": 174039.16684494237,
            "count": 0
           },
           {
            "bin_start": 174039.16684494237,
            "bin_end": 180548.69622586668,
            "count": 2
           },
           {
            "bin_start": 180548.69622586668,
            "bin_end": 187058.22560679095,
            "count": 2
           },
           {
            "bin_start": 187058.22560679095,
            "bin_end": 193567.75498771522,
            "count": 6
           },
           {
            "bin_start": 193567.75498771522,
            "bin_end": 200077.28436863952,
            "count": 4
           },
           {
            "bin_start": 200077.28436863952,
            "bin_end": 206586.81374956382,
            "count": 6
           },
           {
            "bin_start": 206586.81374956382,
            "bin_end": 213096.3431304881,
            "count": 0
           },
           {
            "bin_start": 213096.3431304881,
            "bin_end": 219605.87251141237,
            "count": 0
           },
           {
            "bin_start": 219605.87251141237,
            "bin_end": 226115.40189233667,
            "count": 6
           }
          ]
         }
        },
        {
         "name": 33,
         "dtype": "float64",
         "stats": {
          "unique_count": 40,
          "nan_count": 14,
          "min": "170346.96149284247",
          "max": "298390.459814484",
          "histogram": [
           {
            "bin_start": 170346.96149284247,
            "bin_end": 183151.31132500662,
            "count": 4
           },
           {
            "bin_start": 183151.31132500662,
            "bin_end": 195955.66115717078,
            "count": 9
           },
           {
            "bin_start": 195955.66115717078,
            "bin_end": 208760.01098933493,
            "count": 5
           },
           {
            "bin_start": 208760.01098933493,
            "bin_end": 221564.36082149908,
            "count": 8
           },
           {
            "bin_start": 221564.36082149908,
            "bin_end": 234368.71065366323,
            "count": 4
           },
           {
            "bin_start": 234368.71065366323,
            "bin_end": 247173.0604858274,
            "count": 4
           },
           {
            "bin_start": 247173.0604858274,
            "bin_end": 259977.41031799154,
            "count": 2
           },
           {
            "bin_start": 259977.41031799154,
            "bin_end": 272781.7601501557,
            "count": 0
           },
           {
            "bin_start": 272781.7601501557,
            "bin_end": 285586.1099823199,
            "count": 0
           },
           {
            "bin_start": 285586.1099823199,
            "bin_end": 298390.459814484,
            "count": 4
           }
          ]
         }
        },
        {
         "name": 34,
         "dtype": "float64",
         "stats": {
          "unique_count": 30,
          "nan_count": 24,
          "min": "120730.49140744511",
          "max": "194757.4310252487",
          "histogram": [
           {
            "bin_start": 120730.49140744511,
            "bin_end": 128133.18536922547,
            "count": 4
           },
           {
            "bin_start": 128133.18536922547,
            "bin_end": 135535.87933100582,
            "count": 0
           },
           {
            "bin_start": 135535.87933100582,
            "bin_end": 142938.5732927862,
            "count": 0
           },
           {
            "bin_start": 142938.5732927862,
            "bin_end": 150341.26725456654,
            "count": 2
           },
           {
            "bin_start": 150341.26725456654,
            "bin_end": 157743.96121634688,
            "count": 2
           },
           {
            "bin_start": 157743.96121634688,
            "bin_end": 165146.65517812726,
            "count": 2
           },
           {
            "bin_start": 165146.65517812726,
            "bin_end": 172549.34913990763,
            "count": 6
           },
           {
            "bin_start": 172549.34913990763,
            "bin_end": 179952.04310168797,
            "count": 2
           },
           {
            "bin_start": 179952.04310168797,
            "bin_end": 187354.73706346832,
            "count": 4
           },
           {
            "bin_start": 187354.73706346832,
            "bin_end": 194757.4310252487,
            "count": 8
           }
          ]
         }
        },
        {
         "name": 35,
         "dtype": "float64",
         "stats": {
          "unique_count": 2,
          "nan_count": 52,
          "min": "157093.65225803587",
          "max": "157790.22320486777",
          "histogram": [
           {
            "bin_start": 157093.65225803587,
            "bin_end": 157163.30935271905,
            "count": 1
           },
           {
            "bin_start": 157163.30935271905,
            "bin_end": 157232.96644740226,
            "count": 0
           },
           {
            "bin_start": 157232.96644740226,
            "bin_end": 157302.62354208544,
            "count": 0
           },
           {
            "bin_start": 157302.62354208544,
            "bin_end": 157372.28063676864,
            "count": 0
           },
           {
            "bin_start": 157372.28063676864,
            "bin_end": 157441.93773145182,
            "count": 0
           },
           {
            "bin_start": 157441.93773145182,
            "bin_end": 157511.594826135,
            "count": 0
           },
           {
            "bin_start": 157511.594826135,
            "bin_end": 157581.2519208182,
            "count": 0
           },
           {
            "bin_start": 157581.2519208182,
            "bin_end": 157650.90901550138,
            "count": 0
           },
           {
            "bin_start": 157650.90901550138,
            "bin_end": 157720.5661101846,
            "count": 0
           },
           {
            "bin_start": 157720.5661101846,
            "bin_end": 157790.22320486777,
            "count": 1
           }
          ]
         }
        },
        {
         "name": 36,
         "dtype": "float64",
         "stats": {
          "unique_count": 18,
          "nan_count": 36,
          "min": "122576.14093403317",
          "max": "234671.27034211988",
          "histogram": [
           {
            "bin_start": 122576.14093403317,
            "bin_end": 133785.65387484184,
            "count": 2
           },
           {
            "bin_start": 133785.65387484184,
            "bin_end": 144995.1668156505,
            "count": 2
           },
           {
            "bin_start": 144995.1668156505,
            "bin_end": 156204.6797564592,
            "count": 6
           },
           {
            "bin_start": 156204.6797564592,
            "bin_end": 167414.19269726786,
            "count": 0
           },
           {
            "bin_start": 167414.19269726786,
            "bin_end": 178623.70563807653,
            "count": 0
           },
           {
            "bin_start": 178623.70563807653,
            "bin_end": 189833.2185788852,
            "count": 2
           },
           {
            "bin_start": 189833.2185788852,
            "bin_end": 201042.73151969386,
            "count": 2
           },
           {
            "bin_start": 201042.73151969386,
            "bin_end": 212252.24446050252,
            "count": 0
           },
           {
            "bin_start": 212252.24446050252,
            "bin_end": 223461.7574013112,
            "count": 0
           },
           {
            "bin_start": 223461.7574013112,
            "bin_end": 234671.27034211988,
            "count": 4
           }
          ]
         }
        },
        {
         "name": 37,
         "dtype": "float64",
         "stats": {
          "unique_count": 52,
          "nan_count": 2,
          "min": "25730.199152966845",
          "max": "205289.9677099517",
          "histogram": [
           {
            "bin_start": 25730.199152966845,
            "bin_end": 43686.17600866533,
            "count": 4
           },
           {
            "bin_start": 43686.17600866533,
            "bin_end": 61642.152864363816,
            "count": 4
           },
           {
            "bin_start": 61642.152864363816,
            "bin_end": 79598.12972006231,
            "count": 4
           },
           {
            "bin_start": 79598.12972006231,
            "bin_end": 97554.10657576079,
            "count": 14
           },
           {
            "bin_start": 97554.10657576079,
            "bin_end": 115510.08343145926,
            "count": 1
           },
           {
            "bin_start": 115510.08343145926,
            "bin_end": 133466.06028715777,
            "count": 5
           },
           {
            "bin_start": 133466.06028715777,
            "bin_end": 151422.03714285625,
            "count": 2
           },
           {
            "bin_start": 151422.03714285625,
            "bin_end": 169378.01399855473,
            "count": 6
           },
           {
            "bin_start": 169378.01399855473,
            "bin_end": 187333.9908542532,
            "count": 4
           },
           {
            "bin_start": 187333.9908542532,
            "bin_end": 205289.9677099517,
            "count": 8
           }
          ]
         }
        },
        {
         "name": 38,
         "dtype": "float64",
         "stats": {
          "unique_count": 15,
          "nan_count": 39,
          "min": "150150.53460877985",
          "max": "234523.28323976483",
          "histogram": [
           {
            "bin_start": 150150.53460877985,
            "bin_end": 158587.80947187834,
            "count": 1
           },
           {
            "bin_start": 158587.80947187834,
            "bin_end": 167025.08433497685,
            "count": 2
           },
           {
            "bin_start": 167025.08433497685,
            "bin_end": 175462.35919807534,
            "count": 0
           },
           {
            "bin_start": 175462.35919807534,
            "bin_end": 183899.63406117383,
            "count": 4
           },
           {
            "bin_start": 183899.63406117383,
            "bin_end": 192336.90892427234,
            "count": 0
           },
           {
            "bin_start": 192336.90892427234,
            "bin_end": 200774.18378737083,
            "count": 0
           },
           {
            "bin_start": 200774.18378737083,
            "bin_end": 209211.4586504693,
            "count": 2
           },
           {
            "bin_start": 209211.4586504693,
            "bin_end": 217648.73351356783,
            "count": 0
           },
           {
            "bin_start": 217648.73351356783,
            "bin_end": 226086.00837666634,
            "count": 2
           },
           {
            "bin_start": 226086.00837666634,
            "bin_end": 234523.28323976483,
            "count": 4
           }
          ]
         }
        },
        {
         "name": 39,
         "dtype": "float64",
         "stats": {
          "unique_count": 0,
          "nan_count": 54,
          "min": null,
          "max": null,
          "histogram": [
           {
            "bin_start": 0,
            "bin_end": 0.1,
            "count": 0
           },
           {
            "bin_start": 0.1,
            "bin_end": 0.2,
            "count": 0
           },
           {
            "bin_start": 0.2,
            "bin_end": 0.30000000000000004,
            "count": 0
           },
           {
            "bin_start": 0.30000000000000004,
            "bin_end": 0.4,
            "count": 0
           },
           {
            "bin_start": 0.4,
            "bin_end": 0.5,
            "count": 0
           },
           {
            "bin_start": 0.5,
            "bin_end": 0.6000000000000001,
            "count": 0
           },
           {
            "bin_start": 0.6000000000000001,
            "bin_end": 0.7000000000000001,
            "count": 0
           },
           {
            "bin_start": 0.7000000000000001,
            "bin_end": 0.8,
            "count": 0
           },
           {
            "bin_start": 0.8,
            "bin_end": 0.9,
            "count": 0
           },
           {
            "bin_start": 0.9,
            "bin_end": 1,
            "count": 0
           }
          ]
         }
        },
        {
         "name": 40,
         "dtype": "float64",
         "stats": {
          "unique_count": 4,
          "nan_count": 50,
          "min": "215773.25711280797",
          "max": "236321.2808932245",
          "histogram": [
           {
            "bin_start": 215773.25711280797,
            "bin_end": 217828.0594908496,
            "count": 2
           },
           {
            "bin_start": 217828.0594908496,
            "bin_end": 219882.86186889128,
            "count": 0
           },
           {
            "bin_start": 219882.86186889128,
            "bin_end": 221937.66424693292,
            "count": 0
           },
           {
            "bin_start": 221937.66424693292,
            "bin_end": 223992.4666249746,
            "count": 0
           },
           {
            "bin_start": 223992.4666249746,
            "bin_end": 226047.26900301623,
            "count": 0
           },
           {
            "bin_start": 226047.26900301623,
            "bin_end": 228102.07138105787,
            "count": 0
           },
           {
            "bin_start": 228102.07138105787,
            "bin_end": 230156.87375909954,
            "count": 0
           },
           {
            "bin_start": 230156.87375909954,
            "bin_end": 232211.67613714118,
            "count": 0
           },
           {
            "bin_start": 232211.67613714118,
            "bin_end": 234266.47851518285,
            "count": 0
           },
           {
            "bin_start": 234266.47851518285,
            "bin_end": 236321.2808932245,
            "count": 2
           }
          ]
         }
        },
        {
         "name": 41,
         "dtype": "float64",
         "stats": {
          "unique_count": 2,
          "nan_count": 52,
          "min": "35308.827215216385",
          "max": "37170.84904037623",
          "histogram": [
           {
            "bin_start": 35308.827215216385,
            "bin_end": 35495.02939773237,
            "count": 1
           },
           {
            "bin_start": 35495.02939773237,
            "bin_end": 35681.23158024836,
            "count": 0
           },
           {
            "bin_start": 35681.23158024836,
            "bin_end": 35867.43376276434,
            "count": 0
           },
           {
            "bin_start": 35867.43376276434,
            "bin_end": 36053.63594528032,
            "count": 0
           },
           {
            "bin_start": 36053.63594528032,
            "bin_end": 36239.838127796305,
            "count": 0
           },
           {
            "bin_start": 36239.838127796305,
            "bin_end": 36426.040310312295,
            "count": 0
           },
           {
            "bin_start": 36426.040310312295,
            "bin_end": 36612.24249282828,
            "count": 0
           },
           {
            "bin_start": 36612.24249282828,
            "bin_end": 36798.44467534426,
            "count": 0
           },
           {
            "bin_start": 36798.44467534426,
            "bin_end": 36984.64685786025,
            "count": 0
           },
           {
            "bin_start": 36984.64685786025,
            "bin_end": 37170.84904037623,
            "count": 1
           }
          ]
         }
        },
        {
         "name": 42,
         "dtype": "float64",
         "stats": {
          "unique_count": 0,
          "nan_count": 54,
          "min": null,
          "max": null,
          "histogram": [
           {
            "bin_start": 0,
            "bin_end": 0.1,
            "count": 0
           },
           {
            "bin_start": 0.1,
            "bin_end": 0.2,
            "count": 0
           },
           {
            "bin_start": 0.2,
            "bin_end": 0.30000000000000004,
            "count": 0
           },
           {
            "bin_start": 0.30000000000000004,
            "bin_end": 0.4,
            "count": 0
           },
           {
            "bin_start": 0.4,
            "bin_end": 0.5,
            "count": 0
           },
           {
            "bin_start": 0.5,
            "bin_end": 0.6000000000000001,
            "count": 0
           },
           {
            "bin_start": 0.6000000000000001,
            "bin_end": 0.7000000000000001,
            "count": 0
           },
           {
            "bin_start": 0.7000000000000001,
            "bin_end": 0.8,
            "count": 0
           },
           {
            "bin_start": 0.8,
            "bin_end": 0.9,
            "count": 0
           },
           {
            "bin_start": 0.9,
            "bin_end": 1,
            "count": 0
           }
          ]
         }
        },
        {
         "name": 43,
         "dtype": "float64",
         "stats": {
          "unique_count": 0,
          "nan_count": 54,
          "min": null,
          "max": null,
          "histogram": [
           {
            "bin_start": 0,
            "bin_end": 0.1,
            "count": 0
           },
           {
            "bin_start": 0.1,
            "bin_end": 0.2,
            "count": 0
           },
           {
            "bin_start": 0.2,
            "bin_end": 0.30000000000000004,
            "count": 0
           },
           {
            "bin_start": 0.30000000000000004,
            "bin_end": 0.4,
            "count": 0
           },
           {
            "bin_start": 0.4,
            "bin_end": 0.5,
            "count": 0
           },
           {
            "bin_start": 0.5,
            "bin_end": 0.6000000000000001,
            "count": 0
           },
           {
            "bin_start": 0.6000000000000001,
            "bin_end": 0.7000000000000001,
            "count": 0
           },
           {
            "bin_start": 0.7000000000000001,
            "bin_end": 0.8,
            "count": 0
           },
           {
            "bin_start": 0.8,
            "bin_end": 0.9,
            "count": 0
           },
           {
            "bin_start": 0.9,
            "bin_end": 1,
            "count": 0
           }
          ]
         }
        },
        {
         "name": 44,
         "dtype": "float64",
         "stats": {
          "unique_count": 8,
          "nan_count": 46,
          "min": "100390.31108460158",
          "max": "139917.25160383564",
          "histogram": [
           {
            "bin_start": 100390.31108460158,
            "bin_end": 104343.00513652498,
            "count": 2
           },
           {
            "bin_start": 104343.00513652498,
            "bin_end": 108295.69918844839,
            "count": 2
           },
           {
            "bin_start": 108295.69918844839,
            "bin_end": 112248.39324037179,
            "count": 0
           },
           {
            "bin_start": 112248.39324037179,
            "bin_end": 116201.0872922952,
            "count": 0
           },
           {
            "bin_start": 116201.0872922952,
            "bin_end": 120153.78134421862,
            "count": 0
           },
           {
            "bin_start": 120153.78134421862,
            "bin_end": 124106.47539614202,
            "count": 0
           },
           {
            "bin_start": 124106.47539614202,
            "bin_end": 128059.16944806543,
            "count": 0
           },
           {
            "bin_start": 128059.16944806543,
            "bin_end": 132011.86349998883,
            "count": 2
           },
           {
            "bin_start": 132011.86349998883,
            "bin_end": 135964.55755191224,
            "count": 0
           },
           {
            "bin_start": 135964.55755191224,
            "bin_end": 139917.25160383564,
            "count": 2
           }
          ]
         }
        },
        {
         "name": 45,
         "dtype": "float64",
         "stats": {
          "unique_count": 4,
          "nan_count": 50,
          "min": "174337.7275005214",
          "max": "218905.22608125565",
          "histogram": [
           {
            "bin_start": 174337.7275005214,
            "bin_end": 178794.47735859483,
            "count": 2
           },
           {
            "bin_start": 178794.47735859483,
            "bin_end": 183251.22721666825,
            "count": 0
           },
           {
            "bin_start": 183251.22721666825,
            "bin_end": 187707.97707474168,
            "count": 0
           },
           {
            "bin_start": 187707.97707474168,
            "bin_end": 192164.7269328151,
            "count": 0
           },
           {
            "bin_start": 192164.7269328151,
            "bin_end": 196621.47679088853,
            "count": 0
           },
           {
            "bin_start": 196621.47679088853,
            "bin_end": 201078.22664896195,
            "count": 0
           },
           {
            "bin_start": 201078.22664896195,
            "bin_end": 205534.97650703538,
            "count": 0
           },
           {
            "bin_start": 205534.97650703538,
            "bin_end": 209991.7263651088,
            "count": 0
           },
           {
            "bin_start": 209991.7263651088,
            "bin_end": 214448.47622318222,
            "count": 0
           },
           {
            "bin_start": 214448.47622318222,
            "bin_end": 218905.22608125565,
            "count": 2
           }
          ]
         }
        },
        {
         "name": 46,
         "dtype": "float64",
         "stats": {
          "unique_count": 0,
          "nan_count": 54,
          "min": null,
          "max": null,
          "histogram": [
           {
            "bin_start": 0,
            "bin_end": 0.1,
            "count": 0
           },
           {
            "bin_start": 0.1,
            "bin_end": 0.2,
            "count": 0
           },
           {
            "bin_start": 0.2,
            "bin_end": 0.30000000000000004,
            "count": 0
           },
           {
            "bin_start": 0.30000000000000004,
            "bin_end": 0.4,
            "count": 0
           },
           {
            "bin_start": 0.4,
            "bin_end": 0.5,
            "count": 0
           },
           {
            "bin_start": 0.5,
            "bin_end": 0.6000000000000001,
            "count": 0
           },
           {
            "bin_start": 0.6000000000000001,
            "bin_end": 0.7000000000000001,
            "count": 0
           },
           {
            "bin_start": 0.7000000000000001,
            "bin_end": 0.8,
            "count": 0
           },
           {
            "bin_start": 0.8,
            "bin_end": 0.9,
            "count": 0
           },
           {
            "bin_start": 0.9,
            "bin_end": 1,
            "count": 0
           }
          ]
         }
        },
        {
         "name": 47,
         "dtype": "float64",
         "stats": {
          "unique_count": 2,
          "nan_count": 52,
          "min": "237512.76772008644",
          "max": "237816.93002587857",
          "histogram": [
           {
            "bin_start": 237512.76772008644,
            "bin_end": 237543.18395066564,
            "count": 1
           },
           {
            "bin_start": 237543.18395066564,
            "bin_end": 237573.60018124487,
            "count": 0
           },
           {
            "bin_start": 237573.60018124487,
            "bin_end": 237604.0164118241,
            "count": 0
           },
           {
            "bin_start": 237604.0164118241,
            "bin_end": 237634.4326424033,
            "count": 0
           },
           {
            "bin_start": 237634.4326424033,
            "bin_end": 237664.8488729825,
            "count": 0
           },
           {
            "bin_start": 237664.8488729825,
            "bin_end": 237695.26510356172,
            "count": 0
           },
           {
            "bin_start": 237695.26510356172,
            "bin_end": 237725.68133414094,
            "count": 0
           },
           {
            "bin_start": 237725.68133414094,
            "bin_end": 237756.09756472014,
            "count": 0
           },
           {
            "bin_start": 237756.09756472014,
            "bin_end": 237786.51379529934,
            "count": 0
           },
           {
            "bin_start": 237786.51379529934,
            "bin_end": 237816.93002587857,
            "count": 1
           }
          ]
         }
        },
        {
         "name": 48,
         "dtype": "float64",
         "stats": {
          "unique_count": 4,
          "nan_count": 50,
          "min": "0.0",
          "max": "24924.047940580735",
          "histogram": [
           {
            "bin_start": 0,
            "bin_end": 2492.4047940580735,
            "count": 1
           },
           {
            "bin_start": 2492.4047940580735,
            "bin_end": 4984.809588116147,
            "count": 0
           },
           {
            "bin_start": 4984.809588116147,
            "bin_end": 7477.214382174221,
            "count": 0
           },
           {
            "bin_start": 7477.214382174221,
            "bin_end": 9969.619176232294,
            "count": 1
           },
           {
            "bin_start": 9969.619176232294,
            "bin_end": 12462.023970290367,
            "count": 0
           },
           {
            "bin_start": 12462.023970290367,
            "bin_end": 14954.428764348442,
            "count": 0
           },
           {
            "bin_start": 14954.428764348442,
            "bin_end": 17446.833558406513,
            "count": 0
           },
           {
            "bin_start": 17446.833558406513,
            "bin_end": 19939.23835246459,
            "count": 0
           },
           {
            "bin_start": 19939.23835246459,
            "bin_end": 22431.643146522663,
            "count": 0
           },
           {
            "bin_start": 22431.643146522663,
            "bin_end": 24924.047940580735,
            "count": 2
           }
          ]
         }
        },
        {
         "name": 49,
         "dtype": "float64",
         "stats": {
          "unique_count": 5,
          "nan_count": 49,
          "min": "0.0",
          "max": "129158.67117706162",
          "histogram": [
           {
            "bin_start": 0,
            "bin_end": 12915.867117706162,
            "count": 1
           },
           {
            "bin_start": 12915.867117706162,
            "bin_end": 25831.734235412325,
            "count": 0
           },
           {
            "bin_start": 25831.734235412325,
            "bin_end": 38747.60135311849,
            "count": 0
           },
           {
            "bin_start": 38747.60135311849,
            "bin_end": 51663.46847082465,
            "count": 0
           },
           {
            "bin_start": 51663.46847082465,
            "bin_end": 64579.33558853081,
            "count": 0
           },
           {
            "bin_start": 64579.33558853081,
            "bin_end": 77495.20270623697,
            "count": 0
           },
           {
            "bin_start": 77495.20270623697,
            "bin_end": 90411.06982394314,
            "count": 0
           },
           {
            "bin_start": 90411.06982394314,
            "bin_end": 103326.9369416493,
            "count": 0
           },
           {
            "bin_start": 103326.9369416493,
            "bin_end": 116242.80405935546,
            "count": 0
           },
           {
            "bin_start": 116242.80405935546,
            "bin_end": 129158.67117706162,
            "count": 4
           }
          ]
         }
        },
        {
         "name": 50,
         "dtype": "float64",
         "stats": {
          "unique_count": 0,
          "nan_count": 54,
          "min": null,
          "max": null,
          "histogram": [
           {
            "bin_start": 0,
            "bin_end": 0.1,
            "count": 0
           },
           {
            "bin_start": 0.1,
            "bin_end": 0.2,
            "count": 0
           },
           {
            "bin_start": 0.2,
            "bin_end": 0.30000000000000004,
            "count": 0
           },
           {
            "bin_start": 0.30000000000000004,
            "bin_end": 0.4,
            "count": 0
           },
           {
            "bin_start": 0.4,
            "bin_end": 0.5,
            "count": 0
           },
           {
            "bin_start": 0.5,
            "bin_end": 0.6000000000000001,
            "count": 0
           },
           {
            "bin_start": 0.6000000000000001,
            "bin_end": 0.7000000000000001,
            "count": 0
           },
           {
            "bin_start": 0.7000000000000001,
            "bin_end": 0.8,
            "count": 0
           },
           {
            "bin_start": 0.8,
            "bin_end": 0.9,
            "count": 0
           },
           {
            "bin_start": 0.9,
            "bin_end": 1,
            "count": 0
           }
          ]
         }
        },
        {
         "name": 51,
         "dtype": "float64",
         "stats": {
          "unique_count": 0,
          "nan_count": 54,
          "min": null,
          "max": null,
          "histogram": [
           {
            "bin_start": 0,
            "bin_end": 0.1,
            "count": 0
           },
           {
            "bin_start": 0.1,
            "bin_end": 0.2,
            "count": 0
           },
           {
            "bin_start": 0.2,
            "bin_end": 0.30000000000000004,
            "count": 0
           },
           {
            "bin_start": 0.30000000000000004,
            "bin_end": 0.4,
            "count": 0
           },
           {
            "bin_start": 0.4,
            "bin_end": 0.5,
            "count": 0
           },
           {
            "bin_start": 0.5,
            "bin_end": 0.6000000000000001,
            "count": 0
           },
           {
            "bin_start": 0.6000000000000001,
            "bin_end": 0.7000000000000001,
            "count": 0
           },
           {
            "bin_start": 0.7000000000000001,
            "bin_end": 0.8,
            "count": 0
           },
           {
            "bin_start": 0.8,
            "bin_end": 0.9,
            "count": 0
           },
           {
            "bin_start": 0.9,
            "bin_end": 1,
            "count": 0
           }
          ]
         }
        },
        {
         "name": 52,
         "dtype": "float64",
         "stats": {
          "unique_count": 8,
          "nan_count": 46,
          "min": "137340.47029693166",
          "max": "218823.62275383231",
          "histogram": [
           {
            "bin_start": 137340.47029693166,
            "bin_end": 145488.7855426217,
            "count": 2
           },
           {
            "bin_start": 145488.7855426217,
            "bin_end": 153637.1007883118,
            "count": 0
           },
           {
            "bin_start": 153637.1007883118,
            "bin_end": 161785.41603400186,
            "count": 0
           },
           {
            "bin_start": 161785.41603400186,
            "bin_end": 169933.7312796919,
            "count": 2
           },
           {
            "bin_start": 169933.7312796919,
            "bin_end": 178082.04652538197,
            "count": 2
           },
           {
            "bin_start": 178082.04652538197,
            "bin_end": 186230.36177107206,
            "count": 0
           },
           {
            "bin_start": 186230.36177107206,
            "bin_end": 194378.6770167621,
            "count": 0
           },
           {
            "bin_start": 194378.6770167621,
            "bin_end": 202526.9922624522,
            "count": 0
           },
           {
            "bin_start": 202526.9922624522,
            "bin_end": 210675.30750814226,
            "count": 0
           },
           {
            "bin_start": 210675.30750814226,
            "bin_end": 218823.62275383231,
            "count": 2
           }
          ]
         }
        },
        {
         "name": "_deepnote_index_column",
         "dtype": "int64"
        }
       ],
       "rows": [
        {
         "0": "195988.27594935388",
         "1": "nan",
         "2": "84618.4338166791",
         "3": "97063.4794245496",
         "4": "nan",
         "5": "nan",
         "6": "212314.36020061924",
         "7": "9263.175790515095",
         "8": "nan",
         "9": "183838.55649161327",
         "10": "nan",
         "11": "149099.216245759",
         "12": "175029.4275881536",
         "13": "171582.77041393437",
         "14": "174457.99628210912",
         "15": "nan",
         "16": "113140.89098403596",
         "17": "168749.47008614536",
         "18": "185256.78737275017",
         "19": "nan",
         "20": "nan",
         "21": "172166.91736751658",
         "22": "155706.70901767496",
         "23": "159281.70125512694",
         "24": "123549.26845187417",
         "25": "141933.33717242363",
         "26": "177364.76950987012",
         "27": "116097.19587673637",
         "28": "231953.27677471854",
         "29": "217342.25668365005",
         "30": "nan",
         "31": "180651.05797393568",
         "32": "220095.56970801202",
         "33": "241522.71987445545",
         "34": "157226.98774338345",
         "35": "157093.65225803587",
         "36": "145772.9416661705",
         "37": "202003.33802668538",
         "38": "206893.96403483627",
         "39": "nan",
         "40": "236321.2808932245",
         "41": "37170.84904037623",
         "42": "nan",
         "43": "nan",
         "44": "139565.81845790183",
         "45": "218765.04032736155",
         "46": "nan",
         "47": "237816.93002587857",
         "48": "23588.467488570852",
         "49": "129158.67117706162",
         "50": "nan",
         "51": "nan",
         "52": "177039.19681973904",
         "_deepnote_index_column": "0"
        },
        {
         "0": "171011.27399272754",
         "1": "nan",
         "2": "84976.95769118247",
         "3": "97565.58201604188",
         "4": "nan",
         "5": "nan",
         "6": "144089.32523212626",
         "7": "14548.985558418668",
         "8": "nan",
         "9": "186524.20341961324",
         "10": "nan",
         "11": "122151.6188270031",
         "12": "175279.9744305819",
         "13": "171361.49574449062",
         "14": "174741.05460348836",
         "15": "nan",
         "16": "114803.06037189315",
         "17": "174938.4606101258",
         "18": "185302.2186395166",
         "19": "nan",
         "20": "nan",
         "21": "175656.64110552188",
         "22": "226640.9224599897",
         "23": "159430.63207161566",
         "24": "123373.52143981864",
         "25": "141559.42763366416",
         "26": "177525.3718871876",
         "27": "117255.9892310909",
         "28": "231566.35441372177",
         "29": "220605.2706136751",
         "30": "nan",
         "31": "186507.15852203738",
         "32": "191490.45189302578",
         "33": "208276.1693090351",
         "34": "157546.76300591065",
         "35": "157790.22320486777",
         "36": "151367.0001357092",
         "37": "202118.34139011442",
         "38": "150150.53460877985",
         "39": "nan",
         "40": "215773.25711280797",
         "41": "35308.827215216385",
         "42": "nan",
         "43": "nan",
         "44": "139917.25160383564",
         "45": "174337.7275005214",
         "46": "nan",
         "47": "237512.76772008644",
         "48": "24924.047940580735",
         "49": "128876.29103990243",
         "50": "nan",
         "51": "nan",
         "52": "218723.24767724454",
         "_deepnote_index_column": "1"
        },
        {
         "0": "171221.70779415485",
         "1": "nan",
         "2": "146840.86395764558",
         "3": "98182.79086087439",
         "4": "nan",
         "5": "nan",
         "6": "144277.89431691245",
         "7": "nan",
         "8": "nan",
         "9": "198562.36647861073",
         "10": "nan",
         "11": "211925.31434100372",
         "12": "230919.20715238905",
         "13": "139483.51757629952",
         "14": "213563.30262910196",
         "15": "nan",
         "16": "62898.88317180529",
         "17": "175271.00613638945",
         "18": "178539.57668638873",
         "19": "nan",
         "20": "nan",
         "21": "146613.73222963887",
         "22": "226684.93901255802",
         "23": "164122.26099957127",
         "24": "154872.29281609005",
         "25": "nan",
         "26": "122365.00299627625",
         "27": "nan",
         "28": "212486.3447126821",
         "29": "nan",
         "30": "nan",
         "31": "186560.16614790386",
         "32": "191602.2506989228",
         "33": "208562.156714953",
         "34": "160362.29300224656",
         "35": "nan",
         "36": "151117.57660667805",
         "37": "205209.1038119502",
         "38": "224205.14970202433",
         "39": "nan",
         "40": "215925.77231418187",
         "41": "nan",
         "42": "nan",
         "43": "nan",
         "44": "100390.31108460158",
         "45": "175243.15607637027",
         "46": "nan",
         "47": "nan",
         "48": "8834.429604790537",
         "49": "0.0",
         "50": "nan",
         "51": "nan",
         "52": "166885.8224326645",
         "_deepnote_index_column": "2"
        },
        {
         "0": "96760.04538737524",
         "1": "nan",
         "2": "144187.53912270095",
         "3": "805.9274645400603",
         "4": "nan",
         "5": "nan",
         "6": "170378.9318297846",
         "7": "nan",
         "8": "nan",
         "9": "202967.645045097",
         "10": "nan",
         "11": "211475.00515204595",
         "12": "231803.84373644175",
         "13": "140308.79102513564",
         "14": "213864.30514424306",
         "15": "nan",
         "16": "64561.0525596625",
         "17": "229453.8718983792",
         "18": "178198.68937730178",
         "19": "nan",
         "20": "nan",
         "21": "147074.68975635053",
         "22": "155408.17406273022",
         "23": "170526.31314834915",
         "24": "158248.48190620198",
         "25": "nan",
         "26": "122471.38027580528",
         "27": "nan",
         "28": "219644.26587925732",
         "29": "nan",
         "30": "nan",
         "31": "189337.0315080193",
         "32": "174810.6078609641",
         "33": "211897.40257414294",
         "34": "160762.98105127743",
         "35": "nan",
         "36": "141359.49019884493",
         "37": "205289.9677099517",
         "38": "228437.1493256657",
         "39": "nan",
         "40": "235937.8968547675",
         "41": "nan",
         "42": "nan",
         "43": "nan",
         "44": "130682.2594698326",
         "45": "218905.22608125565",
         "46": "nan",
         "47": "nan",
         "48": "0.0",
         "49": "120680.06946886989",
         "50": "nan",
         "51": "nan",
         "52": "167251.61154472225",
         "_deepnote_index_column": "3"
        },
        {
         "0": "96199.37414584674",
         "1": "nan",
         "2": "143832.22298080818",
         "3": "9462.83344978996",
         "4": "nan",
         "5": "nan",
         "6": "177711.69968155737",
         "7": "nan",
         "8": "nan",
         "9": "128657.45926373838",
         "10": "nan",
         "11": "198135.6823062772",
         "12": "nan",
         "13": "160472.9564606926",
         "14": "156406.7708139598",
         "15": "nan",
         "16": "53623.77540419402",
         "17": "230166.7366366703",
         "18": "41242.30381536993",
         "19": "nan",
         "20": "nan",
         "21": "80798.25234039385",
         "22": "nan",
         "23": "170661.95399638702",
         "24": "155610.99057615842",
         "25": "nan",
         "26": "130868.90426627436",
         "27": "nan",
         "28": "217133.48846490166",
         "29": "nan",
         "30": "nan",
         "31": "180776.294041025",
         "32": "197057.000501553",
         "33": "294022.28891087475",
         "34": "176999.8407202712",
         "35": "nan",
         "36": "141959.73488455784",
         "37": "189871.80655131326",
         "38": "229009.6708954289",
         "39": "nan",
         "40": "nan",
         "41": "nan",
         "42": "nan",
         "43": "nan",
         "44": "104391.65712089044",
         "45": "nan",
         "46": "nan",
         "47": "nan",
         "48": "nan",
         "49": "121022.09436546995",
         "50": "nan",
         "51": "nan",
         "52": "218823.62275383231",
         "_deepnote_index_column": "4"
        },
        {
         "0": "196344.0425699211",
         "1": "nan",
         "2": "135053.08949783997",
         "3": "10638.06338458563",
         "4": "nan",
         "5": "nan",
         "6": "172603.26246229646",
         "7": "nan",
         "8": "nan",
         "9": "61758.89491861235",
         "10": "nan",
         "11": "197209.14744956887",
         "12": "nan",
         "13": "176409.48452303367",
         "14": "156642.78021013635",
         "15": "nan",
         "16": "55285.94479205123",
         "17": "169633.58170129344",
         "18": "22211.89728204533",
         "19": "nan",
         "20": "nan",
         "21": "81010.41961396512",
         "22": "nan",
         "23": "173146.5507949267",
         "24": "156243.7863659097",
         "25": "nan",
         "26": "132471.27170747437",
         "27": "nan",
         "28": "218027.6765869348",
         "29": "nan",
         "30": "nan",
         "31": "189275.1817634766",
         "32": "188955.31242057367",
         "33": "294354.98547494045",
         "34": "177405.3613012549",
         "35": "nan",
         "36": "145732.14951006175",
         "37": "189960.07906175678",
         "38": "224593.99371242095",
         "39": "nan",
         "40": "nan",
         "41": "nan",
         "42": "nan",
         "43": "nan",
         "44": "104616.25583591864",
         "45": "nan",
         "46": "nan",
         "47": "nan",
         "48": "nan",
         "49": "nan",
         "50": "nan",
         "51": "nan",
         "52": "176456.7830420572",
         "_deepnote_index_column": "5"
        },
        {
         "0": "192889.95584587843",
         "1": "nan",
         "2": "135426.42125960148",
         "3": "0.0",
         "4": "nan",
         "5": "nan",
         "6": "170700.16000890997",
         "7": "nan",
         "8": "nan",
         "9": "62114.41165055135",
         "10": "nan",
         "11": "149425.2729015571",
         "12": "nan",
         "13": "126942.02561166784",
         "14": "84007.5177965451",
         "15": "nan",
         "16": "nan",
         "17": "nan",
         "18": "15713.992224033147",
         "19": "nan",
         "20": "nan",
         "21": "172500.41176719285",
         "22": "nan",
         "23": "173568.41895192378",
         "24": "156970.67497510966",
         "25": "nan",
         "26": "132514.5643869941",
         "27": "nan",
         "28": "220313.58172246208",
         "29": "nan",
         "30": "nan",
         "31": "183413.30604661338",
         "32": "197408.07420170668",
         "33": "174723.970382955",
         "34": "182760.4535564474",
         "35": "nan",
         "36": "122576.14093403317",
         "37": "129991.35075099605",
         "38": "163679.82306932186",
         "39": "nan",
         "40": "nan",
         "41": "nan",
         "42": "nan",
         "43": "nan",
         "44": "101573.0621592143",
         "45": "nan",
         "46": "nan",
         "47": "nan",
         "48": "nan",
         "49": "nan",
         "50": "nan",
         "51": "nan",
         "52": "138320.36892291298",
         "_deepnote_index_column": "6"
        },
        {
         "0": "193451.1908625707",
         "1": "nan",
         "2": "146478.3441523088",
         "3": "98459.57729980876",
         "4": "nan",
         "5": "nan",
         "6": "154735.58467441975",
         "7": "nan",
         "8": "nan",
         "9": "203307.7637805126",
         "10": "nan",
         "11": "122417.32258363966",
         "12": "nan",
         "13": "127381.2083610913",
         "14": "218086.5433588159",
         "15": "nan",
         "16": "nan",
         "17": "nan",
         "18": "nan",
         "19": "nan",
         "20": "nan",
         "21": "176149.32735915165",
         "22": "nan",
         "23": "174571.62719120272",
         "24": "157332.74170611738",
         "25": "nan",
         "26": "108114.23304484517",
         "27": "nan",
         "28": "216705.35058267973",
         "29": "nan",
         "30": "nan",
         "31": "183040.1377173943",
         "32": "202012.58520506366",
         "33": "191140.46754866844",
         "34": "183589.8627141181",
         "35": "nan",
         "36": "122916.41691288183",
         "37": "168872.5682641503",
         "38": "163809.77134403144",
         "39": "nan",
         "40": "nan",
         "41": "nan",
         "42": "nan",
         "43": "nan",
         "44": "130456.28893128275",
         "45": "nan",
         "46": "nan",
         "47": "nan",
         "48": "nan",
         "49": "nan",
         "50": "nan",
         "51": "nan",
         "52": "137340.47029693166",
         "_deepnote_index_column": "7"
        },
        {
         "0": "nan",
         "1": "nan",
         "2": "nan",
         "3": "99859.89262303666",
         "4": "nan",
         "5": "nan",
         "6": "157068.25848755037",
         "7": "nan",
         "8": "nan",
         "9": "198813.28649725544",
         "10": "nan",
         "11": "nan",
         "12": "nan",
         "13": "130123.50397600725",
         "14": "79609.5272177695",
         "15": "nan",
         "16": "nan",
         "17": "nan",
         "18": "nan",
         "19": "nan",
         "20": "nan",
         "21": "160593.10837619484",
         "22": "nan",
         "23": "174234.439809643",
         "24": "158806.14473857707",
         "25": "nan",
         "26": "108283.03948311103",
         "27": "nan",
         "28": "225556.8038548278",
         "29": "nan",
         "30": "nan",
         "31": "183567.42265402575",
         "32": "202312.99089690534",
         "33": "195925.50106615628",
         "34": "184897.28867326115",
         "35": "nan",
         "36": "150910.3146740833",
         "37": "160075.9378348393",
         "38": "233591.1698522418",
         "39": "nan",
         "40": "nan",
         "41": "nan",
         "42": "nan",
         "43": "nan",
         "44": "nan",
         "45": "nan",
         "46": "nan",
         "47": "nan",
         "48": "nan",
         "49": "nan",
         "50": "nan",
         "51": "nan",
         "52": "nan",
         "_deepnote_index_column": "8"
        },
        {
         "0": "nan",
         "1": "nan",
         "2": "nan",
         "3": "100071.74500635728",
         "4": "nan",
         "5": "nan",
         "6": "157396.08672476263",
         "7": "nan",
         "8": "nan",
         "9": "184020.12465420086",
         "10": "nan",
         "11": "nan",
         "12": "nan",
         "13": "130537.40273934437",
         "14": "165455.3149103627",
         "15": "nan",
         "16": "nan",
         "17": "nan",
         "18": "nan",
         "19": "nan",
         "20": "nan",
         "21": "160991.832432925",
         "22": "nan",
         "23": "164525.99261776125",
         "24": "159429.32867189255",
         "25": "nan",
         "26": "189587.6830936256",
         "27": "nan",
         "28": "216973.02169641128",
         "29": "nan",
         "30": "nan",
         "31": "183830.12489726793",
         "32": "181671.83500842433",
         "33": "211534.12736476996",
         "34": "187686.7834024886",
         "35": "nan",
         "36": "151269.31563104037",
         "37": "160118.29167882068",
         "38": "181870.17450540018",
         "39": "nan",
         "40": "nan",
         "41": "nan",
         "42": "nan",
         "43": "nan",
         "44": "nan",
         "45": "nan",
         "46": "nan",
         "47": "nan",
         "48": "nan",
         "49": "nan",
         "50": "nan",
         "51": "nan",
         "52": "nan",
         "_deepnote_index_column": "9"
        }
       ]
      },
      "text/plain": "               0   1              2              3   4   5              6   \\\n0   195988.275949 NaN   84618.433817   97063.479425 NaN NaN  212314.360201   \n1   171011.273993 NaN   84976.957691   97565.582016 NaN NaN  144089.325232   \n2   171221.707794 NaN  146840.863958   98182.790861 NaN NaN  144277.894317   \n3    96760.045387 NaN  144187.539123     805.927465 NaN NaN  170378.931830   \n4    96199.374146 NaN  143832.222981    9462.833450 NaN NaN  177711.699682   \n5   196344.042570 NaN  135053.089498   10638.063385 NaN NaN  172603.262462   \n6   192889.955846 NaN  135426.421260       0.000000 NaN NaN  170700.160009   \n7   193451.190863 NaN  146478.344152   98459.577300 NaN NaN  154735.584674   \n8             NaN NaN            NaN   99859.892623 NaN NaN  157068.258488   \n9             NaN NaN            NaN  100071.745006 NaN NaN  157396.086725   \n10            NaN NaN            NaN     925.333819 NaN NaN  181750.317512   \n11            NaN NaN            NaN    6217.437083 NaN NaN  154942.523385   \n12            NaN NaN            NaN    5145.003352 NaN NaN  177420.021098   \n13            NaN NaN            NaN    8817.281470 NaN NaN  181948.129846   \n14            NaN NaN            NaN       0.000000 NaN NaN  172162.476033   \n15            NaN NaN            NaN            NaN NaN NaN  212547.232588   \n16            NaN NaN            NaN            NaN NaN NaN            NaN   \n17            NaN NaN            NaN            NaN NaN NaN            NaN   \n18            NaN NaN            NaN            NaN NaN NaN            NaN   \n19            NaN NaN            NaN            NaN NaN NaN            NaN   \n20            NaN NaN            NaN            NaN NaN NaN            NaN   \n21            NaN NaN            NaN            NaN NaN NaN            NaN   \n22            NaN NaN            NaN            NaN NaN NaN            NaN   \n23            NaN NaN            NaN            NaN NaN NaN            NaN   \n24            NaN NaN            NaN            NaN NaN NaN            NaN   \n25            NaN NaN            NaN            NaN NaN NaN            NaN   \n26            NaN NaN            NaN            NaN NaN NaN            NaN   \n27            NaN NaN            NaN            NaN NaN NaN            NaN   \n28            NaN NaN            NaN            NaN NaN NaN            NaN   \n29            NaN NaN            NaN            NaN NaN NaN            NaN   \n30            NaN NaN            NaN            NaN NaN NaN            NaN   \n31            NaN NaN            NaN            NaN NaN NaN            NaN   \n32            NaN NaN            NaN            NaN NaN NaN            NaN   \n33            NaN NaN            NaN            NaN NaN NaN            NaN   \n34            NaN NaN            NaN            NaN NaN NaN            NaN   \n35            NaN NaN            NaN            NaN NaN NaN            NaN   \n36            NaN NaN            NaN            NaN NaN NaN            NaN   \n37            NaN NaN            NaN            NaN NaN NaN            NaN   \n38            NaN NaN            NaN            NaN NaN NaN            NaN   \n39            NaN NaN            NaN            NaN NaN NaN            NaN   \n40            NaN NaN            NaN            NaN NaN NaN            NaN   \n41            NaN NaN            NaN            NaN NaN NaN            NaN   \n42            NaN NaN            NaN            NaN NaN NaN            NaN   \n43            NaN NaN            NaN            NaN NaN NaN            NaN   \n44            NaN NaN            NaN            NaN NaN NaN            NaN   \n45            NaN NaN            NaN            NaN NaN NaN            NaN   \n46            NaN NaN            NaN            NaN NaN NaN            NaN   \n47            NaN NaN            NaN            NaN NaN NaN            NaN   \n48            NaN NaN            NaN            NaN NaN NaN            NaN   \n49            NaN NaN            NaN            NaN NaN NaN            NaN   \n50            NaN NaN            NaN            NaN NaN NaN            NaN   \n51            NaN NaN            NaN            NaN NaN NaN            NaN   \n52            NaN NaN            NaN            NaN NaN NaN            NaN   \n53            NaN NaN            NaN            NaN NaN NaN            NaN   \n\n              7   8              9   ...  43             44             45  \\\n0    9263.175791 NaN  183838.556492  ... NaN  139565.818458  218765.040327   \n1   14548.985558 NaN  186524.203420  ... NaN  139917.251604  174337.727501   \n2            NaN NaN  198562.366479  ... NaN  100390.311085  175243.156076   \n3            NaN NaN  202967.645045  ... NaN  130682.259470  218905.226081   \n4            NaN NaN  128657.459264  ... NaN  104391.657121            NaN   \n5            NaN NaN   61758.894919  ... NaN  104616.255836            NaN   \n6            NaN NaN   62114.411651  ... NaN  101573.062159            NaN   \n7            NaN NaN  203307.763781  ... NaN  130456.288931            NaN   \n8            NaN NaN  198813.286497  ... NaN            NaN            NaN   \n9            NaN NaN  184020.124654  ... NaN            NaN            NaN   \n10           NaN NaN  186904.084286  ... NaN            NaN            NaN   \n11           NaN NaN  128198.997780  ... NaN            NaN            NaN   \n12           NaN NaN            NaN  ... NaN            NaN            NaN   \n13           NaN NaN            NaN  ... NaN            NaN            NaN   \n14           NaN NaN            NaN  ... NaN            NaN            NaN   \n15           NaN NaN            NaN  ... NaN            NaN            NaN   \n16           NaN NaN            NaN  ... NaN            NaN            NaN   \n17           NaN NaN            NaN  ... NaN            NaN            NaN   \n18           NaN NaN            NaN  ... NaN            NaN            NaN   \n19           NaN NaN            NaN  ... NaN            NaN            NaN   \n20           NaN NaN            NaN  ... NaN            NaN            NaN   \n21           NaN NaN            NaN  ... NaN            NaN            NaN   \n22           NaN NaN            NaN  ... NaN            NaN            NaN   \n23           NaN NaN            NaN  ... NaN            NaN            NaN   \n24           NaN NaN            NaN  ... NaN            NaN            NaN   \n25           NaN NaN            NaN  ... NaN            NaN            NaN   \n26           NaN NaN            NaN  ... NaN            NaN            NaN   \n27           NaN NaN            NaN  ... NaN            NaN            NaN   \n28           NaN NaN            NaN  ... NaN            NaN            NaN   \n29           NaN NaN            NaN  ... NaN            NaN            NaN   \n30           NaN NaN            NaN  ... NaN            NaN            NaN   \n31           NaN NaN            NaN  ... NaN            NaN            NaN   \n32           NaN NaN            NaN  ... NaN            NaN            NaN   \n33           NaN NaN            NaN  ... NaN            NaN            NaN   \n34           NaN NaN            NaN  ... NaN            NaN            NaN   \n35           NaN NaN            NaN  ... NaN            NaN            NaN   \n36           NaN NaN            NaN  ... NaN            NaN            NaN   \n37           NaN NaN            NaN  ... NaN            NaN            NaN   \n38           NaN NaN            NaN  ... NaN            NaN            NaN   \n39           NaN NaN            NaN  ... NaN            NaN            NaN   \n40           NaN NaN            NaN  ... NaN            NaN            NaN   \n41           NaN NaN            NaN  ... NaN            NaN            NaN   \n42           NaN NaN            NaN  ... NaN            NaN            NaN   \n43           NaN NaN            NaN  ... NaN            NaN            NaN   \n44           NaN NaN            NaN  ... NaN            NaN            NaN   \n45           NaN NaN            NaN  ... NaN            NaN            NaN   \n46           NaN NaN            NaN  ... NaN            NaN            NaN   \n47           NaN NaN            NaN  ... NaN            NaN            NaN   \n48           NaN NaN            NaN  ... NaN            NaN            NaN   \n49           NaN NaN            NaN  ... NaN            NaN            NaN   \n50           NaN NaN            NaN  ... NaN            NaN            NaN   \n51           NaN NaN            NaN  ... NaN            NaN            NaN   \n52           NaN NaN            NaN  ... NaN            NaN            NaN   \n53           NaN NaN            NaN  ... NaN            NaN            NaN   \n\n    46             47            48             49  50  51             52  \n0  NaN  237816.930026  23588.467489  129158.671177 NaN NaN  177039.196820  \n1  NaN  237512.767720  24924.047941  128876.291040 NaN NaN  218723.247677  \n2  NaN            NaN   8834.429605       0.000000 NaN NaN  166885.822433  \n3  NaN            NaN      0.000000  120680.069469 NaN NaN  167251.611545  \n4  NaN            NaN           NaN  121022.094365 NaN NaN  218823.622754  \n5  NaN            NaN           NaN            NaN NaN NaN  176456.783042  \n6  NaN            NaN           NaN            NaN NaN NaN  138320.368923  \n7  NaN            NaN           NaN            NaN NaN NaN  137340.470297  \n8  NaN            NaN           NaN            NaN NaN NaN            NaN  \n9  NaN            NaN           NaN            NaN NaN NaN            NaN  \n10 NaN            NaN           NaN            NaN NaN NaN            NaN  \n11 NaN            NaN           NaN            NaN NaN NaN            NaN  \n12 NaN            NaN           NaN            NaN NaN NaN            NaN  \n13 NaN            NaN           NaN            NaN NaN NaN            NaN  \n14 NaN            NaN           NaN            NaN NaN NaN            NaN  \n15 NaN            NaN           NaN            NaN NaN NaN            NaN  \n16 NaN            NaN           NaN            NaN NaN NaN            NaN  \n17 NaN            NaN           NaN            NaN NaN NaN            NaN  \n18 NaN            NaN           NaN            NaN NaN NaN            NaN  \n19 NaN            NaN           NaN            NaN NaN NaN            NaN  \n20 NaN            NaN           NaN            NaN NaN NaN            NaN  \n21 NaN            NaN           NaN            NaN NaN NaN            NaN  \n22 NaN            NaN           NaN            NaN NaN NaN            NaN  \n23 NaN            NaN           NaN            NaN NaN NaN            NaN  \n24 NaN            NaN           NaN            NaN NaN NaN            NaN  \n25 NaN            NaN           NaN            NaN NaN NaN            NaN  \n26 NaN            NaN           NaN            NaN NaN NaN            NaN  \n27 NaN            NaN           NaN            NaN NaN NaN            NaN  \n28 NaN            NaN           NaN            NaN NaN NaN            NaN  \n29 NaN            NaN           NaN            NaN NaN NaN            NaN  \n30 NaN            NaN           NaN            NaN NaN NaN            NaN  \n31 NaN            NaN           NaN            NaN NaN NaN            NaN  \n32 NaN            NaN           NaN            NaN NaN NaN            NaN  \n33 NaN            NaN           NaN            NaN NaN NaN            NaN  \n34 NaN            NaN           NaN            NaN NaN NaN            NaN  \n35 NaN            NaN           NaN            NaN NaN NaN            NaN  \n36 NaN            NaN           NaN            NaN NaN NaN            NaN  \n37 NaN            NaN           NaN            NaN NaN NaN            NaN  \n38 NaN            NaN           NaN            NaN NaN NaN            NaN  \n39 NaN            NaN           NaN            NaN NaN NaN            NaN  \n40 NaN            NaN           NaN            NaN NaN NaN            NaN  \n41 NaN            NaN           NaN            NaN NaN NaN            NaN  \n42 NaN            NaN           NaN            NaN NaN NaN            NaN  \n43 NaN            NaN           NaN            NaN NaN NaN            NaN  \n44 NaN            NaN           NaN            NaN NaN NaN            NaN  \n45 NaN            NaN           NaN            NaN NaN NaN            NaN  \n46 NaN            NaN           NaN            NaN NaN NaN            NaN  \n47 NaN            NaN           NaN            NaN NaN NaN            NaN  \n48 NaN            NaN           NaN            NaN NaN NaN            NaN  \n49 NaN            NaN           NaN            NaN NaN NaN            NaN  \n50 NaN            NaN           NaN            NaN NaN NaN            NaN  \n51 NaN            NaN           NaN            NaN NaN NaN            NaN  \n52 NaN            NaN           NaN            NaN NaN NaN            NaN  \n53 NaN            NaN           NaN            NaN NaN NaN            NaN  \n\n[54 rows x 53 columns]",
      "text/html": "<div>\n<style scoped>\n    .dataframe tbody tr th:only-of-type {\n        vertical-align: middle;\n    }\n\n    .dataframe tbody tr th {\n        vertical-align: top;\n    }\n\n    .dataframe thead th {\n        text-align: right;\n    }\n</style>\n<table border=\"1\" class=\"dataframe\">\n  <thead>\n    <tr style=\"text-align: right;\">\n      <th></th>\n      <th>0</th>\n      <th>1</th>\n      <th>2</th>\n      <th>3</th>\n      <th>4</th>\n      <th>5</th>\n      <th>6</th>\n      <th>7</th>\n      <th>8</th>\n      <th>9</th>\n      <th>...</th>\n      <th>43</th>\n      <th>44</th>\n      <th>45</th>\n      <th>46</th>\n      <th>47</th>\n      <th>48</th>\n      <th>49</th>\n      <th>50</th>\n      <th>51</th>\n      <th>52</th>\n    </tr>\n  </thead>\n  <tbody>\n    <tr>\n      <th>0</th>\n      <td>195988.275949</td>\n      <td>NaN</td>\n      <td>84618.433817</td>\n      <td>97063.479425</td>\n      <td>NaN</td>\n      <td>NaN</td>\n      <td>212314.360201</td>\n      <td>9263.175791</td>\n      <td>NaN</td>\n      <td>183838.556492</td>\n      <td>...</td>\n      <td>NaN</td>\n      <td>139565.818458</td>\n      <td>218765.040327</td>\n      <td>NaN</td>\n      <td>237816.930026</td>\n      <td>23588.467489</td>\n      <td>129158.671177</td>\n      <td>NaN</td>\n      <td>NaN</td>\n      <td>177039.196820</td>\n    </tr>\n    <tr>\n      <th>1</th>\n      <td>171011.273993</td>\n      <td>NaN</td>\n      <td>84976.957691</td>\n      <td>97565.582016</td>\n      <td>NaN</td>\n      <td>NaN</td>\n      <td>144089.325232</td>\n      <td>14548.985558</td>\n      <td>NaN</td>\n      <td>186524.203420</td>\n      <td>...</td>\n      <td>NaN</td>\n      <td>139917.251604</td>\n      <td>174337.727501</td>\n      <td>NaN</td>\n      <td>237512.767720</td>\n      <td>24924.047941</td>\n      <td>128876.291040</td>\n      <td>NaN</td>\n      <td>NaN</td>\n      <td>218723.247677</td>\n    </tr>\n    <tr>\n      <th>2</th>\n      <td>171221.707794</td>\n      <td>NaN</td>\n      <td>146840.863958</td>\n      <td>98182.790861</td>\n      <td>NaN</td>\n      <td>NaN</td>\n      <td>144277.894317</td>\n      <td>NaN</td>\n      <td>NaN</td>\n      <td>198562.366479</td>\n      <td>...</td>\n      <td>NaN</td>\n      <td>100390.311085</td>\n      <td>175243.156076</td>\n      <td>NaN</td>\n      <td>NaN</td>\n      <td>8834.429605</td>\n      <td>0.000000</td>\n      <td>NaN</td>\n      <td>NaN</td>\n      <td>166885.822433</td>\n    </tr>\n    <tr>\n      <th>3</th>\n      <td>96760.045387</td>\n      <td>NaN</td>\n      <td>144187.539123</td>\n      <td>805.927465</td>\n      <td>NaN</td>\n      <td>NaN</td>\n      <td>170378.931830</td>\n      <td>NaN</td>\n      <td>NaN</td>\n      <td>202967.645045</td>\n      <td>...</td>\n      <td>NaN</td>\n      <td>130682.259470</td>\n      <td>218905.226081</td>\n      <td>NaN</td>\n      <td>NaN</td>\n      <td>0.000000</td>\n      <td>120680.069469</td>\n      <td>NaN</td>\n      <td>NaN</td>\n      <td>167251.611545</td>\n    </tr>\n    <tr>\n      <th>4</th>\n      <td>96199.374146</td>\n      <td>NaN</td>\n      <td>143832.222981</td>\n      <td>9462.833450</td>\n      <td>NaN</td>\n      <td>NaN</td>\n      <td>177711.699682</td>\n      <td>NaN</td>\n      <td>NaN</td>\n      <td>128657.459264</td>\n      <td>...</td>\n      <td>NaN</td>\n      <td>104391.657121</td>\n      <td>NaN</td>\n      <td>NaN</td>\n      <td>NaN</td>\n      <td>NaN</td>\n      <td>121022.094365</td>\n      <td>NaN</td>\n      <td>NaN</td>\n      <td>218823.622754</td>\n    </tr>\n    <tr>\n      <th>5</th>\n      <td>196344.042570</td>\n      <td>NaN</td>\n      <td>135053.089498</td>\n      <td>10638.063385</td>\n      <td>NaN</td>\n      <td>NaN</td>\n      <td>172603.262462</td>\n      <td>NaN</td>\n      <td>NaN</td>\n      <td>61758.894919</td>\n      <td>...</td>\n      <td>NaN</td>\n      <td>104616.255836</td>\n      <td>NaN</td>\n      <td>NaN</td>\n      <td>NaN</td>\n      <td>NaN</td>\n      <td>NaN</td>\n      <td>NaN</td>\n      <td>NaN</td>\n      <td>176456.783042</td>\n    </tr>\n    <tr>\n      <th>6</th>\n      <td>192889.955846</td>\n      <td>NaN</td>\n      <td>135426.421260</td>\n      <td>0.000000</td>\n      <td>NaN</td>\n      <td>NaN</td>\n      <td>170700.160009</td>\n      <td>NaN</td>\n      <td>NaN</td>\n      <td>62114.411651</td>\n      <td>...</td>\n      <td>NaN</td>\n      <td>101573.062159</td>\n      <td>NaN</td>\n      <td>NaN</td>\n      <td>NaN</td>\n      <td>NaN</td>\n      <td>NaN</td>\n      <td>NaN</td>\n      <td>NaN</td>\n      <td>138320.368923</td>\n    </tr>\n    <tr>\n      <th>7</th>\n      <td>193451.190863</td>\n      <td>NaN</td>\n      <td>146478.344152</td>\n      <td>98459.577300</td>\n      <td>NaN</td>\n      <td>NaN</td>\n      <td>154735.584674</td>\n      <td>NaN</td>\n      <td>NaN</td>\n      <td>203307.763781</td>\n      <td>...</td>\n      <td>NaN</td>\n      <td>130456.288931</td>\n      <td>NaN</td>\n      <td>NaN</td>\n      <td>NaN</td>\n      <td>NaN</td>\n      <td>NaN</td>\n      <td>NaN</td>\n      <td>NaN</td>\n      <td>137340.470297</td>\n    </tr>\n    <tr>\n      <th>8</th>\n      <td>NaN</td>\n      <td>NaN</td>\n      <td>NaN</td>\n      <td>99859.892623</td>\n      <td>NaN</td>\n      <td>NaN</td>\n      <td>157068.258488</td>\n      <td>NaN</td>\n      <td>NaN</td>\n      <td>198813.286497</td>\n      <td>...</td>\n      <td>NaN</td>\n      <td>NaN</td>\n      <td>NaN</td>\n      <td>NaN</td>\n      <td>NaN</td>\n      <td>NaN</td>\n      <td>NaN</td>\n      <td>NaN</td>\n      <td>NaN</td>\n      <td>NaN</td>\n    </tr>\n    <tr>\n      <th>9</th>\n      <td>NaN</td>\n      <td>NaN</td>\n      <td>NaN</td>\n      <td>100071.745006</td>\n      <td>NaN</td>\n      <td>NaN</td>\n      <td>157396.086725</td>\n      <td>NaN</td>\n      <td>NaN</td>\n      <td>184020.124654</td>\n      <td>...</td>\n      <td>NaN</td>\n      <td>NaN</td>\n      <td>NaN</td>\n      <td>NaN</td>\n      <td>NaN</td>\n      <td>NaN</td>\n      <td>NaN</td>\n      <td>NaN</td>\n      <td>NaN</td>\n      <td>NaN</td>\n    </tr>\n    <tr>\n      <th>10</th>\n      <td>NaN</td>\n      <td>NaN</td>\n      <td>NaN</td>\n      <td>925.333819</td>\n      <td>NaN</td>\n      <td>NaN</td>\n      <td>181750.317512</td>\n      <td>NaN</td>\n      <td>NaN</td>\n      <td>186904.084286</td>\n      <td>...</td>\n      <td>NaN</td>\n      <td>NaN</td>\n      <td>NaN</td>\n      <td>NaN</td>\n      <td>NaN</td>\n      <td>NaN</td>\n      <td>NaN</td>\n      <td>NaN</td>\n      <td>NaN</td>\n      <td>NaN</td>\n    </tr>\n    <tr>\n      <th>11</th>\n      <td>NaN</td>\n      <td>NaN</td>\n      <td>NaN</td>\n      <td>6217.437083</td>\n      <td>NaN</td>\n      <td>NaN</td>\n      <td>154942.523385</td>\n      <td>NaN</td>\n      <td>NaN</td>\n      <td>128198.997780</td>\n      <td>...</td>\n      <td>NaN</td>\n      <td>NaN</td>\n      <td>NaN</td>\n      <td>NaN</td>\n      <td>NaN</td>\n      <td>NaN</td>\n      <td>NaN</td>\n      <td>NaN</td>\n      <td>NaN</td>\n      <td>NaN</td>\n    </tr>\n    <tr>\n      <th>12</th>\n      <td>NaN</td>\n      <td>NaN</td>\n      <td>NaN</td>\n      <td>5145.003352</td>\n      <td>NaN</td>\n      <td>NaN</td>\n      <td>177420.021098</td>\n      <td>NaN</td>\n      <td>NaN</td>\n      <td>NaN</td>\n      <td>...</td>\n      <td>NaN</td>\n      <td>NaN</td>\n      <td>NaN</td>\n      <td>NaN</td>\n      <td>NaN</td>\n      <td>NaN</td>\n      <td>NaN</td>\n      <td>NaN</td>\n      <td>NaN</td>\n      <td>NaN</td>\n    </tr>\n    <tr>\n      <th>13</th>\n      <td>NaN</td>\n      <td>NaN</td>\n      <td>NaN</td>\n      <td>8817.281470</td>\n      <td>NaN</td>\n      <td>NaN</td>\n      <td>181948.129846</td>\n      <td>NaN</td>\n      <td>NaN</td>\n      <td>NaN</td>\n      <td>...</td>\n      <td>NaN</td>\n      <td>NaN</td>\n      <td>NaN</td>\n      <td>NaN</td>\n      <td>NaN</td>\n      <td>NaN</td>\n      <td>NaN</td>\n      <td>NaN</td>\n      <td>NaN</td>\n      <td>NaN</td>\n    </tr>\n    <tr>\n      <th>14</th>\n      <td>NaN</td>\n      <td>NaN</td>\n      <td>NaN</td>\n      <td>0.000000</td>\n      <td>NaN</td>\n      <td>NaN</td>\n      <td>172162.476033</td>\n      <td>NaN</td>\n      <td>NaN</td>\n      <td>NaN</td>\n      <td>...</td>\n      <td>NaN</td>\n      <td>NaN</td>\n      <td>NaN</td>\n      <td>NaN</td>\n      <td>NaN</td>\n      <td>NaN</td>\n      <td>NaN</td>\n      <td>NaN</td>\n      <td>NaN</td>\n      <td>NaN</td>\n    </tr>\n    <tr>\n      <th>15</th>\n      <td>NaN</td>\n      <td>NaN</td>\n      <td>NaN</td>\n      <td>NaN</td>\n      <td>NaN</td>\n      <td>NaN</td>\n      <td>212547.232588</td>\n      <td>NaN</td>\n      <td>NaN</td>\n      <td>NaN</td>\n      <td>...</td>\n      <td>NaN</td>\n      <td>NaN</td>\n      <td>NaN</td>\n      <td>NaN</td>\n      <td>NaN</td>\n      <td>NaN</td>\n      <td>NaN</td>\n      <td>NaN</td>\n      <td>NaN</td>\n      <td>NaN</td>\n    </tr>\n    <tr>\n      <th>16</th>\n      <td>NaN</td>\n      <td>NaN</td>\n      <td>NaN</td>\n      <td>NaN</td>\n      <td>NaN</td>\n      <td>NaN</td>\n      <td>NaN</td>\n      <td>NaN</td>\n      <td>NaN</td>\n      <td>NaN</td>\n      <td>...</td>\n      <td>NaN</td>\n      <td>NaN</td>\n      <td>NaN</td>\n      <td>NaN</td>\n      <td>NaN</td>\n      <td>NaN</td>\n      <td>NaN</td>\n      <td>NaN</td>\n      <td>NaN</td>\n      <td>NaN</td>\n    </tr>\n    <tr>\n      <th>17</th>\n      <td>NaN</td>\n      <td>NaN</td>\n      <td>NaN</td>\n      <td>NaN</td>\n      <td>NaN</td>\n      <td>NaN</td>\n      <td>NaN</td>\n      <td>NaN</td>\n      <td>NaN</td>\n      <td>NaN</td>\n      <td>...</td>\n      <td>NaN</td>\n      <td>NaN</td>\n      <td>NaN</td>\n      <td>NaN</td>\n      <td>NaN</td>\n      <td>NaN</td>\n      <td>NaN</td>\n      <td>NaN</td>\n      <td>NaN</td>\n      <td>NaN</td>\n    </tr>\n    <tr>\n      <th>18</th>\n      <td>NaN</td>\n      <td>NaN</td>\n      <td>NaN</td>\n      <td>NaN</td>\n      <td>NaN</td>\n      <td>NaN</td>\n      <td>NaN</td>\n      <td>NaN</td>\n      <td>NaN</td>\n      <td>NaN</td>\n      <td>...</td>\n      <td>NaN</td>\n      <td>NaN</td>\n      <td>NaN</td>\n      <td>NaN</td>\n      <td>NaN</td>\n      <td>NaN</td>\n      <td>NaN</td>\n      <td>NaN</td>\n      <td>NaN</td>\n      <td>NaN</td>\n    </tr>\n    <tr>\n      <th>19</th>\n      <td>NaN</td>\n      <td>NaN</td>\n      <td>NaN</td>\n      <td>NaN</td>\n      <td>NaN</td>\n      <td>NaN</td>\n      <td>NaN</td>\n      <td>NaN</td>\n      <td>NaN</td>\n      <td>NaN</td>\n      <td>...</td>\n      <td>NaN</td>\n      <td>NaN</td>\n      <td>NaN</td>\n      <td>NaN</td>\n      <td>NaN</td>\n      <td>NaN</td>\n      <td>NaN</td>\n      <td>NaN</td>\n      <td>NaN</td>\n      <td>NaN</td>\n    </tr>\n    <tr>\n      <th>20</th>\n      <td>NaN</td>\n      <td>NaN</td>\n      <td>NaN</td>\n      <td>NaN</td>\n      <td>NaN</td>\n      <td>NaN</td>\n      <td>NaN</td>\n      <td>NaN</td>\n      <td>NaN</td>\n      <td>NaN</td>\n      <td>...</td>\n      <td>NaN</td>\n      <td>NaN</td>\n      <td>NaN</td>\n      <td>NaN</td>\n      <td>NaN</td>\n      <td>NaN</td>\n      <td>NaN</td>\n      <td>NaN</td>\n      <td>NaN</td>\n      <td>NaN</td>\n    </tr>\n    <tr>\n      <th>21</th>\n      <td>NaN</td>\n      <td>NaN</td>\n      <td>NaN</td>\n      <td>NaN</td>\n      <td>NaN</td>\n      <td>NaN</td>\n      <td>NaN</td>\n      <td>NaN</td>\n      <td>NaN</td>\n      <td>NaN</td>\n      <td>...</td>\n      <td>NaN</td>\n      <td>NaN</td>\n      <td>NaN</td>\n      <td>NaN</td>\n      <td>NaN</td>\n      <td>NaN</td>\n      <td>NaN</td>\n      <td>NaN</td>\n      <td>NaN</td>\n      <td>NaN</td>\n    </tr>\n    <tr>\n      <th>22</th>\n      <td>NaN</td>\n      <td>NaN</td>\n      <td>NaN</td>\n      <td>NaN</td>\n      <td>NaN</td>\n      <td>NaN</td>\n      <td>NaN</td>\n      <td>NaN</td>\n      <td>NaN</td>\n      <td>NaN</td>\n      <td>...</td>\n      <td>NaN</td>\n      <td>NaN</td>\n      <td>NaN</td>\n      <td>NaN</td>\n      <td>NaN</td>\n      <td>NaN</td>\n      <td>NaN</td>\n      <td>NaN</td>\n      <td>NaN</td>\n      <td>NaN</td>\n    </tr>\n    <tr>\n      <th>23</th>\n      <td>NaN</td>\n      <td>NaN</td>\n      <td>NaN</td>\n      <td>NaN</td>\n      <td>NaN</td>\n      <td>NaN</td>\n      <td>NaN</td>\n      <td>NaN</td>\n      <td>NaN</td>\n      <td>NaN</td>\n      <td>...</td>\n      <td>NaN</td>\n      <td>NaN</td>\n      <td>NaN</td>\n      <td>NaN</td>\n      <td>NaN</td>\n      <td>NaN</td>\n      <td>NaN</td>\n      <td>NaN</td>\n      <td>NaN</td>\n      <td>NaN</td>\n    </tr>\n    <tr>\n      <th>24</th>\n      <td>NaN</td>\n      <td>NaN</td>\n      <td>NaN</td>\n      <td>NaN</td>\n      <td>NaN</td>\n      <td>NaN</td>\n      <td>NaN</td>\n      <td>NaN</td>\n      <td>NaN</td>\n      <td>NaN</td>\n      <td>...</td>\n      <td>NaN</td>\n      <td>NaN</td>\n      <td>NaN</td>\n      <td>NaN</td>\n      <td>NaN</td>\n      <td>NaN</td>\n      <td>NaN</td>\n      <td>NaN</td>\n      <td>NaN</td>\n      <td>NaN</td>\n    </tr>\n    <tr>\n      <th>25</th>\n      <td>NaN</td>\n      <td>NaN</td>\n      <td>NaN</td>\n      <td>NaN</td>\n      <td>NaN</td>\n      <td>NaN</td>\n      <td>NaN</td>\n      <td>NaN</td>\n      <td>NaN</td>\n      <td>NaN</td>\n      <td>...</td>\n      <td>NaN</td>\n      <td>NaN</td>\n      <td>NaN</td>\n      <td>NaN</td>\n      <td>NaN</td>\n      <td>NaN</td>\n      <td>NaN</td>\n      <td>NaN</td>\n      <td>NaN</td>\n      <td>NaN</td>\n    </tr>\n    <tr>\n      <th>26</th>\n      <td>NaN</td>\n      <td>NaN</td>\n      <td>NaN</td>\n      <td>NaN</td>\n      <td>NaN</td>\n      <td>NaN</td>\n      <td>NaN</td>\n      <td>NaN</td>\n      <td>NaN</td>\n      <td>NaN</td>\n      <td>...</td>\n      <td>NaN</td>\n      <td>NaN</td>\n      <td>NaN</td>\n      <td>NaN</td>\n      <td>NaN</td>\n      <td>NaN</td>\n      <td>NaN</td>\n      <td>NaN</td>\n      <td>NaN</td>\n      <td>NaN</td>\n    </tr>\n    <tr>\n      <th>27</th>\n      <td>NaN</td>\n      <td>NaN</td>\n      <td>NaN</td>\n      <td>NaN</td>\n      <td>NaN</td>\n      <td>NaN</td>\n      <td>NaN</td>\n      <td>NaN</td>\n      <td>NaN</td>\n      <td>NaN</td>\n      <td>...</td>\n      <td>NaN</td>\n      <td>NaN</td>\n      <td>NaN</td>\n      <td>NaN</td>\n      <td>NaN</td>\n      <td>NaN</td>\n      <td>NaN</td>\n      <td>NaN</td>\n      <td>NaN</td>\n      <td>NaN</td>\n    </tr>\n    <tr>\n      <th>28</th>\n      <td>NaN</td>\n      <td>NaN</td>\n      <td>NaN</td>\n      <td>NaN</td>\n      <td>NaN</td>\n      <td>NaN</td>\n      <td>NaN</td>\n      <td>NaN</td>\n      <td>NaN</td>\n      <td>NaN</td>\n      <td>...</td>\n      <td>NaN</td>\n      <td>NaN</td>\n      <td>NaN</td>\n      <td>NaN</td>\n      <td>NaN</td>\n      <td>NaN</td>\n      <td>NaN</td>\n      <td>NaN</td>\n      <td>NaN</td>\n      <td>NaN</td>\n    </tr>\n    <tr>\n      <th>29</th>\n      <td>NaN</td>\n      <td>NaN</td>\n      <td>NaN</td>\n      <td>NaN</td>\n      <td>NaN</td>\n      <td>NaN</td>\n      <td>NaN</td>\n      <td>NaN</td>\n      <td>NaN</td>\n      <td>NaN</td>\n      <td>...</td>\n      <td>NaN</td>\n      <td>NaN</td>\n      <td>NaN</td>\n      <td>NaN</td>\n      <td>NaN</td>\n      <td>NaN</td>\n      <td>NaN</td>\n      <td>NaN</td>\n      <td>NaN</td>\n      <td>NaN</td>\n    </tr>\n    <tr>\n      <th>30</th>\n      <td>NaN</td>\n      <td>NaN</td>\n      <td>NaN</td>\n      <td>NaN</td>\n      <td>NaN</td>\n      <td>NaN</td>\n      <td>NaN</td>\n      <td>NaN</td>\n      <td>NaN</td>\n      <td>NaN</td>\n      <td>...</td>\n      <td>NaN</td>\n      <td>NaN</td>\n      <td>NaN</td>\n      <td>NaN</td>\n      <td>NaN</td>\n      <td>NaN</td>\n      <td>NaN</td>\n      <td>NaN</td>\n      <td>NaN</td>\n      <td>NaN</td>\n    </tr>\n    <tr>\n      <th>31</th>\n      <td>NaN</td>\n      <td>NaN</td>\n      <td>NaN</td>\n      <td>NaN</td>\n      <td>NaN</td>\n      <td>NaN</td>\n      <td>NaN</td>\n      <td>NaN</td>\n      <td>NaN</td>\n      <td>NaN</td>\n      <td>...</td>\n      <td>NaN</td>\n      <td>NaN</td>\n      <td>NaN</td>\n      <td>NaN</td>\n      <td>NaN</td>\n      <td>NaN</td>\n      <td>NaN</td>\n      <td>NaN</td>\n      <td>NaN</td>\n      <td>NaN</td>\n    </tr>\n    <tr>\n      <th>32</th>\n      <td>NaN</td>\n      <td>NaN</td>\n      <td>NaN</td>\n      <td>NaN</td>\n      <td>NaN</td>\n      <td>NaN</td>\n      <td>NaN</td>\n      <td>NaN</td>\n      <td>NaN</td>\n      <td>NaN</td>\n      <td>...</td>\n      <td>NaN</td>\n      <td>NaN</td>\n      <td>NaN</td>\n      <td>NaN</td>\n      <td>NaN</td>\n      <td>NaN</td>\n      <td>NaN</td>\n      <td>NaN</td>\n      <td>NaN</td>\n      <td>NaN</td>\n    </tr>\n    <tr>\n      <th>33</th>\n      <td>NaN</td>\n      <td>NaN</td>\n      <td>NaN</td>\n      <td>NaN</td>\n      <td>NaN</td>\n      <td>NaN</td>\n      <td>NaN</td>\n      <td>NaN</td>\n      <td>NaN</td>\n      <td>NaN</td>\n      <td>...</td>\n      <td>NaN</td>\n      <td>NaN</td>\n      <td>NaN</td>\n      <td>NaN</td>\n      <td>NaN</td>\n      <td>NaN</td>\n      <td>NaN</td>\n      <td>NaN</td>\n      <td>NaN</td>\n      <td>NaN</td>\n    </tr>\n    <tr>\n      <th>34</th>\n      <td>NaN</td>\n      <td>NaN</td>\n      <td>NaN</td>\n      <td>NaN</td>\n      <td>NaN</td>\n      <td>NaN</td>\n      <td>NaN</td>\n      <td>NaN</td>\n      <td>NaN</td>\n      <td>NaN</td>\n      <td>...</td>\n      <td>NaN</td>\n      <td>NaN</td>\n      <td>NaN</td>\n      <td>NaN</td>\n      <td>NaN</td>\n      <td>NaN</td>\n      <td>NaN</td>\n      <td>NaN</td>\n      <td>NaN</td>\n      <td>NaN</td>\n    </tr>\n    <tr>\n      <th>35</th>\n      <td>NaN</td>\n      <td>NaN</td>\n      <td>NaN</td>\n      <td>NaN</td>\n      <td>NaN</td>\n      <td>NaN</td>\n      <td>NaN</td>\n      <td>NaN</td>\n      <td>NaN</td>\n      <td>NaN</td>\n      <td>...</td>\n      <td>NaN</td>\n      <td>NaN</td>\n      <td>NaN</td>\n      <td>NaN</td>\n      <td>NaN</td>\n      <td>NaN</td>\n      <td>NaN</td>\n      <td>NaN</td>\n      <td>NaN</td>\n      <td>NaN</td>\n    </tr>\n    <tr>\n      <th>36</th>\n      <td>NaN</td>\n      <td>NaN</td>\n      <td>NaN</td>\n      <td>NaN</td>\n      <td>NaN</td>\n      <td>NaN</td>\n      <td>NaN</td>\n      <td>NaN</td>\n      <td>NaN</td>\n      <td>NaN</td>\n      <td>...</td>\n      <td>NaN</td>\n      <td>NaN</td>\n      <td>NaN</td>\n      <td>NaN</td>\n      <td>NaN</td>\n      <td>NaN</td>\n      <td>NaN</td>\n      <td>NaN</td>\n      <td>NaN</td>\n      <td>NaN</td>\n    </tr>\n    <tr>\n      <th>37</th>\n      <td>NaN</td>\n      <td>NaN</td>\n      <td>NaN</td>\n      <td>NaN</td>\n      <td>NaN</td>\n      <td>NaN</td>\n      <td>NaN</td>\n      <td>NaN</td>\n      <td>NaN</td>\n      <td>NaN</td>\n      <td>...</td>\n      <td>NaN</td>\n      <td>NaN</td>\n      <td>NaN</td>\n      <td>NaN</td>\n      <td>NaN</td>\n      <td>NaN</td>\n      <td>NaN</td>\n      <td>NaN</td>\n      <td>NaN</td>\n      <td>NaN</td>\n    </tr>\n    <tr>\n      <th>38</th>\n      <td>NaN</td>\n      <td>NaN</td>\n      <td>NaN</td>\n      <td>NaN</td>\n      <td>NaN</td>\n      <td>NaN</td>\n      <td>NaN</td>\n      <td>NaN</td>\n      <td>NaN</td>\n      <td>NaN</td>\n      <td>...</td>\n      <td>NaN</td>\n      <td>NaN</td>\n      <td>NaN</td>\n      <td>NaN</td>\n      <td>NaN</td>\n      <td>NaN</td>\n      <td>NaN</td>\n      <td>NaN</td>\n      <td>NaN</td>\n      <td>NaN</td>\n    </tr>\n    <tr>\n      <th>39</th>\n      <td>NaN</td>\n      <td>NaN</td>\n      <td>NaN</td>\n      <td>NaN</td>\n      <td>NaN</td>\n      <td>NaN</td>\n      <td>NaN</td>\n      <td>NaN</td>\n      <td>NaN</td>\n      <td>NaN</td>\n      <td>...</td>\n      <td>NaN</td>\n      <td>NaN</td>\n      <td>NaN</td>\n      <td>NaN</td>\n      <td>NaN</td>\n      <td>NaN</td>\n      <td>NaN</td>\n      <td>NaN</td>\n      <td>NaN</td>\n      <td>NaN</td>\n    </tr>\n    <tr>\n      <th>40</th>\n      <td>NaN</td>\n      <td>NaN</td>\n      <td>NaN</td>\n      <td>NaN</td>\n      <td>NaN</td>\n      <td>NaN</td>\n      <td>NaN</td>\n      <td>NaN</td>\n      <td>NaN</td>\n      <td>NaN</td>\n      <td>...</td>\n      <td>NaN</td>\n      <td>NaN</td>\n      <td>NaN</td>\n      <td>NaN</td>\n      <td>NaN</td>\n      <td>NaN</td>\n      <td>NaN</td>\n      <td>NaN</td>\n      <td>NaN</td>\n      <td>NaN</td>\n    </tr>\n    <tr>\n      <th>41</th>\n      <td>NaN</td>\n      <td>NaN</td>\n      <td>NaN</td>\n      <td>NaN</td>\n      <td>NaN</td>\n      <td>NaN</td>\n      <td>NaN</td>\n      <td>NaN</td>\n      <td>NaN</td>\n      <td>NaN</td>\n      <td>...</td>\n      <td>NaN</td>\n      <td>NaN</td>\n      <td>NaN</td>\n      <td>NaN</td>\n      <td>NaN</td>\n      <td>NaN</td>\n      <td>NaN</td>\n      <td>NaN</td>\n      <td>NaN</td>\n      <td>NaN</td>\n    </tr>\n    <tr>\n      <th>42</th>\n      <td>NaN</td>\n      <td>NaN</td>\n      <td>NaN</td>\n      <td>NaN</td>\n      <td>NaN</td>\n      <td>NaN</td>\n      <td>NaN</td>\n      <td>NaN</td>\n      <td>NaN</td>\n      <td>NaN</td>\n      <td>...</td>\n      <td>NaN</td>\n      <td>NaN</td>\n      <td>NaN</td>\n      <td>NaN</td>\n      <td>NaN</td>\n      <td>NaN</td>\n      <td>NaN</td>\n      <td>NaN</td>\n      <td>NaN</td>\n      <td>NaN</td>\n    </tr>\n    <tr>\n      <th>43</th>\n      <td>NaN</td>\n      <td>NaN</td>\n      <td>NaN</td>\n      <td>NaN</td>\n      <td>NaN</td>\n      <td>NaN</td>\n      <td>NaN</td>\n      <td>NaN</td>\n      <td>NaN</td>\n      <td>NaN</td>\n      <td>...</td>\n      <td>NaN</td>\n      <td>NaN</td>\n      <td>NaN</td>\n      <td>NaN</td>\n      <td>NaN</td>\n      <td>NaN</td>\n      <td>NaN</td>\n      <td>NaN</td>\n      <td>NaN</td>\n      <td>NaN</td>\n    </tr>\n    <tr>\n      <th>44</th>\n      <td>NaN</td>\n      <td>NaN</td>\n      <td>NaN</td>\n      <td>NaN</td>\n      <td>NaN</td>\n      <td>NaN</td>\n      <td>NaN</td>\n      <td>NaN</td>\n      <td>NaN</td>\n      <td>NaN</td>\n      <td>...</td>\n      <td>NaN</td>\n      <td>NaN</td>\n      <td>NaN</td>\n      <td>NaN</td>\n      <td>NaN</td>\n      <td>NaN</td>\n      <td>NaN</td>\n      <td>NaN</td>\n      <td>NaN</td>\n      <td>NaN</td>\n    </tr>\n    <tr>\n      <th>45</th>\n      <td>NaN</td>\n      <td>NaN</td>\n      <td>NaN</td>\n      <td>NaN</td>\n      <td>NaN</td>\n      <td>NaN</td>\n      <td>NaN</td>\n      <td>NaN</td>\n      <td>NaN</td>\n      <td>NaN</td>\n      <td>...</td>\n      <td>NaN</td>\n      <td>NaN</td>\n      <td>NaN</td>\n      <td>NaN</td>\n      <td>NaN</td>\n      <td>NaN</td>\n      <td>NaN</td>\n      <td>NaN</td>\n      <td>NaN</td>\n      <td>NaN</td>\n    </tr>\n    <tr>\n      <th>46</th>\n      <td>NaN</td>\n      <td>NaN</td>\n      <td>NaN</td>\n      <td>NaN</td>\n      <td>NaN</td>\n      <td>NaN</td>\n      <td>NaN</td>\n      <td>NaN</td>\n      <td>NaN</td>\n      <td>NaN</td>\n      <td>...</td>\n      <td>NaN</td>\n      <td>NaN</td>\n      <td>NaN</td>\n      <td>NaN</td>\n      <td>NaN</td>\n      <td>NaN</td>\n      <td>NaN</td>\n      <td>NaN</td>\n      <td>NaN</td>\n      <td>NaN</td>\n    </tr>\n    <tr>\n      <th>47</th>\n      <td>NaN</td>\n      <td>NaN</td>\n      <td>NaN</td>\n      <td>NaN</td>\n      <td>NaN</td>\n      <td>NaN</td>\n      <td>NaN</td>\n      <td>NaN</td>\n      <td>NaN</td>\n      <td>NaN</td>\n      <td>...</td>\n      <td>NaN</td>\n      <td>NaN</td>\n      <td>NaN</td>\n      <td>NaN</td>\n      <td>NaN</td>\n      <td>NaN</td>\n      <td>NaN</td>\n      <td>NaN</td>\n      <td>NaN</td>\n      <td>NaN</td>\n    </tr>\n    <tr>\n      <th>48</th>\n      <td>NaN</td>\n      <td>NaN</td>\n      <td>NaN</td>\n      <td>NaN</td>\n      <td>NaN</td>\n      <td>NaN</td>\n      <td>NaN</td>\n      <td>NaN</td>\n      <td>NaN</td>\n      <td>NaN</td>\n      <td>...</td>\n      <td>NaN</td>\n      <td>NaN</td>\n      <td>NaN</td>\n      <td>NaN</td>\n      <td>NaN</td>\n      <td>NaN</td>\n      <td>NaN</td>\n      <td>NaN</td>\n      <td>NaN</td>\n      <td>NaN</td>\n    </tr>\n    <tr>\n      <th>49</th>\n      <td>NaN</td>\n      <td>NaN</td>\n      <td>NaN</td>\n      <td>NaN</td>\n      <td>NaN</td>\n      <td>NaN</td>\n      <td>NaN</td>\n      <td>NaN</td>\n      <td>NaN</td>\n      <td>NaN</td>\n      <td>...</td>\n      <td>NaN</td>\n      <td>NaN</td>\n      <td>NaN</td>\n      <td>NaN</td>\n      <td>NaN</td>\n      <td>NaN</td>\n      <td>NaN</td>\n      <td>NaN</td>\n      <td>NaN</td>\n      <td>NaN</td>\n    </tr>\n    <tr>\n      <th>50</th>\n      <td>NaN</td>\n      <td>NaN</td>\n      <td>NaN</td>\n      <td>NaN</td>\n      <td>NaN</td>\n      <td>NaN</td>\n      <td>NaN</td>\n      <td>NaN</td>\n      <td>NaN</td>\n      <td>NaN</td>\n      <td>...</td>\n      <td>NaN</td>\n      <td>NaN</td>\n      <td>NaN</td>\n      <td>NaN</td>\n      <td>NaN</td>\n      <td>NaN</td>\n      <td>NaN</td>\n      <td>NaN</td>\n      <td>NaN</td>\n      <td>NaN</td>\n    </tr>\n    <tr>\n      <th>51</th>\n      <td>NaN</td>\n      <td>NaN</td>\n      <td>NaN</td>\n      <td>NaN</td>\n      <td>NaN</td>\n      <td>NaN</td>\n      <td>NaN</td>\n      <td>NaN</td>\n      <td>NaN</td>\n      <td>NaN</td>\n      <td>...</td>\n      <td>NaN</td>\n      <td>NaN</td>\n      <td>NaN</td>\n      <td>NaN</td>\n      <td>NaN</td>\n      <td>NaN</td>\n      <td>NaN</td>\n      <td>NaN</td>\n      <td>NaN</td>\n      <td>NaN</td>\n    </tr>\n    <tr>\n      <th>52</th>\n      <td>NaN</td>\n      <td>NaN</td>\n      <td>NaN</td>\n      <td>NaN</td>\n      <td>NaN</td>\n      <td>NaN</td>\n      <td>NaN</td>\n      <td>NaN</td>\n      <td>NaN</td>\n      <td>NaN</td>\n      <td>...</td>\n      <td>NaN</td>\n      <td>NaN</td>\n      <td>NaN</td>\n      <td>NaN</td>\n      <td>NaN</td>\n      <td>NaN</td>\n      <td>NaN</td>\n      <td>NaN</td>\n      <td>NaN</td>\n      <td>NaN</td>\n    </tr>\n    <tr>\n      <th>53</th>\n      <td>NaN</td>\n      <td>NaN</td>\n      <td>NaN</td>\n      <td>NaN</td>\n      <td>NaN</td>\n      <td>NaN</td>\n      <td>NaN</td>\n      <td>NaN</td>\n      <td>NaN</td>\n      <td>NaN</td>\n      <td>...</td>\n      <td>NaN</td>\n      <td>NaN</td>\n      <td>NaN</td>\n      <td>NaN</td>\n      <td>NaN</td>\n      <td>NaN</td>\n      <td>NaN</td>\n      <td>NaN</td>\n      <td>NaN</td>\n      <td>NaN</td>\n    </tr>\n  </tbody>\n</table>\n<p>54 rows × 53 columns</p>\n</div>"
     },
     "metadata": {}
    }
   ]
  },
  {
   "cell_type": "code",
   "metadata": {
    "cell_id": "e7d201139c0243b2b375252a128d45ec",
    "tags": [],
    "deepnote_to_be_reexecuted": false,
    "source_hash": "ac7ce036",
    "execution_start": 1663220563592,
    "execution_millis": 2175,
    "deepnote_app_coordinates": {
     "x": 0,
     "y": 115,
     "w": 12,
     "h": 5
    },
    "deepnote_cell_type": "code",
    "deepnote_cell_height": 1070.78125,
    "deepnote_output_heights": [
     107.59375,
     null,
     20.1875
    ]
   },
   "source": "df_len_tlc.columns = ready_list\n#plot multiple box plots to compare the distance from tlc to ends between skeleton_ids\nplt.rcParams[\"figure.figsize\"] = [18.50, 3.50]\nplt.rcParams[\"figure.autolayout\"] = True\ndata = df_len_tlc\nax = data[ready_list].plot(kind='box', title='Lengthe between Infiltration points and TLCs')\n\n# Display the plot\nplt.show()\nplt.savefig('len_infil_tlc')\nprint(df_len_tlc)",
   "execution_count": 19,
   "outputs": [
    {
     "data": {
      "text/plain": "<Figure size 1850x350 with 1 Axes>",
      "image/png": "[encoded data removed]"
     },
     "metadata": {
      "image/png": {
       "width": 1837,
       "height": 340
      }
     },
     "output_type": "display_data"
    },
    {
     "name": "stdout",
     "text": "          5587201  5592321        5593092        5592325  3244168  5589256  \\\n0   195988.275949      NaN   84618.433817   97063.479425      NaN      NaN   \n1   171011.273993      NaN   84976.957691   97565.582016      NaN      NaN   \n2   171221.707794      NaN  146840.863958   98182.790861      NaN      NaN   \n3    96760.045387      NaN  144187.539123     805.927465      NaN      NaN   \n4    96199.374146      NaN  143832.222981    9462.833450      NaN      NaN   \n5   196344.042570      NaN  135053.089498   10638.063385      NaN      NaN   \n6   192889.955846      NaN  135426.421260       0.000000      NaN      NaN   \n7   193451.190863      NaN  146478.344152   98459.577300      NaN      NaN   \n8             NaN      NaN            NaN   99859.892623      NaN      NaN   \n9             NaN      NaN            NaN  100071.745006      NaN      NaN   \n10            NaN      NaN            NaN     925.333819      NaN      NaN   \n11            NaN      NaN            NaN    6217.437083      NaN      NaN   \n12            NaN      NaN            NaN    5145.003352      NaN      NaN   \n13            NaN      NaN            NaN    8817.281470      NaN      NaN   \n14            NaN      NaN            NaN       0.000000      NaN      NaN   \n15            NaN      NaN            NaN            NaN      NaN      NaN   \n16            NaN      NaN            NaN            NaN      NaN      NaN   \n17            NaN      NaN            NaN            NaN      NaN      NaN   \n18            NaN      NaN            NaN            NaN      NaN      NaN   \n19            NaN      NaN            NaN            NaN      NaN      NaN   \n20            NaN      NaN            NaN            NaN      NaN      NaN   \n21            NaN      NaN            NaN            NaN      NaN      NaN   \n22            NaN      NaN            NaN            NaN      NaN      NaN   \n23            NaN      NaN            NaN            NaN      NaN      NaN   \n24            NaN      NaN            NaN            NaN      NaN      NaN   \n25            NaN      NaN            NaN            NaN      NaN      NaN   \n26            NaN      NaN            NaN            NaN      NaN      NaN   \n27            NaN      NaN            NaN            NaN      NaN      NaN   \n28            NaN      NaN            NaN            NaN      NaN      NaN   \n29            NaN      NaN            NaN            NaN      NaN      NaN   \n30            NaN      NaN            NaN            NaN      NaN      NaN   \n31            NaN      NaN            NaN            NaN      NaN      NaN   \n32            NaN      NaN            NaN            NaN      NaN      NaN   \n33            NaN      NaN            NaN            NaN      NaN      NaN   \n34            NaN      NaN            NaN            NaN      NaN      NaN   \n35            NaN      NaN            NaN            NaN      NaN      NaN   \n36            NaN      NaN            NaN            NaN      NaN      NaN   \n37            NaN      NaN            NaN            NaN      NaN      NaN   \n38            NaN      NaN            NaN            NaN      NaN      NaN   \n39            NaN      NaN            NaN            NaN      NaN      NaN   \n40            NaN      NaN            NaN            NaN      NaN      NaN   \n41            NaN      NaN            NaN            NaN      NaN      NaN   \n42            NaN      NaN            NaN            NaN      NaN      NaN   \n43            NaN      NaN            NaN            NaN      NaN      NaN   \n44            NaN      NaN            NaN            NaN      NaN      NaN   \n45            NaN      NaN            NaN            NaN      NaN      NaN   \n46            NaN      NaN            NaN            NaN      NaN      NaN   \n47            NaN      NaN            NaN            NaN      NaN      NaN   \n48            NaN      NaN            NaN            NaN      NaN      NaN   \n49            NaN      NaN            NaN            NaN      NaN      NaN   \n50            NaN      NaN            NaN            NaN      NaN      NaN   \n51            NaN      NaN            NaN            NaN      NaN      NaN   \n52            NaN      NaN            NaN            NaN      NaN      NaN   \n53            NaN      NaN            NaN            NaN      NaN      NaN   \n\n          5592848       5598481  5609104        5592725  ...  3244135  \\\n0   212314.360201   9263.175791      NaN  183838.556492  ...      NaN   \n1   144089.325232  14548.985558      NaN  186524.203420  ...      NaN   \n2   144277.894317           NaN      NaN  198562.366479  ...      NaN   \n3   170378.931830           NaN      NaN  202967.645045  ...      NaN   \n4   177711.699682           NaN      NaN  128657.459264  ...      NaN   \n5   172603.262462           NaN      NaN   61758.894919  ...      NaN   \n6   170700.160009           NaN      NaN   62114.411651  ...      NaN   \n7   154735.584674           NaN      NaN  203307.763781  ...      NaN   \n8   157068.258488           NaN      NaN  198813.286497  ...      NaN   \n9   157396.086725           NaN      NaN  184020.124654  ...      NaN   \n10  181750.317512           NaN      NaN  186904.084286  ...      NaN   \n11  154942.523385           NaN      NaN  128198.997780  ...      NaN   \n12  177420.021098           NaN      NaN            NaN  ...      NaN   \n13  181948.129846           NaN      NaN            NaN  ...      NaN   \n14  172162.476033           NaN      NaN            NaN  ...      NaN   \n15  212547.232588           NaN      NaN            NaN  ...      NaN   \n16            NaN           NaN      NaN            NaN  ...      NaN   \n17            NaN           NaN      NaN            NaN  ...      NaN   \n18            NaN           NaN      NaN            NaN  ...      NaN   \n19            NaN           NaN      NaN            NaN  ...      NaN   \n20            NaN           NaN      NaN            NaN  ...      NaN   \n21            NaN           NaN      NaN            NaN  ...      NaN   \n22            NaN           NaN      NaN            NaN  ...      NaN   \n23            NaN           NaN      NaN            NaN  ...      NaN   \n24            NaN           NaN      NaN            NaN  ...      NaN   \n25            NaN           NaN      NaN            NaN  ...      NaN   \n26            NaN           NaN      NaN            NaN  ...      NaN   \n27            NaN           NaN      NaN            NaN  ...      NaN   \n28            NaN           NaN      NaN            NaN  ...      NaN   \n29            NaN           NaN      NaN            NaN  ...      NaN   \n30            NaN           NaN      NaN            NaN  ...      NaN   \n31            NaN           NaN      NaN            NaN  ...      NaN   \n32            NaN           NaN      NaN            NaN  ...      NaN   \n33            NaN           NaN      NaN            NaN  ...      NaN   \n34            NaN           NaN      NaN            NaN  ...      NaN   \n35            NaN           NaN      NaN            NaN  ...      NaN   \n36            NaN           NaN      NaN            NaN  ...      NaN   \n37            NaN           NaN      NaN            NaN  ...      NaN   \n38            NaN           NaN      NaN            NaN  ...      NaN   \n39            NaN           NaN      NaN            NaN  ...      NaN   \n40            NaN           NaN      NaN            NaN  ...      NaN   \n41            NaN           NaN      NaN            NaN  ...      NaN   \n42            NaN           NaN      NaN            NaN  ...      NaN   \n43            NaN           NaN      NaN            NaN  ...      NaN   \n44            NaN           NaN      NaN            NaN  ...      NaN   \n45            NaN           NaN      NaN            NaN  ...      NaN   \n46            NaN           NaN      NaN            NaN  ...      NaN   \n47            NaN           NaN      NaN            NaN  ...      NaN   \n48            NaN           NaN      NaN            NaN  ...      NaN   \n49            NaN           NaN      NaN            NaN  ...      NaN   \n50            NaN           NaN      NaN            NaN  ...      NaN   \n51            NaN           NaN      NaN            NaN  ...      NaN   \n52            NaN           NaN      NaN            NaN  ...      NaN   \n53            NaN           NaN      NaN            NaN  ...      NaN   \n\n          5591402        5596652  5604205        3244145       5608561  \\\n0   139565.818458  218765.040327      NaN  237816.930026  23588.467489   \n1   139917.251604  174337.727501      NaN  237512.767720  24924.047941   \n2   100390.311085  175243.156076      NaN            NaN   8834.429605   \n3   130682.259470  218905.226081      NaN            NaN      0.000000   \n4   104391.657121            NaN      NaN            NaN           NaN   \n5   104616.255836            NaN      NaN            NaN           NaN   \n6   101573.062159            NaN      NaN            NaN           NaN   \n7   130456.288931            NaN      NaN            NaN           NaN   \n8             NaN            NaN      NaN            NaN           NaN   \n9             NaN            NaN      NaN            NaN           NaN   \n10            NaN            NaN      NaN            NaN           NaN   \n11            NaN            NaN      NaN            NaN           NaN   \n12            NaN            NaN      NaN            NaN           NaN   \n13            NaN            NaN      NaN            NaN           NaN   \n14            NaN            NaN      NaN            NaN           NaN   \n15            NaN            NaN      NaN            NaN           NaN   \n16            NaN            NaN      NaN            NaN           NaN   \n17            NaN            NaN      NaN            NaN           NaN   \n18            NaN            NaN      NaN            NaN           NaN   \n19            NaN            NaN      NaN            NaN           NaN   \n20            NaN            NaN      NaN            NaN           NaN   \n21            NaN            NaN      NaN            NaN           NaN   \n22            NaN            NaN      NaN            NaN           NaN   \n23            NaN            NaN      NaN            NaN           NaN   \n24            NaN            NaN      NaN            NaN           NaN   \n25            NaN            NaN      NaN            NaN           NaN   \n26            NaN            NaN      NaN            NaN           NaN   \n27            NaN            NaN      NaN            NaN           NaN   \n28            NaN            NaN      NaN            NaN           NaN   \n29            NaN            NaN      NaN            NaN           NaN   \n30            NaN            NaN      NaN            NaN           NaN   \n31            NaN            NaN      NaN            NaN           NaN   \n32            NaN            NaN      NaN            NaN           NaN   \n33            NaN            NaN      NaN            NaN           NaN   \n34            NaN            NaN      NaN            NaN           NaN   \n35            NaN            NaN      NaN            NaN           NaN   \n36            NaN            NaN      NaN            NaN           NaN   \n37            NaN            NaN      NaN            NaN           NaN   \n38            NaN            NaN      NaN            NaN           NaN   \n39            NaN            NaN      NaN            NaN           NaN   \n40            NaN            NaN      NaN            NaN           NaN   \n41            NaN            NaN      NaN            NaN           NaN   \n42            NaN            NaN      NaN            NaN           NaN   \n43            NaN            NaN      NaN            NaN           NaN   \n44            NaN            NaN      NaN            NaN           NaN   \n45            NaN            NaN      NaN            NaN           NaN   \n46            NaN            NaN      NaN            NaN           NaN   \n47            NaN            NaN      NaN            NaN           NaN   \n48            NaN            NaN      NaN            NaN           NaN   \n49            NaN            NaN      NaN            NaN           NaN   \n50            NaN            NaN      NaN            NaN           NaN   \n51            NaN            NaN      NaN            NaN           NaN   \n52            NaN            NaN      NaN            NaN           NaN   \n53            NaN            NaN      NaN            NaN           NaN   \n\n          5592693  3244150  5593212        3244159  \n0   129158.671177      NaN      NaN  177039.196820  \n1   128876.291040      NaN      NaN  218723.247677  \n2        0.000000      NaN      NaN  166885.822433  \n3   120680.069469      NaN      NaN  167251.611545  \n4   121022.094365      NaN      NaN  218823.622754  \n5             NaN      NaN      NaN  176456.783042  \n6             NaN      NaN      NaN  138320.368923  \n7             NaN      NaN      NaN  137340.470297  \n8             NaN      NaN      NaN            NaN  \n9             NaN      NaN      NaN            NaN  \n10            NaN      NaN      NaN            NaN  \n11            NaN      NaN      NaN            NaN  \n12            NaN      NaN      NaN            NaN  \n13            NaN      NaN      NaN            NaN  \n14            NaN      NaN      NaN            NaN  \n15            NaN      NaN      NaN            NaN  \n16            NaN      NaN      NaN            NaN  \n17            NaN      NaN      NaN            NaN  \n18            NaN      NaN      NaN            NaN  \n19            NaN      NaN      NaN            NaN  \n20            NaN      NaN      NaN            NaN  \n21            NaN      NaN      NaN            NaN  \n22            NaN      NaN      NaN            NaN  \n23            NaN      NaN      NaN            NaN  \n24            NaN      NaN      NaN            NaN  \n25            NaN      NaN      NaN            NaN  \n26            NaN      NaN      NaN            NaN  \n27            NaN      NaN      NaN            NaN  \n28            NaN      NaN      NaN            NaN  \n29            NaN      NaN      NaN            NaN  \n30            NaN      NaN      NaN            NaN  \n31            NaN      NaN      NaN            NaN  \n32            NaN      NaN      NaN            NaN  \n33            NaN      NaN      NaN            NaN  \n34            NaN      NaN      NaN            NaN  \n35            NaN      NaN      NaN            NaN  \n36            NaN      NaN      NaN            NaN  \n37            NaN      NaN      NaN            NaN  \n38            NaN      NaN      NaN            NaN  \n39            NaN      NaN      NaN            NaN  \n40            NaN      NaN      NaN            NaN  \n41            NaN      NaN      NaN            NaN  \n42            NaN      NaN      NaN            NaN  \n43            NaN      NaN      NaN            NaN  \n44            NaN      NaN      NaN            NaN  \n45            NaN      NaN      NaN            NaN  \n46            NaN      NaN      NaN            NaN  \n47            NaN      NaN      NaN            NaN  \n48            NaN      NaN      NaN            NaN  \n49            NaN      NaN      NaN            NaN  \n50            NaN      NaN      NaN            NaN  \n51            NaN      NaN      NaN            NaN  \n52            NaN      NaN      NaN            NaN  \n53            NaN      NaN      NaN            NaN  \n\n[54 rows x 53 columns]\n",
     "output_type": "stream"
    },
    {
     "data": {
      "text/plain": "<Figure size 1850x350 with 0 Axes>"
     },
     "metadata": {},
     "output_type": "display_data"
    }
   ]
  },
  {
   "cell_type": "code",
   "metadata": {
    "cell_id": "43797ffaf2f2461f8a168e1ea4b4a5c7",
    "tags": [],
    "deepnote_to_be_reexecuted": false,
    "source_hash": "ff143fe",
    "execution_start": 1663220564969,
    "execution_millis": 2,
    "deepnote_app_coordinates": {
     "x": 0,
     "y": 121,
     "w": 12,
     "h": 5
    },
    "deepnote_cell_type": "code",
    "deepnote_cell_height": 76
   },
   "source": "import math",
   "execution_count": 20,
   "outputs": []
  },
  {
   "cell_type": "code",
   "metadata": {
    "cell_id": "bcc0b27995834eb3b8df202068859443",
    "tags": [],
    "deepnote_to_be_reexecuted": false,
    "source_hash": "4242cab7",
    "execution_start": 1663220564973,
    "execution_millis": 839,
    "deepnote_app_coordinates": {
     "x": 0,
     "y": 127,
     "w": 12,
     "h": 5
    },
    "deepnote_cell_type": "code",
    "deepnote_cell_height": 1221.421875,
    "deepnote_output_heights": [
     null,
     610
    ]
   },
   "source": "#find all length from infil to nearest tlc\nall_nearest = []\nfor index,len_list in enumerate(all_len):\n    #if the list is not empty (means if the trachea has tlc), \n    #count the min and add it to the list\n    if len(len_list) > 0:\n        nearest = min(len_list)\n        all_nearest.append(nearest)\n    else:\n        print(index)\n        all_nearest.append(-100)\nall_nearest",
   "execution_count": 21,
   "outputs": [
    {
     "name": "stdout",
     "text": "1\n4\n5\n8\n10\n15\n19\n20\n30\n39\n42\n43\n46\n50\n51\n",
     "output_type": "stream"
    },
    {
     "output_type": "execute_result",
     "execution_count": 21,
     "data": {
      "text/plain": "[96199.37414584674,\n -100,\n 84618.4338166791,\n 0,\n -100,\n -100,\n 144089.32523212626,\n 9263.175790515095,\n -100,\n 61758.89491861235,\n -100,\n 122151.6188270031,\n 175029.4275881536,\n 126942.02561166784,\n 79609.5272177695,\n -100,\n 53623.77540419402,\n 168749.47008614536,\n 15713.992224033147,\n -100,\n -100,\n 80798.25234039385,\n 155408.17406273022,\n 159281.70125512694,\n 123373.52143981864,\n 141559.42763366416,\n 108114.23304484517,\n 116097.19587673637,\n 212486.3447126821,\n 217342.25668365005,\n -100,\n 180651.05797393568,\n 161020.1080830938,\n 170346.96149284247,\n 120730.49140744511,\n 157093.65225803587,\n 122576.14093403317,\n 25730.199152966845,\n 150150.53460877985,\n -100,\n 215773.25711280797,\n 35308.827215216385,\n -100,\n -100,\n 100390.31108460158,\n 174337.7275005214,\n -100,\n 237512.76772008644,\n 0,\n 0,\n -100,\n -100,\n 137340.47029693166]"
     },
     "metadata": {}
    }
   ]
  },
  {
   "cell_type": "code",
   "metadata": {
    "cell_id": "19ff7a40c7b6460fb0b6813e80ce30bc",
    "tags": [],
    "deepnote_to_be_reexecuted": false,
    "source_hash": "9405adca",
    "execution_start": 1663220564980,
    "execution_millis": 834,
    "deepnote_app_coordinates": {
     "x": 0,
     "y": 133,
     "w": 12,
     "h": 5
    },
    "deepnote_cell_type": "code",
    "deepnote_cell_height": 130.1875,
    "deepnote_output_heights": [
     20.1875
    ]
   },
   "source": "mean = sum(all_nearest)/len(all_nearest)\nmean",
   "execution_count": 22,
   "outputs": [
    {
     "output_type": "execute_result",
     "execution_count": 22,
     "data": {
      "text/plain": "83767.40858025834"
     },
     "metadata": {}
    }
   ]
  },
  {
   "cell_type": "code",
   "metadata": {
    "cell_id": "84302fa6dc5249c3ac085ae179a0f112",
    "tags": [],
    "deepnote_to_be_reexecuted": false,
    "source_hash": "bd4cfbc",
    "execution_start": 1663220564986,
    "execution_millis": 1189,
    "deepnote_app_coordinates": {
     "x": 0,
     "y": 139,
     "w": 12,
     "h": 5
    },
    "deepnote_cell_type": "code",
    "deepnote_cell_height": 771.8125,
    "deepnote_output_heights": [
     107.59375,
     null,
     20.1875
    ]
   },
   "source": "# Pandas dataframe\n#df = pd.DataFrame(all_distance, index =ready_list,columns =['distance'])\ndf_nearest = pd.DataFrame (all_nearest).transpose()\ndf_nearest.columns = ready_list\n#plot multiple box plots to compare the distance from tlc to ends between skeleton_ids\nplt.rcParams[\"figure.figsize\"] = [18.50, 3.50]\nplt.rcParams[\"figure.autolayout\"] = True\ndata = df_nearest\nax = data[ready_list].plot(kind='box', title='Distance between Infiltration points and ends')\n\n# Display the plot\nplt.show()\nplt.savefig('len_min_tlc')\nprint(df_nearest)",
   "execution_count": 23,
   "outputs": [
    {
     "data": {
      "text/plain": "<Figure size 1850x350 with 1 Axes>",
      "image/png": "[encoded data removed]"
     },
     "metadata": {
      "image/png": {
       "width": 1837,
       "height": 340
      }
     },
     "output_type": "display_data"
    },
    {
     "name": "stdout",
     "text": "        5587201  5592321       5593092  5592325  3244168  5589256  \\\n0  96199.374146   -100.0  84618.433817      0.0   -100.0   -100.0   \n\n         5592848      5598481  5609104       5592725  ...  3244135  \\\n0  144089.325232  9263.175791   -100.0  61758.894919  ...   -100.0   \n\n         5591402        5596652  5604205       3244145  5608561  5592693  \\\n0  100390.311085  174337.727501   -100.0  237512.76772      0.0      0.0   \n\n   3244150  5593212        3244159  \n0   -100.0   -100.0  137340.470297  \n\n[1 rows x 53 columns]\n",
     "output_type": "stream"
    },
    {
     "data": {
      "text/plain": "<Figure size 1850x350 with 0 Axes>"
     },
     "metadata": {},
     "output_type": "display_data"
    }
   ]
  },
  {
   "cell_type": "code",
   "metadata": {
    "cell_id": "15b6919d68984151be6796a59e4ad696",
    "tags": [],
    "deepnote_to_be_reexecuted": false,
    "source_hash": "9a6ea74",
    "execution_start": 1663220566175,
    "execution_millis": 3,
    "deepnote_app_coordinates": {
     "x": 0,
     "y": 145,
     "w": 12,
     "h": 5
    },
    "deepnote_cell_type": "code",
    "deepnote_cell_height": 112.1875,
    "deepnote_output_heights": [
     20.1875
    ]
   },
   "source": "all_nearest[0]",
   "execution_count": 24,
   "outputs": [
    {
     "output_type": "execute_result",
     "execution_count": 24,
     "data": {
      "text/plain": "96199.37414584674"
     },
     "metadata": {}
    }
   ]
  },
  {
   "cell_type": "code",
   "metadata": {
    "cell_id": "233ca1c79b544d5983a3007355da917d",
    "tags": [],
    "deepnote_to_be_reexecuted": false,
    "source_hash": "f4ef9583",
    "execution_start": 1663220566179,
    "execution_millis": 233,
    "deepnote_app_coordinates": {
     "x": 0,
     "y": 151,
     "w": 12,
     "h": 5
    },
    "deepnote_cell_type": "code",
    "deepnote_cell_height": 502.296875,
    "deepnote_output_heights": [
     20.1875,
     251.109375
    ]
   },
   "source": "ratio = []\nfor index in range(len(all_nearest)):\n    tr_ratio = all_nearest[index]/cable_length[index]\n    ratio.append(tr_ratio)\nfig = plt.figure(figsize =(16, 7))\nplt.boxplot(ratio)\nplt.show",
   "execution_count": 25,
   "outputs": [
    {
     "output_type": "execute_result",
     "execution_count": 25,
     "data": {
      "text/plain": "<function matplotlib.pyplot.show(close=None, block=None)>"
     },
     "metadata": {}
    },
    {
     "data": {
      "text/plain": "<Figure size 1600x700 with 1 Axes>",
      "image/png": "[encoded data removed]"
     },
     "metadata": {
      "image/png": {
       "width": 1589,
       "height": 690
      }
     },
     "output_type": "display_data"
    }
   ]
  },
  {
   "cell_type": "code",
   "metadata": {
    "cell_id": "9e505dbacd264f47a25c70578aa1152b",
    "tags": [],
    "deepnote_to_be_reexecuted": false,
    "source_hash": "d525b8cb",
    "execution_start": 1663220566411,
    "execution_millis": 6,
    "deepnote_app_coordinates": {
     "x": 0,
     "y": 157,
     "w": 12,
     "h": 5
    },
    "deepnote_cell_type": "code",
    "deepnote_cell_height": 112.1875,
    "deepnote_output_heights": [
     20.1875
    ]
   },
   "source": "tr_ratio",
   "execution_count": 26,
   "outputs": [
    {
     "output_type": "execute_result",
     "execution_count": 26,
     "data": {
      "text/plain": "0.08074175296537485"
     },
     "metadata": {}
    }
   ]
  },
  {
   "cell_type": "markdown",
   "source": "<a style='text-decoration:none;line-height:16px;display:flex;color:#5B5B62;padding:10px;justify-content:end;' href='https://deepnote.com?utm_source=created-in-deepnote-cell&projectId=8270c951-c93e-4265-b244-d82beb1a1594' target=\"_blank\">\n<img alt='Created in deepnote.com' style='display:inline;max-height:16px;margin:0px;margin-right:7.5px;' src='data:image/svg+xml;base64,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' > </img>\nCreated in <span style='font-weight:600;margin-left:4px;'>Deepnote</span></a>",
   "metadata": {
    "tags": [],
    "created_in_deepnote_cell": true,
    "deepnote_cell_type": "markdown"
   }
  }
 ],
 "nbformat": 4,
 "nbformat_minor": 2,
 "metadata": {
  "orig_nbformat": 2,
  "deepnote": {
   "is_reactive": false
  },
  "deepnote_notebook_id": "56a811f6-62ad-4f95-a89f-6a06ac77b0d3",
  "deepnote_execution_queue": [],
  "deepnote_app_layout": "article"
 }
}